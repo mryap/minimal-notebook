{
 "cells": [
  {
   "cell_type": "markdown",
   "metadata": {},
   "source": [
    "## Exploring Ireland's milk imports and exports\n",
    "\n",
    "by YAP S S, 15 November 2017\n"
   ]
  },
  {
   "cell_type": "markdown",
   "metadata": {},
   "source": [
    "A country's economy depends, sometimes heavily, on its exports and imports. \n",
    "\n",
    "The United Nations Comtrade database provides data on global trade. \n",
    "\n",
    "It will be used to analyse Ireland's imports and exports of milk and cream in 2015:\n",
    "\n",
    "- How much does Ireland export and import and is the balance positive (more exports than imports)? \n",
    "- Which are the main trading partners, i.e. from/to which countries does Ireland import/export the most?\n",
    "- Which are the regular customers, i.e. which countries buy milk from Ireland every month?\n",
    "- Which countries does Ireland both import from and export to?"
   ]
  },
  {
   "cell_type": "code",
   "execution_count": 1,
   "metadata": {
    "activity": false
   },
   "outputs": [],
   "source": [
    "import warnings\n",
    "warnings.simplefilter('ignore', FutureWarning)\n",
    "\n",
    "from pandas import *\n",
    "%matplotlib inline"
   ]
  },
  {
   "cell_type": "markdown",
   "metadata": {},
   "source": [
    "## Getting and preparing the data\n",
    "\n",
    "The data is obtained from the [United Nations Comtrade](http://comtrade.un.org/data/) website, by selecting the following :\n",
    "\n",
    "- Type of Product: goods\n",
    "- Frequency: monthly \n",
    "- Periods: 2015\n",
    "- Reporter: Ireland\n",
    "- Partners: all\n",
    "- Flows: imports and exports\n",
    "- HS (as reported) commodity codes: 0401 (Milk and cream, neither concentrated nor sweetened) and 0402 (Milk and cream, concentrated or sweetened)\n",
    "\n",
    "Clicking on 'Preview' results in a message that the data exceeds 500 rows. \n",
    "\n",
    " Data was downloaded using the Download CSV button and the download file renamed appropriately.\n",
    "\n"
   ]
  },
  {
   "cell_type": "code",
   "execution_count": 2,
   "metadata": {},
   "outputs": [],
   "source": [
    "LOCATION = 'comtrade_milk_irl_2015.csv'"
   ]
  },
  {
   "cell_type": "markdown",
   "metadata": {},
   "source": [
    "## Accessing data through APIs"
   ]
  },
  {
   "cell_type": "markdown",
   "metadata": {},
   "source": [
    "The data can also be downloaded directly from Comtrade using the \"View API Call\" URL, modified in two ways:\n",
    "\n",
    "- `max=500` is increased to `max=5000` to make sure all data is loaded,\n",
    "- `&fmt=csv` is added at the end to obtain the data in CSV format."
   ]
  },
  {
   "cell_type": "code",
   "execution_count": 3,
   "metadata": {},
   "outputs": [],
   "source": [
    " LOCATION = 'http://comtrade.un.org/api/get?max=5000&type=C&freq=M&px=HS&ps=2015&r=372&p=all&rg=1%2C2&cc=0401%2C0402&fmt=csv'"
   ]
  },
  {
   "cell_type": "markdown",
   "metadata": {},
   "source": [
    "On reading in the data, the commodity code has to be read as a string, to not lose the leading zero."
   ]
  },
  {
   "cell_type": "code",
   "execution_count": 4,
   "metadata": {
    "activity": false
   },
   "outputs": [
    {
     "data": {
      "text/html": [
       "<div>\n",
       "<table border=\"1\" class=\"dataframe\">\n",
       "  <thead>\n",
       "    <tr style=\"text-align: right;\">\n",
       "      <th></th>\n",
       "      <th>Classification</th>\n",
       "      <th>Year</th>\n",
       "      <th>Period</th>\n",
       "      <th>Period Desc.</th>\n",
       "      <th>Aggregate Level</th>\n",
       "      <th>Is Leaf Code</th>\n",
       "      <th>Trade Flow Code</th>\n",
       "      <th>Trade Flow</th>\n",
       "      <th>Reporter Code</th>\n",
       "      <th>Reporter</th>\n",
       "      <th>...</th>\n",
       "      <th>Qty</th>\n",
       "      <th>Alt Qty Unit Code</th>\n",
       "      <th>Alt Qty Unit</th>\n",
       "      <th>Alt Qty</th>\n",
       "      <th>Netweight (kg)</th>\n",
       "      <th>Gross weight (kg)</th>\n",
       "      <th>Trade Value (US$)</th>\n",
       "      <th>CIF Trade Value (US$)</th>\n",
       "      <th>FOB Trade Value (US$)</th>\n",
       "      <th>Flag</th>\n",
       "    </tr>\n",
       "  </thead>\n",
       "  <tbody>\n",
       "    <tr>\n",
       "      <th>826</th>\n",
       "      <td>HS</td>\n",
       "      <td>2015</td>\n",
       "      <td>201512</td>\n",
       "      <td>December 2015</td>\n",
       "      <td>4</td>\n",
       "      <td>0</td>\n",
       "      <td>2</td>\n",
       "      <td>Exports</td>\n",
       "      <td>372</td>\n",
       "      <td>Ireland</td>\n",
       "      <td>...</td>\n",
       "      <td>NaN</td>\n",
       "      <td>NaN</td>\n",
       "      <td>NaN</td>\n",
       "      <td>NaN</td>\n",
       "      <td>114000</td>\n",
       "      <td>NaN</td>\n",
       "      <td>269075</td>\n",
       "      <td>NaN</td>\n",
       "      <td>NaN</td>\n",
       "      <td>0</td>\n",
       "    </tr>\n",
       "    <tr>\n",
       "      <th>827</th>\n",
       "      <td>HS</td>\n",
       "      <td>2015</td>\n",
       "      <td>201512</td>\n",
       "      <td>December 2015</td>\n",
       "      <td>4</td>\n",
       "      <td>0</td>\n",
       "      <td>1</td>\n",
       "      <td>Imports</td>\n",
       "      <td>372</td>\n",
       "      <td>Ireland</td>\n",
       "      <td>...</td>\n",
       "      <td>NaN</td>\n",
       "      <td>NaN</td>\n",
       "      <td>NaN</td>\n",
       "      <td>NaN</td>\n",
       "      <td>70</td>\n",
       "      <td>NaN</td>\n",
       "      <td>573</td>\n",
       "      <td>NaN</td>\n",
       "      <td>NaN</td>\n",
       "      <td>0</td>\n",
       "    </tr>\n",
       "    <tr>\n",
       "      <th>828</th>\n",
       "      <td>HS</td>\n",
       "      <td>2015</td>\n",
       "      <td>201512</td>\n",
       "      <td>December 2015</td>\n",
       "      <td>4</td>\n",
       "      <td>0</td>\n",
       "      <td>2</td>\n",
       "      <td>Exports</td>\n",
       "      <td>372</td>\n",
       "      <td>Ireland</td>\n",
       "      <td>...</td>\n",
       "      <td>NaN</td>\n",
       "      <td>NaN</td>\n",
       "      <td>NaN</td>\n",
       "      <td>NaN</td>\n",
       "      <td>24</td>\n",
       "      <td>NaN</td>\n",
       "      <td>54</td>\n",
       "      <td>NaN</td>\n",
       "      <td>NaN</td>\n",
       "      <td>0</td>\n",
       "    </tr>\n",
       "    <tr>\n",
       "      <th>829</th>\n",
       "      <td>HS</td>\n",
       "      <td>2015</td>\n",
       "      <td>201512</td>\n",
       "      <td>December 2015</td>\n",
       "      <td>4</td>\n",
       "      <td>0</td>\n",
       "      <td>2</td>\n",
       "      <td>Exports</td>\n",
       "      <td>372</td>\n",
       "      <td>Ireland</td>\n",
       "      <td>...</td>\n",
       "      <td>NaN</td>\n",
       "      <td>NaN</td>\n",
       "      <td>NaN</td>\n",
       "      <td>NaN</td>\n",
       "      <td>50000</td>\n",
       "      <td>NaN</td>\n",
       "      <td>125085</td>\n",
       "      <td>NaN</td>\n",
       "      <td>NaN</td>\n",
       "      <td>0</td>\n",
       "    </tr>\n",
       "    <tr>\n",
       "      <th>830</th>\n",
       "      <td>HS</td>\n",
       "      <td>2015</td>\n",
       "      <td>201512</td>\n",
       "      <td>December 2015</td>\n",
       "      <td>4</td>\n",
       "      <td>0</td>\n",
       "      <td>1</td>\n",
       "      <td>Imports</td>\n",
       "      <td>372</td>\n",
       "      <td>Ireland</td>\n",
       "      <td>...</td>\n",
       "      <td>NaN</td>\n",
       "      <td>NaN</td>\n",
       "      <td>NaN</td>\n",
       "      <td>NaN</td>\n",
       "      <td>21013</td>\n",
       "      <td>NaN</td>\n",
       "      <td>38192</td>\n",
       "      <td>NaN</td>\n",
       "      <td>NaN</td>\n",
       "      <td>0</td>\n",
       "    </tr>\n",
       "  </tbody>\n",
       "</table>\n",
       "<p>5 rows × 35 columns</p>\n",
       "</div>"
      ],
      "text/plain": [
       "    Classification  Year  Period   Period Desc.  Aggregate Level  \\\n",
       "826             HS  2015  201512  December 2015                4   \n",
       "827             HS  2015  201512  December 2015                4   \n",
       "828             HS  2015  201512  December 2015                4   \n",
       "829             HS  2015  201512  December 2015                4   \n",
       "830             HS  2015  201512  December 2015                4   \n",
       "\n",
       "     Is Leaf Code  Trade Flow Code Trade Flow  Reporter Code Reporter  ...   \\\n",
       "826             0                2    Exports            372  Ireland  ...    \n",
       "827             0                1    Imports            372  Ireland  ...    \n",
       "828             0                2    Exports            372  Ireland  ...    \n",
       "829             0                2    Exports            372  Ireland  ...    \n",
       "830             0                1    Imports            372  Ireland  ...    \n",
       "\n",
       "     Qty  Alt Qty Unit Code Alt Qty Unit  Alt Qty  Netweight (kg)  \\\n",
       "826  NaN                NaN          NaN      NaN          114000   \n",
       "827  NaN                NaN          NaN      NaN              70   \n",
       "828  NaN                NaN          NaN      NaN              24   \n",
       "829  NaN                NaN          NaN      NaN           50000   \n",
       "830  NaN                NaN          NaN      NaN           21013   \n",
       "\n",
       "     Gross weight (kg)  Trade Value (US$)  CIF Trade Value (US$)  \\\n",
       "826                NaN             269075                    NaN   \n",
       "827                NaN                573                    NaN   \n",
       "828                NaN                 54                    NaN   \n",
       "829                NaN             125085                    NaN   \n",
       "830                NaN              38192                    NaN   \n",
       "\n",
       "     FOB Trade Value (US$)  Flag  \n",
       "826                    NaN     0  \n",
       "827                    NaN     0  \n",
       "828                    NaN     0  \n",
       "829                    NaN     0  \n",
       "830                    NaN     0  \n",
       "\n",
       "[5 rows x 35 columns]"
      ]
     },
     "execution_count": 4,
     "metadata": {},
     "output_type": "execute_result"
    }
   ],
   "source": [
    "milk = read_csv(LOCATION, dtype={'Commodity Code':str})\n",
    "milk\n",
    "milk.tail()"
   ]
  },
  {
   "cell_type": "code",
   "execution_count": 5,
   "metadata": {},
   "outputs": [
    {
     "data": {
      "text/html": [
       "<div>\n",
       "<table border=\"1\" class=\"dataframe\">\n",
       "  <thead>\n",
       "    <tr style=\"text-align: right;\">\n",
       "      <th></th>\n",
       "      <th>Classification</th>\n",
       "      <th>Year</th>\n",
       "      <th>Period</th>\n",
       "      <th>Period Desc.</th>\n",
       "      <th>Aggregate Level</th>\n",
       "      <th>Is Leaf Code</th>\n",
       "      <th>Trade Flow Code</th>\n",
       "      <th>Trade Flow</th>\n",
       "      <th>Reporter Code</th>\n",
       "      <th>Reporter</th>\n",
       "      <th>...</th>\n",
       "      <th>Qty</th>\n",
       "      <th>Alt Qty Unit Code</th>\n",
       "      <th>Alt Qty Unit</th>\n",
       "      <th>Alt Qty</th>\n",
       "      <th>Netweight (kg)</th>\n",
       "      <th>Gross weight (kg)</th>\n",
       "      <th>Trade Value (US$)</th>\n",
       "      <th>CIF Trade Value (US$)</th>\n",
       "      <th>FOB Trade Value (US$)</th>\n",
       "      <th>Flag</th>\n",
       "    </tr>\n",
       "  </thead>\n",
       "  <tbody>\n",
       "    <tr>\n",
       "      <th>0</th>\n",
       "      <td>HS</td>\n",
       "      <td>2015</td>\n",
       "      <td>201501</td>\n",
       "      <td>January 2015</td>\n",
       "      <td>4</td>\n",
       "      <td>0</td>\n",
       "      <td>2</td>\n",
       "      <td>Exports</td>\n",
       "      <td>372</td>\n",
       "      <td>Ireland</td>\n",
       "      <td>...</td>\n",
       "      <td>NaN</td>\n",
       "      <td>NaN</td>\n",
       "      <td>NaN</td>\n",
       "      <td>NaN</td>\n",
       "      <td>8763469</td>\n",
       "      <td>NaN</td>\n",
       "      <td>3712609</td>\n",
       "      <td>NaN</td>\n",
       "      <td>NaN</td>\n",
       "      <td>0</td>\n",
       "    </tr>\n",
       "    <tr>\n",
       "      <th>1</th>\n",
       "      <td>HS</td>\n",
       "      <td>2015</td>\n",
       "      <td>201512</td>\n",
       "      <td>December 2015</td>\n",
       "      <td>4</td>\n",
       "      <td>0</td>\n",
       "      <td>1</td>\n",
       "      <td>Imports</td>\n",
       "      <td>372</td>\n",
       "      <td>Ireland</td>\n",
       "      <td>...</td>\n",
       "      <td>NaN</td>\n",
       "      <td>NaN</td>\n",
       "      <td>NaN</td>\n",
       "      <td>NaN</td>\n",
       "      <td>3918</td>\n",
       "      <td>NaN</td>\n",
       "      <td>5160</td>\n",
       "      <td>NaN</td>\n",
       "      <td>NaN</td>\n",
       "      <td>0</td>\n",
       "    </tr>\n",
       "    <tr>\n",
       "      <th>2</th>\n",
       "      <td>HS</td>\n",
       "      <td>2015</td>\n",
       "      <td>201512</td>\n",
       "      <td>December 2015</td>\n",
       "      <td>4</td>\n",
       "      <td>0</td>\n",
       "      <td>2</td>\n",
       "      <td>Exports</td>\n",
       "      <td>372</td>\n",
       "      <td>Ireland</td>\n",
       "      <td>...</td>\n",
       "      <td>NaN</td>\n",
       "      <td>NaN</td>\n",
       "      <td>NaN</td>\n",
       "      <td>NaN</td>\n",
       "      <td>22248</td>\n",
       "      <td>NaN</td>\n",
       "      <td>21928</td>\n",
       "      <td>NaN</td>\n",
       "      <td>NaN</td>\n",
       "      <td>0</td>\n",
       "    </tr>\n",
       "    <tr>\n",
       "      <th>3</th>\n",
       "      <td>HS</td>\n",
       "      <td>2015</td>\n",
       "      <td>201512</td>\n",
       "      <td>December 2015</td>\n",
       "      <td>4</td>\n",
       "      <td>0</td>\n",
       "      <td>1</td>\n",
       "      <td>Imports</td>\n",
       "      <td>372</td>\n",
       "      <td>Ireland</td>\n",
       "      <td>...</td>\n",
       "      <td>NaN</td>\n",
       "      <td>NaN</td>\n",
       "      <td>NaN</td>\n",
       "      <td>NaN</td>\n",
       "      <td>3439</td>\n",
       "      <td>NaN</td>\n",
       "      <td>33668</td>\n",
       "      <td>NaN</td>\n",
       "      <td>NaN</td>\n",
       "      <td>0</td>\n",
       "    </tr>\n",
       "    <tr>\n",
       "      <th>4</th>\n",
       "      <td>HS</td>\n",
       "      <td>2015</td>\n",
       "      <td>201512</td>\n",
       "      <td>December 2015</td>\n",
       "      <td>4</td>\n",
       "      <td>0</td>\n",
       "      <td>1</td>\n",
       "      <td>Imports</td>\n",
       "      <td>372</td>\n",
       "      <td>Ireland</td>\n",
       "      <td>...</td>\n",
       "      <td>NaN</td>\n",
       "      <td>NaN</td>\n",
       "      <td>NaN</td>\n",
       "      <td>NaN</td>\n",
       "      <td>1188</td>\n",
       "      <td>NaN</td>\n",
       "      <td>5505</td>\n",
       "      <td>NaN</td>\n",
       "      <td>NaN</td>\n",
       "      <td>0</td>\n",
       "    </tr>\n",
       "  </tbody>\n",
       "</table>\n",
       "<p>5 rows × 35 columns</p>\n",
       "</div>"
      ],
      "text/plain": [
       "  Classification  Year  Period   Period Desc.  Aggregate Level  Is Leaf Code  \\\n",
       "0             HS  2015  201501   January 2015                4             0   \n",
       "1             HS  2015  201512  December 2015                4             0   \n",
       "2             HS  2015  201512  December 2015                4             0   \n",
       "3             HS  2015  201512  December 2015                4             0   \n",
       "4             HS  2015  201512  December 2015                4             0   \n",
       "\n",
       "   Trade Flow Code Trade Flow  Reporter Code Reporter  ...   Qty  \\\n",
       "0                2    Exports            372  Ireland  ...   NaN   \n",
       "1                1    Imports            372  Ireland  ...   NaN   \n",
       "2                2    Exports            372  Ireland  ...   NaN   \n",
       "3                1    Imports            372  Ireland  ...   NaN   \n",
       "4                1    Imports            372  Ireland  ...   NaN   \n",
       "\n",
       "   Alt Qty Unit Code Alt Qty Unit  Alt Qty  Netweight (kg)  Gross weight (kg)  \\\n",
       "0                NaN          NaN      NaN         8763469                NaN   \n",
       "1                NaN          NaN      NaN            3918                NaN   \n",
       "2                NaN          NaN      NaN           22248                NaN   \n",
       "3                NaN          NaN      NaN            3439                NaN   \n",
       "4                NaN          NaN      NaN            1188                NaN   \n",
       "\n",
       "   Trade Value (US$)  CIF Trade Value (US$)  FOB Trade Value (US$)  Flag  \n",
       "0            3712609                    NaN                    NaN     0  \n",
       "1               5160                    NaN                    NaN     0  \n",
       "2              21928                    NaN                    NaN     0  \n",
       "3              33668                    NaN                    NaN     0  \n",
       "4               5505                    NaN                    NaN     0  \n",
       "\n",
       "[5 rows x 35 columns]"
      ]
     },
     "execution_count": 5,
     "metadata": {},
     "output_type": "execute_result"
    }
   ],
   "source": [
    "milk.head()"
   ]
  },
  {
   "cell_type": "markdown",
   "metadata": {},
   "source": [
    "The data only covers the 12 months of 2015. \n",
    "\n",
    "Most columns are irrelevant for this analysis, or contain always the same value, like the year and reporter columns. \n",
    "\n",
    "The commodity code is transformed into a short but descriptive text and only the relevant columns are selected."
   ]
  },
  {
   "cell_type": "code",
   "execution_count": 6,
   "metadata": {
    "activity": false
   },
   "outputs": [
    {
     "data": {
      "text/html": [
       "<div>\n",
       "<table border=\"1\" class=\"dataframe\">\n",
       "  <thead>\n",
       "    <tr style=\"text-align: right;\">\n",
       "      <th></th>\n",
       "      <th>Period</th>\n",
       "      <th>Partner</th>\n",
       "      <th>Trade Flow</th>\n",
       "      <th>Milk and cream</th>\n",
       "      <th>Trade Value (US$)</th>\n",
       "    </tr>\n",
       "  </thead>\n",
       "  <tbody>\n",
       "    <tr>\n",
       "      <th>0</th>\n",
       "      <td>201501</td>\n",
       "      <td>World</td>\n",
       "      <td>Exports</td>\n",
       "      <td>unprocessed</td>\n",
       "      <td>3712609</td>\n",
       "    </tr>\n",
       "    <tr>\n",
       "      <th>1</th>\n",
       "      <td>201512</td>\n",
       "      <td>Lithuania</td>\n",
       "      <td>Imports</td>\n",
       "      <td>unprocessed</td>\n",
       "      <td>5160</td>\n",
       "    </tr>\n",
       "    <tr>\n",
       "      <th>2</th>\n",
       "      <td>201512</td>\n",
       "      <td>Mauritius</td>\n",
       "      <td>Exports</td>\n",
       "      <td>unprocessed</td>\n",
       "      <td>21928</td>\n",
       "    </tr>\n",
       "    <tr>\n",
       "      <th>3</th>\n",
       "      <td>201512</td>\n",
       "      <td>Other Asia, nes</td>\n",
       "      <td>Imports</td>\n",
       "      <td>unprocessed</td>\n",
       "      <td>33668</td>\n",
       "    </tr>\n",
       "    <tr>\n",
       "      <th>4</th>\n",
       "      <td>201512</td>\n",
       "      <td>Netherlands</td>\n",
       "      <td>Imports</td>\n",
       "      <td>unprocessed</td>\n",
       "      <td>5505</td>\n",
       "    </tr>\n",
       "  </tbody>\n",
       "</table>\n",
       "</div>"
      ],
      "text/plain": [
       "   Period          Partner Trade Flow Milk and cream  Trade Value (US$)\n",
       "0  201501            World    Exports    unprocessed            3712609\n",
       "1  201512        Lithuania    Imports    unprocessed               5160\n",
       "2  201512        Mauritius    Exports    unprocessed              21928\n",
       "3  201512  Other Asia, nes    Imports    unprocessed              33668\n",
       "4  201512      Netherlands    Imports    unprocessed               5505"
      ]
     },
     "execution_count": 6,
     "metadata": {},
     "output_type": "execute_result"
    }
   ],
   "source": [
    "def milkType(code):\n",
    "    if code == '0401': # neither concentrated nor sweetened\n",
    "        return 'unprocessed'\n",
    "    if code == '0402': # concentrated or sweetened\n",
    "        return 'processed' \n",
    "    return 'unknown'\n",
    "\n",
    "COMMODITY = 'Milk and cream'\n",
    "milk[COMMODITY] = milk['Commodity Code'].apply(milkType)\n",
    "MONTH = 'Period'\n",
    "PARTNER = 'Partner'\n",
    "FLOW = 'Trade Flow'\n",
    "VALUE = 'Trade Value (US$)'\n",
    "headings = [MONTH, PARTNER, FLOW, COMMODITY, VALUE]\n",
    "milk = milk[headings]\n",
    "milk.head()"
   ]
  },
  {
   "cell_type": "markdown",
   "metadata": {},
   "source": [
    "The data contains the total imports and exports per month, under the 'World' partner. Those rows are removed to keep only the per-country data."
   ]
  },
  {
   "cell_type": "code",
   "execution_count": 7,
   "metadata": {
    "activity": false
   },
   "outputs": [
    {
     "data": {
      "text/html": [
       "<div>\n",
       "<table border=\"1\" class=\"dataframe\">\n",
       "  <thead>\n",
       "    <tr style=\"text-align: right;\">\n",
       "      <th></th>\n",
       "      <th>Period</th>\n",
       "      <th>Partner</th>\n",
       "      <th>Trade Flow</th>\n",
       "      <th>Milk and cream</th>\n",
       "      <th>Trade Value (US$)</th>\n",
       "    </tr>\n",
       "  </thead>\n",
       "  <tbody>\n",
       "    <tr>\n",
       "      <th>1</th>\n",
       "      <td>201512</td>\n",
       "      <td>Lithuania</td>\n",
       "      <td>Imports</td>\n",
       "      <td>unprocessed</td>\n",
       "      <td>5160</td>\n",
       "    </tr>\n",
       "    <tr>\n",
       "      <th>2</th>\n",
       "      <td>201512</td>\n",
       "      <td>Mauritius</td>\n",
       "      <td>Exports</td>\n",
       "      <td>unprocessed</td>\n",
       "      <td>21928</td>\n",
       "    </tr>\n",
       "    <tr>\n",
       "      <th>3</th>\n",
       "      <td>201512</td>\n",
       "      <td>Other Asia, nes</td>\n",
       "      <td>Imports</td>\n",
       "      <td>unprocessed</td>\n",
       "      <td>33668</td>\n",
       "    </tr>\n",
       "    <tr>\n",
       "      <th>4</th>\n",
       "      <td>201512</td>\n",
       "      <td>Netherlands</td>\n",
       "      <td>Imports</td>\n",
       "      <td>unprocessed</td>\n",
       "      <td>5505</td>\n",
       "    </tr>\n",
       "    <tr>\n",
       "      <th>5</th>\n",
       "      <td>201512</td>\n",
       "      <td>Poland</td>\n",
       "      <td>Imports</td>\n",
       "      <td>unprocessed</td>\n",
       "      <td>99642</td>\n",
       "    </tr>\n",
       "  </tbody>\n",
       "</table>\n",
       "</div>"
      ],
      "text/plain": [
       "   Period          Partner Trade Flow Milk and cream  Trade Value (US$)\n",
       "1  201512        Lithuania    Imports    unprocessed               5160\n",
       "2  201512        Mauritius    Exports    unprocessed              21928\n",
       "3  201512  Other Asia, nes    Imports    unprocessed              33668\n",
       "4  201512      Netherlands    Imports    unprocessed               5505\n",
       "5  201512           Poland    Imports    unprocessed              99642"
      ]
     },
     "execution_count": 7,
     "metadata": {},
     "output_type": "execute_result"
    }
   ],
   "source": [
    "milk = milk[milk[PARTNER] != 'World']\n",
    "milk.head()"
   ]
  },
  {
   "cell_type": "markdown",
   "metadata": {},
   "source": [
    "## Total trade flow\n",
    "\n",
    "To answer the first question, \n",
    "\n",
    "'how much does Ireland export and import and is the balance positive (more exports than imports)?',\n",
    "the dataframe is split into two groups: exports from Ireland and imports into Ireland. \n",
    "\n",
    "The  trade values within each group are summed up to get the total trading."
   ]
  },
  {
   "cell_type": "code",
   "execution_count": 8,
   "metadata": {
    "activity": false
   },
   "outputs": [
    {
     "data": {
      "text/plain": [
       "Trade Flow\n",
       "Exports    282903797\n",
       "Imports    271542101\n",
       "Name: Trade Value (US$), dtype: int64"
      ]
     },
     "execution_count": 8,
     "metadata": {},
     "output_type": "execute_result"
    }
   ],
   "source": [
    "grouped = milk.groupby([FLOW])\n",
    "grouped[VALUE].aggregate(sum)"
   ]
  },
  {
   "cell_type": "markdown",
   "metadata": {},
   "source": [
    "This shows a trade surplus of over 10 million dollars."
   ]
  },
  {
   "cell_type": "markdown",
   "metadata": {},
   "source": [
    "## Main Trading Partners\n",
    "\n",
    "To address the second question, 'Which are the main trading partners, i.e. from/to which countries does the UK import/export the most?', the dataframe is split by country instead, and then each group aggregated for the total trade value. This is done separately for imports and exports. The result is sorted in descending order so that the main partners are at the top."
   ]
  },
  {
   "cell_type": "code",
   "execution_count": 9,
   "metadata": {
    "activity": false
   },
   "outputs": [
    {
     "name": "stdout",
     "output_type": "stream",
     "text": [
      "Ireland imports from 32 countries.\n",
      "The 5 biggest exporters to Ireland are:\n"
     ]
    },
    {
     "data": {
      "text/plain": [
       "Partner\n",
       "United Kingdom    228299661\n",
       "Germany            17917254\n",
       "Denmark            12294790\n",
       "Finland             6637666\n",
       "Netherlands         1910700\n",
       "Name: Trade Value (US$), dtype: int64"
      ]
     },
     "execution_count": 9,
     "metadata": {},
     "output_type": "execute_result"
    }
   ],
   "source": [
    "imports = milk[milk[FLOW] == 'Imports']\n",
    "grouped = imports.groupby([PARTNER])\n",
    "print('Ireland imports from', len(grouped), 'countries.')\n",
    "print('The 5 biggest exporters to Ireland are:')\n",
    "totalImports = grouped[VALUE].aggregate(sum).sort(inplace=False,ascending=False)\n",
    "totalImports.head()"
   ]
  },
  {
   "cell_type": "markdown",
   "metadata": {},
   "source": [
    "The export values can be plotted as a bar chart, making differences between countries easier to see."
   ]
  },
  {
   "cell_type": "code",
   "execution_count": 10,
   "metadata": {},
   "outputs": [
    {
     "data": {
      "image/png": "[encoded data removed]",
      "text/plain": [
       "<matplotlib.figure.Figure at 0xb7f5ab8d30>"
      ]
     },
     "metadata": {},
     "output_type": "display_data"
    }
   ],
   "source": [
    "totalImports.head(7).plot(kind='barh');"
   ]
  },
  {
   "cell_type": "code",
   "execution_count": 11,
   "metadata": {
    "activity": false
   },
   "outputs": [
    {
     "name": "stdout",
     "output_type": "stream",
     "text": [
      "Ireland exports to 82 countries.\n",
      "The 5 biggest importers from Ireland are:\n"
     ]
    },
    {
     "data": {
      "text/plain": [
       "Partner\n",
       "United Kingdom    77790928\n",
       "Netherlands       34171710\n",
       "Nigeria           19715359\n",
       "Germany           16595152\n",
       "China             15071834\n",
       "Name: Trade Value (US$), dtype: int64"
      ]
     },
     "execution_count": 11,
     "metadata": {},
     "output_type": "execute_result"
    }
   ],
   "source": [
    "exports = milk[milk[FLOW] == 'Exports']\n",
    "grouped = exports.groupby([PARTNER])\n",
    "print('Ireland exports to', len(grouped), 'countries.')\n",
    "print('The 5 biggest importers from Ireland are:')\n",
    "grouped[VALUE].aggregate(sum).order(ascending=False).head()"
   ]
  },
  {
   "cell_type": "markdown",
   "metadata": {},
   "source": [
    "## Regular importers\n",
    "\n",
    "Given that there are two commodities, the third question, \n",
    "\n",
    "'Which are the regular customers, i.e. which countries buy milk from Ireland every month?', is meant in the sense that a regular customer imports both commodities every month. \n",
    "\n",
    "This means that if the exports dataframe is grouped by country, each group has exactly ten rows (two commodities bought each of the 12 months). \n",
    "\n",
    "To see the countries, only the first month of one commodity has to be listed, as by definition it's the same countries every month and for the other commodity."
   ]
  },
  {
   "cell_type": "code",
   "execution_count": 12,
   "metadata": {
    "activity": false
   },
   "outputs": [
    {
     "data": {
      "text/html": [
       "<div>\n",
       "<table border=\"1\" class=\"dataframe\">\n",
       "  <thead>\n",
       "    <tr style=\"text-align: right;\">\n",
       "      <th></th>\n",
       "      <th>Period</th>\n",
       "      <th>Partner</th>\n",
       "      <th>Trade Flow</th>\n",
       "      <th>Milk and cream</th>\n",
       "      <th>Trade Value (US$)</th>\n",
       "    </tr>\n",
       "  </thead>\n",
       "  <tbody>\n",
       "  </tbody>\n",
       "</table>\n",
       "</div>"
      ],
      "text/plain": [
       "Empty DataFrame\n",
       "Columns: [Period, Partner, Trade Flow, Milk and cream, Trade Value (US$)]\n",
       "Index: []"
      ]
     },
     "execution_count": 12,
     "metadata": {},
     "output_type": "execute_result"
    }
   ],
   "source": [
    "def buysEveryMonth(group):\n",
    "    return len(group) == 10\n",
    "\n",
    "grouped = exports.groupby([PARTNER])\n",
    "regular = grouped.filter(buysEveryMonth)\n",
    "regular[(regular[MONTH] == 2015) & (regular[COMMODITY] == 'processed')]"
   ]
  },
  {
   "cell_type": "markdown",
   "metadata": {},
   "source": [
    "Just over 75% of the total Ireland exports are due to these regular customers."
   ]
  },
  {
   "cell_type": "code",
   "execution_count": 13,
   "metadata": {
    "activity": false
   },
   "outputs": [
    {
     "data": {
      "text/plain": [
       "0.8685447229964184"
      ]
     },
     "execution_count": 13,
     "metadata": {},
     "output_type": "execute_result"
    }
   ],
   "source": [
    "regular[VALUE].sum() / exports[VALUE].sum() *100"
   ]
  },
  {
   "cell_type": "markdown",
   "metadata": {},
   "source": [
    "## Bi-directional trade\n",
    "\n",
    "To address the fourth question, \n",
    "\n",
    "'Which countries does Ireland both import from and export to?', \n",
    "\n",
    "a pivot table is used to list the total export and import value for each country. "
   ]
  },
  {
   "cell_type": "code",
   "execution_count": 14,
   "metadata": {
    "activity": false
   },
   "outputs": [
    {
     "data": {
      "text/html": [
       "<div>\n",
       "<table border=\"1\" class=\"dataframe\">\n",
       "  <thead>\n",
       "    <tr style=\"text-align: right;\">\n",
       "      <th>Trade Flow</th>\n",
       "      <th>Exports</th>\n",
       "      <th>Imports</th>\n",
       "    </tr>\n",
       "    <tr>\n",
       "      <th>Partner</th>\n",
       "      <th></th>\n",
       "      <th></th>\n",
       "    </tr>\n",
       "  </thead>\n",
       "  <tbody>\n",
       "    <tr>\n",
       "      <th>Afghanistan</th>\n",
       "      <td>59403.0</td>\n",
       "      <td>NaN</td>\n",
       "    </tr>\n",
       "    <tr>\n",
       "      <th>Algeria</th>\n",
       "      <td>9262229.0</td>\n",
       "      <td>NaN</td>\n",
       "    </tr>\n",
       "    <tr>\n",
       "      <th>Angola</th>\n",
       "      <td>1564766.0</td>\n",
       "      <td>NaN</td>\n",
       "    </tr>\n",
       "    <tr>\n",
       "      <th>Areas, nes</th>\n",
       "      <td>NaN</td>\n",
       "      <td>181975.0</td>\n",
       "    </tr>\n",
       "    <tr>\n",
       "      <th>Australia</th>\n",
       "      <td>497400.0</td>\n",
       "      <td>NaN</td>\n",
       "    </tr>\n",
       "  </tbody>\n",
       "</table>\n",
       "</div>"
      ],
      "text/plain": [
       "Trade Flow     Exports   Imports\n",
       "Partner                         \n",
       "Afghanistan    59403.0       NaN\n",
       "Algeria      9262229.0       NaN\n",
       "Angola       1564766.0       NaN\n",
       "Areas, nes         NaN  181975.0\n",
       "Australia     497400.0       NaN"
      ]
     },
     "execution_count": 14,
     "metadata": {},
     "output_type": "execute_result"
    }
   ],
   "source": [
    "countries = pivot_table(milk, index=[PARTNER], columns=[FLOW], \n",
    "                        values=VALUE, aggfunc=sum)\n",
    "countries.head()"
   ]
  },
  {
   "cell_type": "markdown",
   "metadata": {},
   "source": [
    "Removing the rows with a missing value will result in only those countries with bi-directional trade flow with the UK."
   ]
  },
  {
   "cell_type": "code",
   "execution_count": 15,
   "metadata": {
    "activity": false
   },
   "outputs": [
    {
     "data": {
      "text/html": [
       "<div>\n",
       "<table border=\"1\" class=\"dataframe\">\n",
       "  <thead>\n",
       "    <tr style=\"text-align: right;\">\n",
       "      <th>Trade Flow</th>\n",
       "      <th>Exports</th>\n",
       "      <th>Imports</th>\n",
       "    </tr>\n",
       "    <tr>\n",
       "      <th>Partner</th>\n",
       "      <th></th>\n",
       "      <th></th>\n",
       "    </tr>\n",
       "  </thead>\n",
       "  <tbody>\n",
       "    <tr>\n",
       "      <th>Austria</th>\n",
       "      <td>2507205.0</td>\n",
       "      <td>451069.0</td>\n",
       "    </tr>\n",
       "    <tr>\n",
       "      <th>Belgium</th>\n",
       "      <td>554056.0</td>\n",
       "      <td>476394.0</td>\n",
       "    </tr>\n",
       "    <tr>\n",
       "      <th>China</th>\n",
       "      <td>15071834.0</td>\n",
       "      <td>335.0</td>\n",
       "    </tr>\n",
       "    <tr>\n",
       "      <th>Denmark</th>\n",
       "      <td>73088.0</td>\n",
       "      <td>12294790.0</td>\n",
       "    </tr>\n",
       "    <tr>\n",
       "      <th>France</th>\n",
       "      <td>3466379.0</td>\n",
       "      <td>568584.0</td>\n",
       "    </tr>\n",
       "    <tr>\n",
       "      <th>Germany</th>\n",
       "      <td>16595152.0</td>\n",
       "      <td>17917254.0</td>\n",
       "    </tr>\n",
       "    <tr>\n",
       "      <th>Greece</th>\n",
       "      <td>82458.0</td>\n",
       "      <td>1608.0</td>\n",
       "    </tr>\n",
       "    <tr>\n",
       "      <th>Hungary</th>\n",
       "      <td>43610.0</td>\n",
       "      <td>11812.0</td>\n",
       "    </tr>\n",
       "    <tr>\n",
       "      <th>Italy</th>\n",
       "      <td>5582776.0</td>\n",
       "      <td>246097.0</td>\n",
       "    </tr>\n",
       "    <tr>\n",
       "      <th>Kenya</th>\n",
       "      <td>1051152.0</td>\n",
       "      <td>5463.0</td>\n",
       "    </tr>\n",
       "    <tr>\n",
       "      <th>Netherlands</th>\n",
       "      <td>34171710.0</td>\n",
       "      <td>1910700.0</td>\n",
       "    </tr>\n",
       "    <tr>\n",
       "      <th>New Zealand</th>\n",
       "      <td>1562043.0</td>\n",
       "      <td>24010.0</td>\n",
       "    </tr>\n",
       "    <tr>\n",
       "      <th>Nigeria</th>\n",
       "      <td>19715359.0</td>\n",
       "      <td>1730.0</td>\n",
       "    </tr>\n",
       "    <tr>\n",
       "      <th>Other Asia, nes</th>\n",
       "      <td>377847.0</td>\n",
       "      <td>550028.0</td>\n",
       "    </tr>\n",
       "    <tr>\n",
       "      <th>Poland</th>\n",
       "      <td>1680163.0</td>\n",
       "      <td>1457232.0</td>\n",
       "    </tr>\n",
       "    <tr>\n",
       "      <th>Saudi Arabia</th>\n",
       "      <td>3467142.0</td>\n",
       "      <td>19.0</td>\n",
       "    </tr>\n",
       "    <tr>\n",
       "      <th>Singapore</th>\n",
       "      <td>5599868.0</td>\n",
       "      <td>213.0</td>\n",
       "    </tr>\n",
       "    <tr>\n",
       "      <th>South Africa</th>\n",
       "      <td>705160.0</td>\n",
       "      <td>191.0</td>\n",
       "    </tr>\n",
       "    <tr>\n",
       "      <th>Spain</th>\n",
       "      <td>3654281.0</td>\n",
       "      <td>10768.0</td>\n",
       "    </tr>\n",
       "    <tr>\n",
       "      <th>United Kingdom</th>\n",
       "      <td>77790928.0</td>\n",
       "      <td>228299661.0</td>\n",
       "    </tr>\n",
       "    <tr>\n",
       "      <th>United States of America</th>\n",
       "      <td>7191.0</td>\n",
       "      <td>9339.0</td>\n",
       "    </tr>\n",
       "  </tbody>\n",
       "</table>\n",
       "</div>"
      ],
      "text/plain": [
       "Trade Flow                   Exports      Imports\n",
       "Partner                                          \n",
       "Austria                    2507205.0     451069.0\n",
       "Belgium                     554056.0     476394.0\n",
       "China                     15071834.0        335.0\n",
       "Denmark                      73088.0   12294790.0\n",
       "France                     3466379.0     568584.0\n",
       "Germany                   16595152.0   17917254.0\n",
       "Greece                       82458.0       1608.0\n",
       "Hungary                      43610.0      11812.0\n",
       "Italy                      5582776.0     246097.0\n",
       "Kenya                      1051152.0       5463.0\n",
       "Netherlands               34171710.0    1910700.0\n",
       "New Zealand                1562043.0      24010.0\n",
       "Nigeria                   19715359.0       1730.0\n",
       "Other Asia, nes             377847.0     550028.0\n",
       "Poland                     1680163.0    1457232.0\n",
       "Saudi Arabia               3467142.0         19.0\n",
       "Singapore                  5599868.0        213.0\n",
       "South Africa                705160.0        191.0\n",
       "Spain                      3654281.0      10768.0\n",
       "United Kingdom            77790928.0  228299661.0\n",
       "United States of America      7191.0       9339.0"
      ]
     },
     "execution_count": 15,
     "metadata": {},
     "output_type": "execute_result"
    }
   ],
   "source": [
    "countries.dropna()"
   ]
  },
  {
   "cell_type": "markdown",
   "metadata": {},
   "source": [
    "## Conclusions\n",
    "\n",
    "The diary trade of Ireland from January to Dec 2015 was analysed in terms of which countries Ireland mostly depends on for income (exports) and goods (imports). \n",
    "\n",
    "Over the period, Ireland had a trade surplus of over 10 million US dollars.\n",
    "\n",
    "UK is the main partner, but it imported from the UK almost the triple in value than it exported to the UK. \n",
    "\n",
    "Ireland exported to over 80 countries during the period, but only imported from 21 countries, the main ones (top five by trade value) being geographically close.  \n",
    "\n",
    "Ireland is heavily dependent on its regular customers, the 21 countries that buy all types of milk and cream every month. They contribute three quarters of the total export value.\n",
    "\n",
    "Ireland has bi-directional trade (i.e. both exports and imports) with 21 countries."
   ]
  },
  {
   "cell_type": "code",
   "execution_count": null,
   "metadata": {},
   "outputs": [],
   "source": []
  }
 ],
 "metadata": {
  "kernelspec": {
   "display_name": "Python 3",
   "language": "python",
   "name": "python3"
  },
  "language_info": {
   "codemirror_mode": {
    "name": "ipython",
    "version": 3
   },
   "file_extension": ".py",
   "mimetype": "text/x-python",
   "name": "python",
   "nbconvert_exporter": "python",
   "pygments_lexer": "ipython3",
   "version": "3.5.3"
  }
 },
 "nbformat": 4,
 "nbformat_minor": 2
}

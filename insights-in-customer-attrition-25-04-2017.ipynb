{
 "cells": [
  {
   "cell_type": "markdown",
   "metadata": {},
   "source": [
    "Source: https://datascienceplus.com/using-mca-and-variable-clustering-in-r-for-insights-in-customer-attrition/"
   ]
  },
  {
   "cell_type": "markdown",
   "metadata": {},
   "source": [
    "Load Packages"
   ]
  },
  {
   "cell_type": "code",
   "execution_count": 13,
   "metadata": {},
   "outputs": [
    {
     "name": "stderr",
     "output_type": "stream",
     "text": [
      "Loading required package: caret\n",
      "Loading required package: lattice\n",
      "Loading required package: ggplot2\n",
      "Loading required package: plyr\n",
      "------------------------------------------------------------------------------\n",
      "You have loaded plyr after dplyr - this is likely to cause problems.\n",
      "If you need functions from both plyr and dplyr, please load plyr first, then dplyr:\n",
      "library(plyr); library(dplyr)\n",
      "------------------------------------------------------------------------------\n",
      "\n",
      "Attaching package: 'plyr'\n",
      "\n",
      "The following objects are masked from 'package:dplyr':\n",
      "\n",
      "    arrange, count, desc, failwith, id, mutate, rename, summarise,\n",
      "    summarize\n",
      "\n",
      "Loading required package: car\n",
      "\n",
      "Attaching package: 'car'\n",
      "\n",
      "The following object is masked from 'package:dplyr':\n",
      "\n",
      "    recode\n",
      "\n",
      "Loading required package: reshape2\n"
     ]
    }
   ],
   "source": [
    "require(caret)\n",
    "require(plyr)\n",
    "require(car)\n",
    "require(dplyr)\n",
    "require(reshape2)\n",
    "theme_set(theme_bw(12))"
   ]
  },
  {
   "cell_type": "code",
   "execution_count": 12,
   "metadata": {},
   "outputs": [
    {
     "name": "stderr",
     "output_type": "stream",
     "text": [
      "also installing the dependencies 'numDeriv', 'colorspace', 'lava', 'kernlab', 'CVST', 'DEoptimR', 'RColorBrewer', 'dichromat', 'munsell', 'labeling', 'viridisLite', 'prodlim', 'DRR', 'robustbase', 'minqa', 'nloptr', 'RcppEigen', 'gtable', 'scales', 'lazyeval', 'iterators', 'ipred', 'dimRed', 'lubridate', 'timeDate', 'ddalpha', 'purrr', 'gower', 'RcppRoll', 'tidyselect', 'lme4', 'SparseM', 'MatrixModels', 'ggplot2', 'foreach', 'ModelMetrics', 'reshape2', 'recipes', 'pbkrtest', 'quantreg'\n",
      "\n"
     ]
    },
    {
     "name": "stdout",
     "output_type": "stream",
     "text": [
      "package 'numDeriv' successfully unpacked and MD5 sums checked\n",
      "package 'colorspace' successfully unpacked and MD5 sums checked\n",
      "package 'lava' successfully unpacked and MD5 sums checked\n",
      "package 'kernlab' successfully unpacked and MD5 sums checked\n",
      "package 'CVST' successfully unpacked and MD5 sums checked\n",
      "package 'DEoptimR' successfully unpacked and MD5 sums checked\n",
      "package 'RColorBrewer' successfully unpacked and MD5 sums checked\n",
      "package 'dichromat' successfully unpacked and MD5 sums checked\n",
      "package 'munsell' successfully unpacked and MD5 sums checked\n",
      "package 'labeling' successfully unpacked and MD5 sums checked\n",
      "package 'viridisLite' successfully unpacked and MD5 sums checked\n",
      "package 'prodlim' successfully unpacked and MD5 sums checked\n",
      "package 'DRR' successfully unpacked and MD5 sums checked\n",
      "package 'robustbase' successfully unpacked and MD5 sums checked\n",
      "package 'minqa' successfully unpacked and MD5 sums checked\n",
      "package 'nloptr' successfully unpacked and MD5 sums checked\n",
      "package 'RcppEigen' successfully unpacked and MD5 sums checked\n",
      "package 'gtable' successfully unpacked and MD5 sums checked\n",
      "package 'scales' successfully unpacked and MD5 sums checked\n",
      "package 'lazyeval' successfully unpacked and MD5 sums checked\n",
      "package 'iterators' successfully unpacked and MD5 sums checked\n",
      "package 'ipred' successfully unpacked and MD5 sums checked\n",
      "package 'dimRed' successfully unpacked and MD5 sums checked\n",
      "package 'lubridate' successfully unpacked and MD5 sums checked\n",
      "package 'timeDate' successfully unpacked and MD5 sums checked\n",
      "package 'ddalpha' successfully unpacked and MD5 sums checked\n",
      "package 'purrr' successfully unpacked and MD5 sums checked\n",
      "package 'gower' successfully unpacked and MD5 sums checked\n",
      "package 'RcppRoll' successfully unpacked and MD5 sums checked\n",
      "package 'tidyselect' successfully unpacked and MD5 sums checked\n",
      "package 'lme4' successfully unpacked and MD5 sums checked\n",
      "package 'SparseM' successfully unpacked and MD5 sums checked\n",
      "package 'MatrixModels' successfully unpacked and MD5 sums checked\n",
      "package 'ggplot2' successfully unpacked and MD5 sums checked\n",
      "package 'foreach' successfully unpacked and MD5 sums checked\n",
      "package 'ModelMetrics' successfully unpacked and MD5 sums checked\n",
      "package 'reshape2' successfully unpacked and MD5 sums checked\n",
      "package 'recipes' successfully unpacked and MD5 sums checked\n",
      "package 'pbkrtest' successfully unpacked and MD5 sums checked\n",
      "package 'quantreg' successfully unpacked and MD5 sums checked\n",
      "package 'caret' successfully unpacked and MD5 sums checked\n",
      "package 'plyr' successfully unpacked and MD5 sums checked\n",
      "package 'car' successfully unpacked and MD5 sums checked\n",
      "package 'reshape' successfully unpacked and MD5 sums checked\n",
      "\n",
      "The downloaded binary packages are in\n",
      "\tC:\\Users\\mryapss\\AppData\\Local\\Temp\\Rtmps5BoCf\\downloaded_packages\n"
     ]
    }
   ],
   "source": [
    "install.packages(c('caret', 'plyr',  'car','reshape'), repos='https://cran.rstudio.com/') "
   ]
  },
  {
   "cell_type": "code",
   "execution_count": 9,
   "metadata": {
    "collapsed": true
   },
   "outputs": [],
   "source": [
    "churn <- read.table(\"WA_Fn-UseC_-Telco-Customer-Churn.csv\", sep=\",\", header=TRUE)\n",
    "## inspect data dimensions and structure"
   ]
  },
  {
   "cell_type": "code",
   "execution_count": 4,
   "metadata": {},
   "outputs": [
    {
     "name": "stdout",
     "output_type": "stream",
     "text": [
      "'data.frame':\t7043 obs. of  21 variables:\n",
      " $ ï..customerID   : Factor w/ 7043 levels \"0002-ORFBO\",\"0003-MKNFE\",..: 5376 3963 2565 5536 6512 6552 1003 4771 5605 4535 ...\n",
      " $ gender          : Factor w/ 2 levels \"Female\",\"Male\": 1 2 2 2 1 1 2 1 1 2 ...\n",
      " $ SeniorCitizen   : int  0 0 0 0 0 0 0 0 0 0 ...\n",
      " $ Partner         : Factor w/ 2 levels \"No\",\"Yes\": 2 1 1 1 1 1 1 1 2 1 ...\n",
      " $ Dependents      : Factor w/ 2 levels \"No\",\"Yes\": 1 1 1 1 1 1 2 1 1 2 ...\n",
      " $ tenure          : int  1 34 2 45 2 8 22 10 28 62 ...\n",
      " $ PhoneService    : Factor w/ 2 levels \"No\",\"Yes\": 1 2 2 1 2 2 2 1 2 2 ...\n",
      " $ MultipleLines   : Factor w/ 3 levels \"No\",\"No phone service\",..: 2 1 1 2 1 3 3 2 3 1 ...\n",
      " $ InternetService : Factor w/ 3 levels \"DSL\",\"Fiber optic\",..: 1 1 1 1 2 2 2 1 2 1 ...\n",
      " $ OnlineSecurity  : Factor w/ 3 levels \"No\",\"No internet service\",..: 1 3 3 3 1 1 1 3 1 3 ...\n",
      " $ OnlineBackup    : Factor w/ 3 levels \"No\",\"No internet service\",..: 3 1 3 1 1 1 3 1 1 3 ...\n",
      " $ DeviceProtection: Factor w/ 3 levels \"No\",\"No internet service\",..: 1 3 1 3 1 3 1 1 3 1 ...\n",
      " $ TechSupport     : Factor w/ 3 levels \"No\",\"No internet service\",..: 1 1 1 3 1 1 1 1 3 1 ...\n",
      " $ StreamingTV     : Factor w/ 3 levels \"No\",\"No internet service\",..: 1 1 1 1 1 3 3 1 3 1 ...\n",
      " $ StreamingMovies : Factor w/ 3 levels \"No\",\"No internet service\",..: 1 1 1 1 1 3 1 1 3 1 ...\n",
      " $ Contract        : Factor w/ 3 levels \"Month-to-month\",..: 1 2 1 2 1 1 1 1 1 2 ...\n",
      " $ PaperlessBilling: Factor w/ 2 levels \"No\",\"Yes\": 2 1 2 1 2 2 2 1 2 1 ...\n",
      " $ PaymentMethod   : Factor w/ 4 levels \"Bank transfer (automatic)\",..: 3 4 4 1 3 3 2 4 3 1 ...\n",
      " $ MonthlyCharges  : num  29.9 57 53.9 42.3 70.7 ...\n",
      " $ TotalCharges    : num  29.9 1889.5 108.2 1840.8 151.7 ...\n",
      " $ Churn           : Factor w/ 2 levels \"No\",\"Yes\": 1 1 2 1 2 2 1 1 2 1 ...\n"
     ]
    }
   ],
   "source": [
    "## inspect data dimensions and structure\n",
    "str(churn)"
   ]
  },
  {
   "cell_type": "code",
   "execution_count": 6,
   "metadata": {},
   "outputs": [
    {
     "data": {
      "text/html": [
       "<ol class=list-inline>\n",
       "\t<li>7043</li>\n",
       "\t<li>21</li>\n",
       "</ol>\n"
      ],
      "text/latex": [
       "\\begin{enumerate*}\n",
       "\\item 7043\n",
       "\\item 21\n",
       "\\end{enumerate*}\n"
      ],
      "text/markdown": [
       "1. 7043\n",
       "2. 21\n",
       "\n",
       "\n"
      ],
      "text/plain": [
       "[1] 7043   21"
      ]
     },
     "metadata": {},
     "output_type": "display_data"
    }
   ],
   "source": [
    "dim(churn)"
   ]
  },
  {
   "cell_type": "markdown",
   "metadata": {},
   "source": [
    "use head(x=DATA, n=NUMROWS) and tail()<br/>\n",
    "commands to inspect the beginning and end of the data frame"
   ]
  },
  {
   "cell_type": "code",
   "execution_count": 7,
   "metadata": {},
   "outputs": [
    {
     "data": {
      "text/html": [
       "<table>\n",
       "<thead><tr><th scope=col>ï..customerID</th><th scope=col>gender</th><th scope=col>SeniorCitizen</th><th scope=col>Partner</th><th scope=col>Dependents</th><th scope=col>tenure</th><th scope=col>PhoneService</th><th scope=col>MultipleLines</th><th scope=col>InternetService</th><th scope=col>OnlineSecurity</th><th scope=col>...</th><th scope=col>DeviceProtection</th><th scope=col>TechSupport</th><th scope=col>StreamingTV</th><th scope=col>StreamingMovies</th><th scope=col>Contract</th><th scope=col>PaperlessBilling</th><th scope=col>PaymentMethod</th><th scope=col>MonthlyCharges</th><th scope=col>TotalCharges</th><th scope=col>Churn</th></tr></thead>\n",
       "<tbody>\n",
       "\t<tr><td>7590-VHVEG               </td><td>Female                   </td><td>0                        </td><td>Yes                      </td><td>No                       </td><td> 1                       </td><td>No                       </td><td>No phone service         </td><td>DSL                      </td><td>No                       </td><td>...                      </td><td>No                       </td><td>No                       </td><td>No                       </td><td>No                       </td><td>Month-to-month           </td><td>Yes                      </td><td>Electronic check         </td><td> 29.85                   </td><td>  29.85                  </td><td>No                       </td></tr>\n",
       "\t<tr><td>5575-GNVDE               </td><td>Male                     </td><td>0                        </td><td>No                       </td><td>No                       </td><td>34                       </td><td>Yes                      </td><td>No                       </td><td>DSL                      </td><td>Yes                      </td><td>...                      </td><td>Yes                      </td><td>No                       </td><td>No                       </td><td>No                       </td><td>One year                 </td><td>No                       </td><td>Mailed check             </td><td> 56.95                   </td><td>1889.50                  </td><td>No                       </td></tr>\n",
       "\t<tr><td>3668-QPYBK               </td><td>Male                     </td><td>0                        </td><td>No                       </td><td>No                       </td><td> 2                       </td><td>Yes                      </td><td>No                       </td><td>DSL                      </td><td>Yes                      </td><td>...                      </td><td>No                       </td><td>No                       </td><td>No                       </td><td>No                       </td><td>Month-to-month           </td><td>Yes                      </td><td>Mailed check             </td><td> 53.85                   </td><td> 108.15                  </td><td>Yes                      </td></tr>\n",
       "\t<tr><td>7795-CFOCW               </td><td>Male                     </td><td>0                        </td><td>No                       </td><td>No                       </td><td>45                       </td><td>No                       </td><td>No phone service         </td><td>DSL                      </td><td>Yes                      </td><td>...                      </td><td>Yes                      </td><td>Yes                      </td><td>No                       </td><td>No                       </td><td>One year                 </td><td>No                       </td><td>Bank transfer (automatic)</td><td> 42.30                   </td><td>1840.75                  </td><td>No                       </td></tr>\n",
       "\t<tr><td>9237-HQITU               </td><td>Female                   </td><td>0                        </td><td>No                       </td><td>No                       </td><td> 2                       </td><td>Yes                      </td><td>No                       </td><td>Fiber optic              </td><td>No                       </td><td>...                      </td><td>No                       </td><td>No                       </td><td>No                       </td><td>No                       </td><td>Month-to-month           </td><td>Yes                      </td><td>Electronic check         </td><td> 70.70                   </td><td> 151.65                  </td><td>Yes                      </td></tr>\n",
       "\t<tr><td>9305-CDSKC               </td><td>Female                   </td><td>0                        </td><td>No                       </td><td>No                       </td><td> 8                       </td><td>Yes                      </td><td>Yes                      </td><td>Fiber optic              </td><td>No                       </td><td>...                      </td><td>Yes                      </td><td>No                       </td><td>Yes                      </td><td>Yes                      </td><td>Month-to-month           </td><td>Yes                      </td><td>Electronic check         </td><td> 99.65                   </td><td> 820.50                  </td><td>Yes                      </td></tr>\n",
       "\t<tr><td>1452-KIOVK               </td><td>Male                     </td><td>0                        </td><td>No                       </td><td>Yes                      </td><td>22                       </td><td>Yes                      </td><td>Yes                      </td><td>Fiber optic              </td><td>No                       </td><td>...                      </td><td>No                       </td><td>No                       </td><td>Yes                      </td><td>No                       </td><td>Month-to-month           </td><td>Yes                      </td><td>Credit card (automatic)  </td><td> 89.10                   </td><td>1949.40                  </td><td>No                       </td></tr>\n",
       "\t<tr><td>6713-OKOMC               </td><td>Female                   </td><td>0                        </td><td>No                       </td><td>No                       </td><td>10                       </td><td>No                       </td><td>No phone service         </td><td>DSL                      </td><td>Yes                      </td><td>...                      </td><td>No                       </td><td>No                       </td><td>No                       </td><td>No                       </td><td>Month-to-month           </td><td>No                       </td><td>Mailed check             </td><td> 29.75                   </td><td> 301.90                  </td><td>No                       </td></tr>\n",
       "\t<tr><td>7892-POOKP               </td><td>Female                   </td><td>0                        </td><td>Yes                      </td><td>No                       </td><td>28                       </td><td>Yes                      </td><td>Yes                      </td><td>Fiber optic              </td><td>No                       </td><td>...                      </td><td>Yes                      </td><td>Yes                      </td><td>Yes                      </td><td>Yes                      </td><td>Month-to-month           </td><td>Yes                      </td><td>Electronic check         </td><td>104.80                   </td><td>3046.05                  </td><td>Yes                      </td></tr>\n",
       "\t<tr><td>6388-TABGU               </td><td>Male                     </td><td>0                        </td><td>No                       </td><td>Yes                      </td><td>62                       </td><td>Yes                      </td><td>No                       </td><td>DSL                      </td><td>Yes                      </td><td>...                      </td><td>No                       </td><td>No                       </td><td>No                       </td><td>No                       </td><td>One year                 </td><td>No                       </td><td>Bank transfer (automatic)</td><td> 56.15                   </td><td>3487.95                  </td><td>No                       </td></tr>\n",
       "\t<tr><td>9763-GRSKD               </td><td>Male                     </td><td>0                        </td><td>Yes                      </td><td>Yes                      </td><td>13                       </td><td>Yes                      </td><td>No                       </td><td>DSL                      </td><td>Yes                      </td><td>...                      </td><td>No                       </td><td>No                       </td><td>No                       </td><td>No                       </td><td>Month-to-month           </td><td>Yes                      </td><td>Mailed check             </td><td> 49.95                   </td><td> 587.45                  </td><td>No                       </td></tr>\n",
       "\t<tr><td>7469-LKBCI               </td><td>Male                     </td><td>0                        </td><td>No                       </td><td>No                       </td><td>16                       </td><td>Yes                      </td><td>No                       </td><td>No                       </td><td>No internet service      </td><td>...                      </td><td>No internet service      </td><td>No internet service      </td><td>No internet service      </td><td>No internet service      </td><td>Two year                 </td><td>No                       </td><td>Credit card (automatic)  </td><td> 18.95                   </td><td> 326.80                  </td><td>No                       </td></tr>\n",
       "\t<tr><td>8091-TTVAX               </td><td>Male                     </td><td>0                        </td><td>Yes                      </td><td>No                       </td><td>58                       </td><td>Yes                      </td><td>Yes                      </td><td>Fiber optic              </td><td>No                       </td><td>...                      </td><td>Yes                      </td><td>No                       </td><td>Yes                      </td><td>Yes                      </td><td>One year                 </td><td>No                       </td><td>Credit card (automatic)  </td><td>100.35                   </td><td>5681.10                  </td><td>No                       </td></tr>\n",
       "\t<tr><td>0280-XJGEX               </td><td>Male                     </td><td>0                        </td><td>No                       </td><td>No                       </td><td>49                       </td><td>Yes                      </td><td>Yes                      </td><td>Fiber optic              </td><td>No                       </td><td>...                      </td><td>Yes                      </td><td>No                       </td><td>Yes                      </td><td>Yes                      </td><td>Month-to-month           </td><td>Yes                      </td><td>Bank transfer (automatic)</td><td>103.70                   </td><td>5036.30                  </td><td>Yes                      </td></tr>\n",
       "\t<tr><td>5129-JLPIS               </td><td>Male                     </td><td>0                        </td><td>No                       </td><td>No                       </td><td>25                       </td><td>Yes                      </td><td>No                       </td><td>Fiber optic              </td><td>Yes                      </td><td>...                      </td><td>Yes                      </td><td>Yes                      </td><td>Yes                      </td><td>Yes                      </td><td>Month-to-month           </td><td>Yes                      </td><td>Electronic check         </td><td>105.50                   </td><td>2686.05                  </td><td>No                       </td></tr>\n",
       "\t<tr><td>3655-SNQYZ               </td><td>Female                   </td><td>0                        </td><td>Yes                      </td><td>Yes                      </td><td>69                       </td><td>Yes                      </td><td>Yes                      </td><td>Fiber optic              </td><td>Yes                      </td><td>...                      </td><td>Yes                      </td><td>Yes                      </td><td>Yes                      </td><td>Yes                      </td><td>Two year                 </td><td>No                       </td><td>Credit card (automatic)  </td><td>113.25                   </td><td>7895.15                  </td><td>No                       </td></tr>\n",
       "\t<tr><td>8191-XWSZG               </td><td>Female                   </td><td>0                        </td><td>No                       </td><td>No                       </td><td>52                       </td><td>Yes                      </td><td>No                       </td><td>No                       </td><td>No internet service      </td><td>...                      </td><td>No internet service      </td><td>No internet service      </td><td>No internet service      </td><td>No internet service      </td><td>One year                 </td><td>No                       </td><td>Mailed check             </td><td> 20.65                   </td><td>1022.95                  </td><td>No                       </td></tr>\n",
       "\t<tr><td>9959-WOFKT               </td><td>Male                     </td><td>0                        </td><td>No                       </td><td>Yes                      </td><td>71                       </td><td>Yes                      </td><td>Yes                      </td><td>Fiber optic              </td><td>Yes                      </td><td>...                      </td><td>Yes                      </td><td>No                       </td><td>Yes                      </td><td>Yes                      </td><td>Two year                 </td><td>No                       </td><td>Bank transfer (automatic)</td><td>106.70                   </td><td>7382.25                  </td><td>No                       </td></tr>\n",
       "\t<tr><td>4190-MFLUW               </td><td>Female                   </td><td>0                        </td><td>Yes                      </td><td>Yes                      </td><td>10                       </td><td>Yes                      </td><td>No                       </td><td>DSL                      </td><td>No                       </td><td>...                      </td><td>Yes                      </td><td>Yes                      </td><td>No                       </td><td>No                       </td><td>Month-to-month           </td><td>No                       </td><td>Credit card (automatic)  </td><td> 55.20                   </td><td> 528.35                  </td><td>Yes                      </td></tr>\n",
       "\t<tr><td>4183-MYFRB               </td><td>Female                   </td><td>0                        </td><td>No                       </td><td>No                       </td><td>21                       </td><td>Yes                      </td><td>No                       </td><td>Fiber optic              </td><td>No                       </td><td>...                      </td><td>Yes                      </td><td>No                       </td><td>No                       </td><td>Yes                      </td><td>Month-to-month           </td><td>Yes                      </td><td>Electronic check         </td><td> 90.05                   </td><td>1862.90                  </td><td>No                       </td></tr>\n",
       "</tbody>\n",
       "</table>\n"
      ],
      "text/latex": [
       "\\begin{tabular}{r|lllllllllllllllllllll}\n",
       " ï..customerID & gender & SeniorCitizen & Partner & Dependents & tenure & PhoneService & MultipleLines & InternetService & OnlineSecurity & ... & DeviceProtection & TechSupport & StreamingTV & StreamingMovies & Contract & PaperlessBilling & PaymentMethod & MonthlyCharges & TotalCharges & Churn\\\\\n",
       "\\hline\n",
       "\t 7590-VHVEG                & Female                    & 0                         & Yes                       & No                        &  1                        & No                        & No phone service          & DSL                       & No                        & ...                       & No                        & No                        & No                        & No                        & Month-to-month            & Yes                       & Electronic check          &  29.85                    &   29.85                   & No                       \\\\\n",
       "\t 5575-GNVDE                & Male                      & 0                         & No                        & No                        & 34                        & Yes                       & No                        & DSL                       & Yes                       & ...                       & Yes                       & No                        & No                        & No                        & One year                  & No                        & Mailed check              &  56.95                    & 1889.50                   & No                       \\\\\n",
       "\t 3668-QPYBK                & Male                      & 0                         & No                        & No                        &  2                        & Yes                       & No                        & DSL                       & Yes                       & ...                       & No                        & No                        & No                        & No                        & Month-to-month            & Yes                       & Mailed check              &  53.85                    &  108.15                   & Yes                      \\\\\n",
       "\t 7795-CFOCW                & Male                      & 0                         & No                        & No                        & 45                        & No                        & No phone service          & DSL                       & Yes                       & ...                       & Yes                       & Yes                       & No                        & No                        & One year                  & No                        & Bank transfer (automatic) &  42.30                    & 1840.75                   & No                       \\\\\n",
       "\t 9237-HQITU                & Female                    & 0                         & No                        & No                        &  2                        & Yes                       & No                        & Fiber optic               & No                        & ...                       & No                        & No                        & No                        & No                        & Month-to-month            & Yes                       & Electronic check          &  70.70                    &  151.65                   & Yes                      \\\\\n",
       "\t 9305-CDSKC                & Female                    & 0                         & No                        & No                        &  8                        & Yes                       & Yes                       & Fiber optic               & No                        & ...                       & Yes                       & No                        & Yes                       & Yes                       & Month-to-month            & Yes                       & Electronic check          &  99.65                    &  820.50                   & Yes                      \\\\\n",
       "\t 1452-KIOVK                & Male                      & 0                         & No                        & Yes                       & 22                        & Yes                       & Yes                       & Fiber optic               & No                        & ...                       & No                        & No                        & Yes                       & No                        & Month-to-month            & Yes                       & Credit card (automatic)   &  89.10                    & 1949.40                   & No                       \\\\\n",
       "\t 6713-OKOMC                & Female                    & 0                         & No                        & No                        & 10                        & No                        & No phone service          & DSL                       & Yes                       & ...                       & No                        & No                        & No                        & No                        & Month-to-month            & No                        & Mailed check              &  29.75                    &  301.90                   & No                       \\\\\n",
       "\t 7892-POOKP                & Female                    & 0                         & Yes                       & No                        & 28                        & Yes                       & Yes                       & Fiber optic               & No                        & ...                       & Yes                       & Yes                       & Yes                       & Yes                       & Month-to-month            & Yes                       & Electronic check          & 104.80                    & 3046.05                   & Yes                      \\\\\n",
       "\t 6388-TABGU                & Male                      & 0                         & No                        & Yes                       & 62                        & Yes                       & No                        & DSL                       & Yes                       & ...                       & No                        & No                        & No                        & No                        & One year                  & No                        & Bank transfer (automatic) &  56.15                    & 3487.95                   & No                       \\\\\n",
       "\t 9763-GRSKD                & Male                      & 0                         & Yes                       & Yes                       & 13                        & Yes                       & No                        & DSL                       & Yes                       & ...                       & No                        & No                        & No                        & No                        & Month-to-month            & Yes                       & Mailed check              &  49.95                    &  587.45                   & No                       \\\\\n",
       "\t 7469-LKBCI                & Male                      & 0                         & No                        & No                        & 16                        & Yes                       & No                        & No                        & No internet service       & ...                       & No internet service       & No internet service       & No internet service       & No internet service       & Two year                  & No                        & Credit card (automatic)   &  18.95                    &  326.80                   & No                       \\\\\n",
       "\t 8091-TTVAX                & Male                      & 0                         & Yes                       & No                        & 58                        & Yes                       & Yes                       & Fiber optic               & No                        & ...                       & Yes                       & No                        & Yes                       & Yes                       & One year                  & No                        & Credit card (automatic)   & 100.35                    & 5681.10                   & No                       \\\\\n",
       "\t 0280-XJGEX                & Male                      & 0                         & No                        & No                        & 49                        & Yes                       & Yes                       & Fiber optic               & No                        & ...                       & Yes                       & No                        & Yes                       & Yes                       & Month-to-month            & Yes                       & Bank transfer (automatic) & 103.70                    & 5036.30                   & Yes                      \\\\\n",
       "\t 5129-JLPIS                & Male                      & 0                         & No                        & No                        & 25                        & Yes                       & No                        & Fiber optic               & Yes                       & ...                       & Yes                       & Yes                       & Yes                       & Yes                       & Month-to-month            & Yes                       & Electronic check          & 105.50                    & 2686.05                   & No                       \\\\\n",
       "\t 3655-SNQYZ                & Female                    & 0                         & Yes                       & Yes                       & 69                        & Yes                       & Yes                       & Fiber optic               & Yes                       & ...                       & Yes                       & Yes                       & Yes                       & Yes                       & Two year                  & No                        & Credit card (automatic)   & 113.25                    & 7895.15                   & No                       \\\\\n",
       "\t 8191-XWSZG                & Female                    & 0                         & No                        & No                        & 52                        & Yes                       & No                        & No                        & No internet service       & ...                       & No internet service       & No internet service       & No internet service       & No internet service       & One year                  & No                        & Mailed check              &  20.65                    & 1022.95                   & No                       \\\\\n",
       "\t 9959-WOFKT                & Male                      & 0                         & No                        & Yes                       & 71                        & Yes                       & Yes                       & Fiber optic               & Yes                       & ...                       & Yes                       & No                        & Yes                       & Yes                       & Two year                  & No                        & Bank transfer (automatic) & 106.70                    & 7382.25                   & No                       \\\\\n",
       "\t 4190-MFLUW                & Female                    & 0                         & Yes                       & Yes                       & 10                        & Yes                       & No                        & DSL                       & No                        & ...                       & Yes                       & Yes                       & No                        & No                        & Month-to-month            & No                        & Credit card (automatic)   &  55.20                    &  528.35                   & Yes                      \\\\\n",
       "\t 4183-MYFRB                & Female                    & 0                         & No                        & No                        & 21                        & Yes                       & No                        & Fiber optic               & No                        & ...                       & Yes                       & No                        & No                        & Yes                       & Month-to-month            & Yes                       & Electronic check          &  90.05                    & 1862.90                   & No                       \\\\\n",
       "\\end{tabular}\n"
      ],
      "text/markdown": [
       "\n",
       "ï..customerID | gender | SeniorCitizen | Partner | Dependents | tenure | PhoneService | MultipleLines | InternetService | OnlineSecurity | ... | DeviceProtection | TechSupport | StreamingTV | StreamingMovies | Contract | PaperlessBilling | PaymentMethod | MonthlyCharges | TotalCharges | Churn | \n",
       "|---|---|---|---|---|---|---|---|---|---|---|---|---|---|---|---|---|---|---|---|\n",
       "| 7590-VHVEG                | Female                    | 0                         | Yes                       | No                        |  1                        | No                        | No phone service          | DSL                       | No                        | ...                       | No                        | No                        | No                        | No                        | Month-to-month            | Yes                       | Electronic check          |  29.85                    |   29.85                   | No                        | \n",
       "| 5575-GNVDE                | Male                      | 0                         | No                        | No                        | 34                        | Yes                       | No                        | DSL                       | Yes                       | ...                       | Yes                       | No                        | No                        | No                        | One year                  | No                        | Mailed check              |  56.95                    | 1889.50                   | No                        | \n",
       "| 3668-QPYBK                | Male                      | 0                         | No                        | No                        |  2                        | Yes                       | No                        | DSL                       | Yes                       | ...                       | No                        | No                        | No                        | No                        | Month-to-month            | Yes                       | Mailed check              |  53.85                    |  108.15                   | Yes                       | \n",
       "| 7795-CFOCW                | Male                      | 0                         | No                        | No                        | 45                        | No                        | No phone service          | DSL                       | Yes                       | ...                       | Yes                       | Yes                       | No                        | No                        | One year                  | No                        | Bank transfer (automatic) |  42.30                    | 1840.75                   | No                        | \n",
       "| 9237-HQITU                | Female                    | 0                         | No                        | No                        |  2                        | Yes                       | No                        | Fiber optic               | No                        | ...                       | No                        | No                        | No                        | No                        | Month-to-month            | Yes                       | Electronic check          |  70.70                    |  151.65                   | Yes                       | \n",
       "| 9305-CDSKC                | Female                    | 0                         | No                        | No                        |  8                        | Yes                       | Yes                       | Fiber optic               | No                        | ...                       | Yes                       | No                        | Yes                       | Yes                       | Month-to-month            | Yes                       | Electronic check          |  99.65                    |  820.50                   | Yes                       | \n",
       "| 1452-KIOVK                | Male                      | 0                         | No                        | Yes                       | 22                        | Yes                       | Yes                       | Fiber optic               | No                        | ...                       | No                        | No                        | Yes                       | No                        | Month-to-month            | Yes                       | Credit card (automatic)   |  89.10                    | 1949.40                   | No                        | \n",
       "| 6713-OKOMC                | Female                    | 0                         | No                        | No                        | 10                        | No                        | No phone service          | DSL                       | Yes                       | ...                       | No                        | No                        | No                        | No                        | Month-to-month            | No                        | Mailed check              |  29.75                    |  301.90                   | No                        | \n",
       "| 7892-POOKP                | Female                    | 0                         | Yes                       | No                        | 28                        | Yes                       | Yes                       | Fiber optic               | No                        | ...                       | Yes                       | Yes                       | Yes                       | Yes                       | Month-to-month            | Yes                       | Electronic check          | 104.80                    | 3046.05                   | Yes                       | \n",
       "| 6388-TABGU                | Male                      | 0                         | No                        | Yes                       | 62                        | Yes                       | No                        | DSL                       | Yes                       | ...                       | No                        | No                        | No                        | No                        | One year                  | No                        | Bank transfer (automatic) |  56.15                    | 3487.95                   | No                        | \n",
       "| 9763-GRSKD                | Male                      | 0                         | Yes                       | Yes                       | 13                        | Yes                       | No                        | DSL                       | Yes                       | ...                       | No                        | No                        | No                        | No                        | Month-to-month            | Yes                       | Mailed check              |  49.95                    |  587.45                   | No                        | \n",
       "| 7469-LKBCI                | Male                      | 0                         | No                        | No                        | 16                        | Yes                       | No                        | No                        | No internet service       | ...                       | No internet service       | No internet service       | No internet service       | No internet service       | Two year                  | No                        | Credit card (automatic)   |  18.95                    |  326.80                   | No                        | \n",
       "| 8091-TTVAX                | Male                      | 0                         | Yes                       | No                        | 58                        | Yes                       | Yes                       | Fiber optic               | No                        | ...                       | Yes                       | No                        | Yes                       | Yes                       | One year                  | No                        | Credit card (automatic)   | 100.35                    | 5681.10                   | No                        | \n",
       "| 0280-XJGEX                | Male                      | 0                         | No                        | No                        | 49                        | Yes                       | Yes                       | Fiber optic               | No                        | ...                       | Yes                       | No                        | Yes                       | Yes                       | Month-to-month            | Yes                       | Bank transfer (automatic) | 103.70                    | 5036.30                   | Yes                       | \n",
       "| 5129-JLPIS                | Male                      | 0                         | No                        | No                        | 25                        | Yes                       | No                        | Fiber optic               | Yes                       | ...                       | Yes                       | Yes                       | Yes                       | Yes                       | Month-to-month            | Yes                       | Electronic check          | 105.50                    | 2686.05                   | No                        | \n",
       "| 3655-SNQYZ                | Female                    | 0                         | Yes                       | Yes                       | 69                        | Yes                       | Yes                       | Fiber optic               | Yes                       | ...                       | Yes                       | Yes                       | Yes                       | Yes                       | Two year                  | No                        | Credit card (automatic)   | 113.25                    | 7895.15                   | No                        | \n",
       "| 8191-XWSZG                | Female                    | 0                         | No                        | No                        | 52                        | Yes                       | No                        | No                        | No internet service       | ...                       | No internet service       | No internet service       | No internet service       | No internet service       | One year                  | No                        | Mailed check              |  20.65                    | 1022.95                   | No                        | \n",
       "| 9959-WOFKT                | Male                      | 0                         | No                        | Yes                       | 71                        | Yes                       | Yes                       | Fiber optic               | Yes                       | ...                       | Yes                       | No                        | Yes                       | Yes                       | Two year                  | No                        | Bank transfer (automatic) | 106.70                    | 7382.25                   | No                        | \n",
       "| 4190-MFLUW                | Female                    | 0                         | Yes                       | Yes                       | 10                        | Yes                       | No                        | DSL                       | No                        | ...                       | Yes                       | Yes                       | No                        | No                        | Month-to-month            | No                        | Credit card (automatic)   |  55.20                    |  528.35                   | Yes                       | \n",
       "| 4183-MYFRB                | Female                    | 0                         | No                        | No                        | 21                        | Yes                       | No                        | Fiber optic               | No                        | ...                       | Yes                       | No                        | No                        | Yes                       | Month-to-month            | Yes                       | Electronic check          |  90.05                    | 1862.90                   | No                        | \n",
       "\n",
       "\n"
      ],
      "text/plain": [
       "   ï..customerID gender SeniorCitizen Partner Dependents tenure PhoneService\n",
       "1  7590-VHVEG    Female 0             Yes     No          1     No          \n",
       "2  5575-GNVDE    Male   0             No      No         34     Yes         \n",
       "3  3668-QPYBK    Male   0             No      No          2     Yes         \n",
       "4  7795-CFOCW    Male   0             No      No         45     No          \n",
       "5  9237-HQITU    Female 0             No      No          2     Yes         \n",
       "6  9305-CDSKC    Female 0             No      No          8     Yes         \n",
       "7  1452-KIOVK    Male   0             No      Yes        22     Yes         \n",
       "8  6713-OKOMC    Female 0             No      No         10     No          \n",
       "9  7892-POOKP    Female 0             Yes     No         28     Yes         \n",
       "10 6388-TABGU    Male   0             No      Yes        62     Yes         \n",
       "11 9763-GRSKD    Male   0             Yes     Yes        13     Yes         \n",
       "12 7469-LKBCI    Male   0             No      No         16     Yes         \n",
       "13 8091-TTVAX    Male   0             Yes     No         58     Yes         \n",
       "14 0280-XJGEX    Male   0             No      No         49     Yes         \n",
       "15 5129-JLPIS    Male   0             No      No         25     Yes         \n",
       "16 3655-SNQYZ    Female 0             Yes     Yes        69     Yes         \n",
       "17 8191-XWSZG    Female 0             No      No         52     Yes         \n",
       "18 9959-WOFKT    Male   0             No      Yes        71     Yes         \n",
       "19 4190-MFLUW    Female 0             Yes     Yes        10     Yes         \n",
       "20 4183-MYFRB    Female 0             No      No         21     Yes         \n",
       "   MultipleLines    InternetService OnlineSecurity      ... DeviceProtection   \n",
       "1  No phone service DSL             No                  ... No                 \n",
       "2  No               DSL             Yes                 ... Yes                \n",
       "3  No               DSL             Yes                 ... No                 \n",
       "4  No phone service DSL             Yes                 ... Yes                \n",
       "5  No               Fiber optic     No                  ... No                 \n",
       "6  Yes              Fiber optic     No                  ... Yes                \n",
       "7  Yes              Fiber optic     No                  ... No                 \n",
       "8  No phone service DSL             Yes                 ... No                 \n",
       "9  Yes              Fiber optic     No                  ... Yes                \n",
       "10 No               DSL             Yes                 ... No                 \n",
       "11 No               DSL             Yes                 ... No                 \n",
       "12 No               No              No internet service ... No internet service\n",
       "13 Yes              Fiber optic     No                  ... Yes                \n",
       "14 Yes              Fiber optic     No                  ... Yes                \n",
       "15 No               Fiber optic     Yes                 ... Yes                \n",
       "16 Yes              Fiber optic     Yes                 ... Yes                \n",
       "17 No               No              No internet service ... No internet service\n",
       "18 Yes              Fiber optic     Yes                 ... Yes                \n",
       "19 No               DSL             No                  ... Yes                \n",
       "20 No               Fiber optic     No                  ... Yes                \n",
       "   TechSupport         StreamingTV         StreamingMovies     Contract      \n",
       "1  No                  No                  No                  Month-to-month\n",
       "2  No                  No                  No                  One year      \n",
       "3  No                  No                  No                  Month-to-month\n",
       "4  Yes                 No                  No                  One year      \n",
       "5  No                  No                  No                  Month-to-month\n",
       "6  No                  Yes                 Yes                 Month-to-month\n",
       "7  No                  Yes                 No                  Month-to-month\n",
       "8  No                  No                  No                  Month-to-month\n",
       "9  Yes                 Yes                 Yes                 Month-to-month\n",
       "10 No                  No                  No                  One year      \n",
       "11 No                  No                  No                  Month-to-month\n",
       "12 No internet service No internet service No internet service Two year      \n",
       "13 No                  Yes                 Yes                 One year      \n",
       "14 No                  Yes                 Yes                 Month-to-month\n",
       "15 Yes                 Yes                 Yes                 Month-to-month\n",
       "16 Yes                 Yes                 Yes                 Two year      \n",
       "17 No internet service No internet service No internet service One year      \n",
       "18 No                  Yes                 Yes                 Two year      \n",
       "19 Yes                 No                  No                  Month-to-month\n",
       "20 No                  No                  Yes                 Month-to-month\n",
       "   PaperlessBilling PaymentMethod             MonthlyCharges TotalCharges Churn\n",
       "1  Yes              Electronic check           29.85           29.85      No   \n",
       "2  No               Mailed check               56.95         1889.50      No   \n",
       "3  Yes              Mailed check               53.85          108.15      Yes  \n",
       "4  No               Bank transfer (automatic)  42.30         1840.75      No   \n",
       "5  Yes              Electronic check           70.70          151.65      Yes  \n",
       "6  Yes              Electronic check           99.65          820.50      Yes  \n",
       "7  Yes              Credit card (automatic)    89.10         1949.40      No   \n",
       "8  No               Mailed check               29.75          301.90      No   \n",
       "9  Yes              Electronic check          104.80         3046.05      Yes  \n",
       "10 No               Bank transfer (automatic)  56.15         3487.95      No   \n",
       "11 Yes              Mailed check               49.95          587.45      No   \n",
       "12 No               Credit card (automatic)    18.95          326.80      No   \n",
       "13 No               Credit card (automatic)   100.35         5681.10      No   \n",
       "14 Yes              Bank transfer (automatic) 103.70         5036.30      Yes  \n",
       "15 Yes              Electronic check          105.50         2686.05      No   \n",
       "16 No               Credit card (automatic)   113.25         7895.15      No   \n",
       "17 No               Mailed check               20.65         1022.95      No   \n",
       "18 No               Bank transfer (automatic) 106.70         7382.25      No   \n",
       "19 No               Credit card (automatic)    55.20          528.35      Yes  \n",
       "20 Yes              Electronic check           90.05         1862.90      No   "
      ]
     },
     "metadata": {},
     "output_type": "display_data"
    }
   ],
   "source": [
    "head(churn, 20)"
   ]
  },
  {
   "cell_type": "code",
   "execution_count": 7,
   "metadata": {},
   "outputs": [
    {
     "data": {
      "text/html": [
       "<table>\n",
       "<thead><tr><th></th><th scope=col>ï..customerID</th><th scope=col>gender</th><th scope=col>SeniorCitizen</th><th scope=col>Partner</th><th scope=col>Dependents</th><th scope=col>tenure</th><th scope=col>PhoneService</th><th scope=col>MultipleLines</th><th scope=col>InternetService</th><th scope=col>OnlineSecurity</th><th scope=col>...</th><th scope=col>DeviceProtection</th><th scope=col>TechSupport</th><th scope=col>StreamingTV</th><th scope=col>StreamingMovies</th><th scope=col>Contract</th><th scope=col>PaperlessBilling</th><th scope=col>PaymentMethod</th><th scope=col>MonthlyCharges</th><th scope=col>TotalCharges</th><th scope=col>Churn</th></tr></thead>\n",
       "<tbody>\n",
       "\t<tr><th scope=row>6994</th><td>6583-QGCSI               </td><td>Female                   </td><td>1                        </td><td>Yes                      </td><td>No                       </td><td>50                       </td><td>Yes                      </td><td>Yes                      </td><td>Fiber optic              </td><td>No                       </td><td>...                      </td><td>No                       </td><td>No                       </td><td>Yes                      </td><td>No                       </td><td>Month-to-month           </td><td>Yes                      </td><td>Electronic check         </td><td> 88.05                   </td><td>4367.35                  </td><td>Yes                      </td></tr>\n",
       "\t<tr><th scope=row>6995</th><td>0804-YGEQV               </td><td>Female                   </td><td>0                        </td><td>Yes                      </td><td>Yes                      </td><td>43                       </td><td>Yes                      </td><td>Yes                      </td><td>No                       </td><td>No internet service      </td><td>...                      </td><td>No internet service      </td><td>No internet service      </td><td>No internet service      </td><td>No internet service      </td><td>One year                 </td><td>Yes                      </td><td>Bank transfer (automatic)</td><td> 24.45                   </td><td> 993.15                  </td><td>No                       </td></tr>\n",
       "\t<tr><th scope=row>6996</th><td>7164-BPTUT               </td><td>Male                     </td><td>0                        </td><td>No                       </td><td>Yes                      </td><td>57                       </td><td>Yes                      </td><td>Yes                      </td><td>DSL                      </td><td>Yes                      </td><td>...                      </td><td>Yes                      </td><td>Yes                      </td><td>Yes                      </td><td>Yes                      </td><td>Two year                 </td><td>No                       </td><td>Mailed check             </td><td> 89.55                   </td><td>5012.35                  </td><td>No                       </td></tr>\n",
       "\t<tr><th scope=row>6997</th><td>4174-LPGTI               </td><td>Female                   </td><td>0                        </td><td>Yes                      </td><td>Yes                      </td><td>41                       </td><td>Yes                      </td><td>No                       </td><td>DSL                      </td><td>No                       </td><td>...                      </td><td>No                       </td><td>Yes                      </td><td>No                       </td><td>Yes                      </td><td>One year                 </td><td>Yes                      </td><td>Bank transfer (automatic)</td><td> 66.50                   </td><td>2728.60                  </td><td>Yes                      </td></tr>\n",
       "\t<tr><th scope=row>6998</th><td>2523-EWWZL               </td><td>Female                   </td><td>0                        </td><td>Yes                      </td><td>No                       </td><td>27                       </td><td>Yes                      </td><td>No                       </td><td>Fiber optic              </td><td>No                       </td><td>...                      </td><td>No                       </td><td>No                       </td><td>No                       </td><td>No                       </td><td>Month-to-month           </td><td>Yes                      </td><td>Electronic check         </td><td> 76.10                   </td><td>2093.40                  </td><td>No                       </td></tr>\n",
       "\t<tr><th scope=row>6999</th><td>0928-XUTSN               </td><td>Female                   </td><td>0                        </td><td>No                       </td><td>No                       </td><td>13                       </td><td>Yes                      </td><td>No                       </td><td>Fiber optic              </td><td>No                       </td><td>...                      </td><td>No                       </td><td>No                       </td><td>No                       </td><td>Yes                      </td><td>Month-to-month           </td><td>Yes                      </td><td>Electronic check         </td><td> 80.50                   </td><td>1011.80                  </td><td>No                       </td></tr>\n",
       "\t<tr><th scope=row>7000</th><td>2108-XWMPY               </td><td>Male                     </td><td>0                        </td><td>No                       </td><td>No                       </td><td> 3                       </td><td>No                       </td><td>No phone service         </td><td>DSL                      </td><td>Yes                      </td><td>...                      </td><td>No                       </td><td>No                       </td><td>No                       </td><td>No                       </td><td>Month-to-month           </td><td>Yes                      </td><td>Mailed check             </td><td> 35.45                   </td><td> 106.85                  </td><td>Yes                      </td></tr>\n",
       "\t<tr><th scope=row>7001</th><td>0052-YNYOT               </td><td>Female                   </td><td>0                        </td><td>No                       </td><td>No                       </td><td>67                       </td><td>Yes                      </td><td>No                       </td><td>No                       </td><td>No internet service      </td><td>...                      </td><td>No internet service      </td><td>No internet service      </td><td>No internet service      </td><td>No internet service      </td><td>One year                 </td><td>No                       </td><td>Electronic check         </td><td> 20.55                   </td><td>1343.40                  </td><td>No                       </td></tr>\n",
       "\t<tr><th scope=row>7002</th><td>6304-IJFSQ               </td><td>Male                     </td><td>0                        </td><td>No                       </td><td>No                       </td><td> 3                       </td><td>Yes                      </td><td>No                       </td><td>DSL                      </td><td>No                       </td><td>...                      </td><td>No                       </td><td>No                       </td><td>No                       </td><td>No                       </td><td>Month-to-month           </td><td>Yes                      </td><td>Mailed check             </td><td> 49.90                   </td><td> 130.10                  </td><td>Yes                      </td></tr>\n",
       "\t<tr><th scope=row>7003</th><td>9586-JGQKH               </td><td>Female                   </td><td>0                        </td><td>Yes                      </td><td>No                       </td><td>64                       </td><td>Yes                      </td><td>Yes                      </td><td>Fiber optic              </td><td>No                       </td><td>...                      </td><td>No                       </td><td>Yes                      </td><td>Yes                      </td><td>Yes                      </td><td>Two year                 </td><td>Yes                      </td><td>Bank transfer (automatic)</td><td>105.40                   </td><td>6794.75                  </td><td>No                       </td></tr>\n",
       "\t<tr><th scope=row>7004</th><td>4501-VCPFK               </td><td>Male                     </td><td>0                        </td><td>No                       </td><td>No                       </td><td>26                       </td><td>No                       </td><td>No phone service         </td><td>DSL                      </td><td>No                       </td><td>...                      </td><td>Yes                      </td><td>Yes                      </td><td>No                       </td><td>No                       </td><td>Month-to-month           </td><td>No                       </td><td>Electronic check         </td><td> 35.75                   </td><td>1022.50                  </td><td>No                       </td></tr>\n",
       "\t<tr><th scope=row>7005</th><td>6075-SLNIL               </td><td>Male                     </td><td>0                        </td><td>No                       </td><td>No                       </td><td>38                       </td><td>Yes                      </td><td>Yes                      </td><td>Fiber optic              </td><td>No                       </td><td>...                      </td><td>Yes                      </td><td>No                       </td><td>No                       </td><td>Yes                      </td><td>Month-to-month           </td><td>Yes                      </td><td>Credit card (automatic)  </td><td> 95.10                   </td><td>3691.20                  </td><td>No                       </td></tr>\n",
       "\t<tr><th scope=row>7006</th><td>9347-AERRL               </td><td>Male                     </td><td>0                        </td><td>Yes                      </td><td>No                       </td><td>23                       </td><td>Yes                      </td><td>No                       </td><td>No                       </td><td>No internet service      </td><td>...                      </td><td>No internet service      </td><td>No internet service      </td><td>No internet service      </td><td>No internet service      </td><td>One year                 </td><td>No                       </td><td>Credit card (automatic)  </td><td> 19.30                   </td><td> 486.20                  </td><td>No                       </td></tr>\n",
       "\t<tr><th scope=row>7007</th><td>0093-XWZFY               </td><td>Male                     </td><td>0                        </td><td>No                       </td><td>No                       </td><td>40                       </td><td>Yes                      </td><td>Yes                      </td><td>Fiber optic              </td><td>No                       </td><td>...                      </td><td>Yes                      </td><td>No                       </td><td>Yes                      </td><td>Yes                      </td><td>Month-to-month           </td><td>Yes                      </td><td>Credit card (automatic)  </td><td>104.50                   </td><td>4036.85                  </td><td>Yes                      </td></tr>\n",
       "\t<tr><th scope=row>7008</th><td>2274-XUATA               </td><td>Male                     </td><td>1                        </td><td>Yes                      </td><td>No                       </td><td>72                       </td><td>No                       </td><td>No phone service         </td><td>DSL                      </td><td>Yes                      </td><td>...                      </td><td>Yes                      </td><td>Yes                      </td><td>Yes                      </td><td>Yes                      </td><td>Two year                 </td><td>Yes                      </td><td>Bank transfer (automatic)</td><td> 63.10                   </td><td>4685.55                  </td><td>No                       </td></tr>\n",
       "\t<tr><th scope=row>7009</th><td>1980-KXVPM               </td><td>Female                   </td><td>1                        </td><td>No                       </td><td>No                       </td><td> 3                       </td><td>Yes                      </td><td>Yes                      </td><td>Fiber optic              </td><td>No                       </td><td>...                      </td><td>No                       </td><td>No                       </td><td>No                       </td><td>No                       </td><td>Month-to-month           </td><td>Yes                      </td><td>Credit card (automatic)  </td><td> 75.05                   </td><td> 256.25                  </td><td>Yes                      </td></tr>\n",
       "\t<tr><th scope=row>7010</th><td>7703-ZEKEF               </td><td>Male                     </td><td>0                        </td><td>No                       </td><td>No                       </td><td>23                       </td><td>Yes                      </td><td>Yes                      </td><td>Fiber optic              </td><td>No                       </td><td>...                      </td><td>Yes                      </td><td>No                       </td><td>No                       </td><td>No                       </td><td>Month-to-month           </td><td>Yes                      </td><td>Electronic check         </td><td> 81.00                   </td><td>1917.10                  </td><td>Yes                      </td></tr>\n",
       "\t<tr><th scope=row>7011</th><td>0723-DRCLG               </td><td>Female                   </td><td>1                        </td><td>Yes                      </td><td>No                       </td><td> 1                       </td><td>Yes                      </td><td>Yes                      </td><td>Fiber optic              </td><td>No                       </td><td>...                      </td><td>No                       </td><td>No                       </td><td>No                       </td><td>No                       </td><td>Month-to-month           </td><td>Yes                      </td><td>Electronic check         </td><td> 74.45                   </td><td>  74.45                  </td><td>Yes                      </td></tr>\n",
       "\t<tr><th scope=row>7012</th><td>5482-NUPNA               </td><td>Female                   </td><td>0                        </td><td>No                       </td><td>No                       </td><td> 4                       </td><td>Yes                      </td><td>No                       </td><td>DSL                      </td><td>Yes                      </td><td>...                      </td><td>No                       </td><td>Yes                      </td><td>No                       </td><td>No                       </td><td>Month-to-month           </td><td>Yes                      </td><td>Mailed check             </td><td> 60.40                   </td><td> 272.15                  </td><td>Yes                      </td></tr>\n",
       "\t<tr><th scope=row>7013</th><td>6691-CCIHA               </td><td>Female                   </td><td>0                        </td><td>Yes                      </td><td>No                       </td><td>62                       </td><td>Yes                      </td><td>Yes                      </td><td>DSL                      </td><td>Yes                      </td><td>...                      </td><td>No                       </td><td>Yes                      </td><td>Yes                      </td><td>Yes                      </td><td>Two year                 </td><td>Yes                      </td><td>Electronic check         </td><td> 84.95                   </td><td>5150.55                  </td><td>No                       </td></tr>\n",
       "\t<tr><th scope=row>7014</th><td>1685-BQULA               </td><td>Female                   </td><td>0                        </td><td>No                       </td><td>No                       </td><td>40                       </td><td>Yes                      </td><td>Yes                      </td><td>Fiber optic              </td><td>No                       </td><td>...                      </td><td>Yes                      </td><td>No                       </td><td>Yes                      </td><td>No                       </td><td>Month-to-month           </td><td>Yes                      </td><td>Bank transfer (automatic)</td><td> 93.40                   </td><td>3756.40                  </td><td>No                       </td></tr>\n",
       "\t<tr><th scope=row>7015</th><td>9053-EJUNL               </td><td>Male                     </td><td>0                        </td><td>No                       </td><td>No                       </td><td>41                       </td><td>Yes                      </td><td>Yes                      </td><td>Fiber optic              </td><td>No                       </td><td>...                      </td><td>No                       </td><td>No                       </td><td>Yes                      </td><td>No                       </td><td>Month-to-month           </td><td>Yes                      </td><td>Electronic check         </td><td> 89.20                   </td><td>3645.75                  </td><td>No                       </td></tr>\n",
       "\t<tr><th scope=row>7016</th><td>0666-UXTJO               </td><td>Male                     </td><td>1                        </td><td>Yes                      </td><td>No                       </td><td>34                       </td><td>Yes                      </td><td>No                       </td><td>Fiber optic              </td><td>No                       </td><td>...                      </td><td>Yes                      </td><td>No                       </td><td>Yes                      </td><td>No                       </td><td>Month-to-month           </td><td>Yes                      </td><td>Credit card (automatic)  </td><td> 85.20                   </td><td>2874.45                  </td><td>No                       </td></tr>\n",
       "\t<tr><th scope=row>7017</th><td>1471-GIQKQ               </td><td>Female                   </td><td>0                        </td><td>No                       </td><td>No                       </td><td> 1                       </td><td>Yes                      </td><td>No                       </td><td>DSL                      </td><td>No                       </td><td>...                      </td><td>No                       </td><td>No                       </td><td>No                       </td><td>No                       </td><td>Month-to-month           </td><td>No                       </td><td>Electronic check         </td><td> 49.95                   </td><td>  49.95                  </td><td>No                       </td></tr>\n",
       "\t<tr><th scope=row>7018</th><td>4807-IZYOZ               </td><td>Female                   </td><td>0                        </td><td>No                       </td><td>No                       </td><td>51                       </td><td>Yes                      </td><td>No                       </td><td>No                       </td><td>No internet service      </td><td>...                      </td><td>No internet service      </td><td>No internet service      </td><td>No internet service      </td><td>No internet service      </td><td>Two year                 </td><td>No                       </td><td>Bank transfer (automatic)</td><td> 20.65                   </td><td>1020.75                  </td><td>No                       </td></tr>\n",
       "\t<tr><th scope=row>7019</th><td>1122-JWTJW               </td><td>Male                     </td><td>0                        </td><td>Yes                      </td><td>Yes                      </td><td> 1                       </td><td>Yes                      </td><td>No                       </td><td>Fiber optic              </td><td>No                       </td><td>...                      </td><td>No                       </td><td>No                       </td><td>No                       </td><td>No                       </td><td>Month-to-month           </td><td>Yes                      </td><td>Mailed check             </td><td> 70.65                   </td><td>  70.65                  </td><td>Yes                      </td></tr>\n",
       "\t<tr><th scope=row>7020</th><td>9710-NJERN               </td><td>Female                   </td><td>0                        </td><td>No                       </td><td>No                       </td><td>39                       </td><td>Yes                      </td><td>No                       </td><td>No                       </td><td>No internet service      </td><td>...                      </td><td>No internet service      </td><td>No internet service      </td><td>No internet service      </td><td>No internet service      </td><td>Two year                 </td><td>No                       </td><td>Mailed check             </td><td> 20.15                   </td><td> 826.00                  </td><td>No                       </td></tr>\n",
       "\t<tr><th scope=row>7021</th><td>9837-FWLCH               </td><td>Male                     </td><td>0                        </td><td>Yes                      </td><td>Yes                      </td><td>12                       </td><td>Yes                      </td><td>No                       </td><td>No                       </td><td>No internet service      </td><td>...                      </td><td>No internet service      </td><td>No internet service      </td><td>No internet service      </td><td>No internet service      </td><td>Month-to-month           </td><td>Yes                      </td><td>Electronic check         </td><td> 19.20                   </td><td> 239.00                  </td><td>No                       </td></tr>\n",
       "\t<tr><th scope=row>7022</th><td>1699-HPSBG               </td><td>Male                     </td><td>0                        </td><td>No                       </td><td>No                       </td><td>12                       </td><td>Yes                      </td><td>No                       </td><td>DSL                      </td><td>No                       </td><td>...                      </td><td>No                       </td><td>Yes                      </td><td>Yes                      </td><td>No                       </td><td>One year                 </td><td>Yes                      </td><td>Electronic check         </td><td> 59.80                   </td><td> 727.80                  </td><td>Yes                      </td></tr>\n",
       "\t<tr><th scope=row>7023</th><td>7203-OYKCT               </td><td>Male                     </td><td>0                        </td><td>No                       </td><td>No                       </td><td>72                       </td><td>Yes                      </td><td>Yes                      </td><td>Fiber optic              </td><td>No                       </td><td>...                      </td><td>Yes                      </td><td>No                       </td><td>Yes                      </td><td>Yes                      </td><td>One year                 </td><td>Yes                      </td><td>Electronic check         </td><td>104.95                   </td><td>7544.30                  </td><td>No                       </td></tr>\n",
       "\t<tr><th scope=row>7024</th><td>1035-IPQPU               </td><td>Female                   </td><td>1                        </td><td>Yes                      </td><td>No                       </td><td>63                       </td><td>Yes                      </td><td>Yes                      </td><td>Fiber optic              </td><td>No                       </td><td>...                      </td><td>Yes                      </td><td>No                       </td><td>Yes                      </td><td>Yes                      </td><td>Month-to-month           </td><td>Yes                      </td><td>Electronic check         </td><td>103.50                   </td><td>6479.40                  </td><td>No                       </td></tr>\n",
       "\t<tr><th scope=row>7025</th><td>7398-LXGYX               </td><td>Male                     </td><td>0                        </td><td>Yes                      </td><td>No                       </td><td>44                       </td><td>Yes                      </td><td>Yes                      </td><td>Fiber optic              </td><td>Yes                      </td><td>...                      </td><td>Yes                      </td><td>No                       </td><td>No                       </td><td>No                       </td><td>Month-to-month           </td><td>Yes                      </td><td>Credit card (automatic)  </td><td> 84.80                   </td><td>3626.35                  </td><td>No                       </td></tr>\n",
       "\t<tr><th scope=row>7026</th><td>2823-LKABH               </td><td>Female                   </td><td>0                        </td><td>No                       </td><td>No                       </td><td>18                       </td><td>Yes                      </td><td>Yes                      </td><td>Fiber optic              </td><td>No                       </td><td>...                      </td><td>Yes                      </td><td>Yes                      </td><td>No                       </td><td>Yes                      </td><td>Month-to-month           </td><td>Yes                      </td><td>Bank transfer (automatic)</td><td> 95.05                   </td><td>1679.40                  </td><td>No                       </td></tr>\n",
       "\t<tr><th scope=row>7027</th><td>8775-CEBBJ               </td><td>Female                   </td><td>0                        </td><td>No                       </td><td>No                       </td><td> 9                       </td><td>Yes                      </td><td>No                       </td><td>DSL                      </td><td>No                       </td><td>...                      </td><td>No                       </td><td>No                       </td><td>No                       </td><td>No                       </td><td>Month-to-month           </td><td>Yes                      </td><td>Bank transfer (automatic)</td><td> 44.20                   </td><td> 403.35                  </td><td>Yes                      </td></tr>\n",
       "\t<tr><th scope=row>7028</th><td>0550-DCXLH               </td><td>Male                     </td><td>0                        </td><td>No                       </td><td>No                       </td><td>13                       </td><td>Yes                      </td><td>No                       </td><td>DSL                      </td><td>No                       </td><td>...                      </td><td>No                       </td><td>Yes                      </td><td>Yes                      </td><td>Yes                      </td><td>Month-to-month           </td><td>No                       </td><td>Mailed check             </td><td> 73.35                   </td><td> 931.55                  </td><td>No                       </td></tr>\n",
       "\t<tr><th scope=row>7029</th><td>9281-CEDRU               </td><td>Female                   </td><td>0                        </td><td>Yes                      </td><td>No                       </td><td>68                       </td><td>Yes                      </td><td>No                       </td><td>DSL                      </td><td>No                       </td><td>...                      </td><td>No                       </td><td>Yes                      </td><td>Yes                      </td><td>No                       </td><td>Two year                 </td><td>No                       </td><td>Bank transfer (automatic)</td><td> 64.10                   </td><td>4326.25                  </td><td>No                       </td></tr>\n",
       "\t<tr><th scope=row>7030</th><td>2235-DWLJU               </td><td>Female                   </td><td>1                        </td><td>No                       </td><td>No                       </td><td> 6                       </td><td>No                       </td><td>No phone service         </td><td>DSL                      </td><td>No                       </td><td>...                      </td><td>No                       </td><td>No                       </td><td>Yes                      </td><td>Yes                      </td><td>Month-to-month           </td><td>Yes                      </td><td>Electronic check         </td><td> 44.40                   </td><td> 263.05                  </td><td>No                       </td></tr>\n",
       "\t<tr><th scope=row>7031</th><td>0871-OPBXW               </td><td>Female                   </td><td>0                        </td><td>No                       </td><td>No                       </td><td> 2                       </td><td>Yes                      </td><td>No                       </td><td>No                       </td><td>No internet service      </td><td>...                      </td><td>No internet service      </td><td>No internet service      </td><td>No internet service      </td><td>No internet service      </td><td>Month-to-month           </td><td>Yes                      </td><td>Mailed check             </td><td> 20.05                   </td><td>  39.25                  </td><td>No                       </td></tr>\n",
       "\t<tr><th scope=row>7032</th><td>3605-JISKB               </td><td>Male                     </td><td>1                        </td><td>Yes                      </td><td>No                       </td><td>55                       </td><td>Yes                      </td><td>Yes                      </td><td>DSL                      </td><td>Yes                      </td><td>...                      </td><td>No                       </td><td>No                       </td><td>No                       </td><td>No                       </td><td>One year                 </td><td>No                       </td><td>Credit card (automatic)  </td><td> 60.00                   </td><td>3316.10                  </td><td>No                       </td></tr>\n",
       "\t<tr><th scope=row>7033</th><td>6894-LFHLY               </td><td>Male                     </td><td>1                        </td><td>No                       </td><td>No                       </td><td> 1                       </td><td>Yes                      </td><td>Yes                      </td><td>Fiber optic              </td><td>No                       </td><td>...                      </td><td>No                       </td><td>No                       </td><td>No                       </td><td>No                       </td><td>Month-to-month           </td><td>Yes                      </td><td>Electronic check         </td><td> 75.75                   </td><td>  75.75                  </td><td>Yes                      </td></tr>\n",
       "\t<tr><th scope=row>7034</th><td>9767-FFLEM               </td><td>Male                     </td><td>0                        </td><td>No                       </td><td>No                       </td><td>38                       </td><td>Yes                      </td><td>No                       </td><td>Fiber optic              </td><td>No                       </td><td>...                      </td><td>No                       </td><td>No                       </td><td>No                       </td><td>No                       </td><td>Month-to-month           </td><td>Yes                      </td><td>Credit card (automatic)  </td><td> 69.50                   </td><td>2625.25                  </td><td>No                       </td></tr>\n",
       "\t<tr><th scope=row>7035</th><td>0639-TSIQW               </td><td>Female                   </td><td>0                        </td><td>No                       </td><td>No                       </td><td>67                       </td><td>Yes                      </td><td>Yes                      </td><td>Fiber optic              </td><td>Yes                      </td><td>...                      </td><td>Yes                      </td><td>No                       </td><td>Yes                      </td><td>No                       </td><td>Month-to-month           </td><td>Yes                      </td><td>Credit card (automatic)  </td><td>102.95                   </td><td>6886.25                  </td><td>Yes                      </td></tr>\n",
       "\t<tr><th scope=row>7036</th><td>8456-QDAVC               </td><td>Male                     </td><td>0                        </td><td>No                       </td><td>No                       </td><td>19                       </td><td>Yes                      </td><td>No                       </td><td>Fiber optic              </td><td>No                       </td><td>...                      </td><td>No                       </td><td>No                       </td><td>Yes                      </td><td>No                       </td><td>Month-to-month           </td><td>Yes                      </td><td>Bank transfer (automatic)</td><td> 78.70                   </td><td>1495.10                  </td><td>No                       </td></tr>\n",
       "\t<tr><th scope=row>7037</th><td>7750-EYXWZ               </td><td>Female                   </td><td>0                        </td><td>No                       </td><td>No                       </td><td>12                       </td><td>No                       </td><td>No phone service         </td><td>DSL                      </td><td>No                       </td><td>...                      </td><td>Yes                      </td><td>Yes                      </td><td>Yes                      </td><td>Yes                      </td><td>One year                 </td><td>No                       </td><td>Electronic check         </td><td> 60.65                   </td><td> 743.30                  </td><td>No                       </td></tr>\n",
       "\t<tr><th scope=row>7038</th><td>2569-WGERO               </td><td>Female                   </td><td>0                        </td><td>No                       </td><td>No                       </td><td>72                       </td><td>Yes                      </td><td>No                       </td><td>No                       </td><td>No internet service      </td><td>...                      </td><td>No internet service      </td><td>No internet service      </td><td>No internet service      </td><td>No internet service      </td><td>Two year                 </td><td>Yes                      </td><td>Bank transfer (automatic)</td><td> 21.15                   </td><td>1419.40                  </td><td>No                       </td></tr>\n",
       "\t<tr><th scope=row>7039</th><td>6840-RESVB               </td><td>Male                     </td><td>0                        </td><td>Yes                      </td><td>Yes                      </td><td>24                       </td><td>Yes                      </td><td>Yes                      </td><td>DSL                      </td><td>Yes                      </td><td>...                      </td><td>Yes                      </td><td>Yes                      </td><td>Yes                      </td><td>Yes                      </td><td>One year                 </td><td>Yes                      </td><td>Mailed check             </td><td> 84.80                   </td><td>1990.50                  </td><td>No                       </td></tr>\n",
       "\t<tr><th scope=row>7040</th><td>2234-XADUH               </td><td>Female                   </td><td>0                        </td><td>Yes                      </td><td>Yes                      </td><td>72                       </td><td>Yes                      </td><td>Yes                      </td><td>Fiber optic              </td><td>No                       </td><td>...                      </td><td>Yes                      </td><td>No                       </td><td>Yes                      </td><td>Yes                      </td><td>One year                 </td><td>Yes                      </td><td>Credit card (automatic)  </td><td>103.20                   </td><td>7362.90                  </td><td>No                       </td></tr>\n",
       "\t<tr><th scope=row>7041</th><td>4801-JZAZL               </td><td>Female                   </td><td>0                        </td><td>Yes                      </td><td>Yes                      </td><td>11                       </td><td>No                       </td><td>No phone service         </td><td>DSL                      </td><td>Yes                      </td><td>...                      </td><td>No                       </td><td>No                       </td><td>No                       </td><td>No                       </td><td>Month-to-month           </td><td>Yes                      </td><td>Electronic check         </td><td> 29.60                   </td><td> 346.45                  </td><td>No                       </td></tr>\n",
       "\t<tr><th scope=row>7042</th><td>8361-LTMKD               </td><td>Male                     </td><td>1                        </td><td>Yes                      </td><td>No                       </td><td> 4                       </td><td>Yes                      </td><td>Yes                      </td><td>Fiber optic              </td><td>No                       </td><td>...                      </td><td>No                       </td><td>No                       </td><td>No                       </td><td>No                       </td><td>Month-to-month           </td><td>Yes                      </td><td>Mailed check             </td><td> 74.40                   </td><td> 306.60                  </td><td>Yes                      </td></tr>\n",
       "\t<tr><th scope=row>7043</th><td>3186-AJIEK               </td><td>Male                     </td><td>0                        </td><td>No                       </td><td>No                       </td><td>66                       </td><td>Yes                      </td><td>No                       </td><td>Fiber optic              </td><td>Yes                      </td><td>...                      </td><td>Yes                      </td><td>Yes                      </td><td>Yes                      </td><td>Yes                      </td><td>Two year                 </td><td>Yes                      </td><td>Bank transfer (automatic)</td><td>105.65                   </td><td>6844.50                  </td><td>No                       </td></tr>\n",
       "</tbody>\n",
       "</table>\n"
      ],
      "text/latex": [
       "\\begin{tabular}{r|lllllllllllllllllllll}\n",
       "  & ï..customerID & gender & SeniorCitizen & Partner & Dependents & tenure & PhoneService & MultipleLines & InternetService & OnlineSecurity & ... & DeviceProtection & TechSupport & StreamingTV & StreamingMovies & Contract & PaperlessBilling & PaymentMethod & MonthlyCharges & TotalCharges & Churn\\\\\n",
       "\\hline\n",
       "\t6994 & 6583-QGCSI                & Female                    & 1                         & Yes                       & No                        & 50                        & Yes                       & Yes                       & Fiber optic               & No                        & ...                       & No                        & No                        & Yes                       & No                        & Month-to-month            & Yes                       & Electronic check          &  88.05                    & 4367.35                   & Yes                      \\\\\n",
       "\t6995 & 0804-YGEQV                & Female                    & 0                         & Yes                       & Yes                       & 43                        & Yes                       & Yes                       & No                        & No internet service       & ...                       & No internet service       & No internet service       & No internet service       & No internet service       & One year                  & Yes                       & Bank transfer (automatic) &  24.45                    &  993.15                   & No                       \\\\\n",
       "\t6996 & 7164-BPTUT                & Male                      & 0                         & No                        & Yes                       & 57                        & Yes                       & Yes                       & DSL                       & Yes                       & ...                       & Yes                       & Yes                       & Yes                       & Yes                       & Two year                  & No                        & Mailed check              &  89.55                    & 5012.35                   & No                       \\\\\n",
       "\t6997 & 4174-LPGTI                & Female                    & 0                         & Yes                       & Yes                       & 41                        & Yes                       & No                        & DSL                       & No                        & ...                       & No                        & Yes                       & No                        & Yes                       & One year                  & Yes                       & Bank transfer (automatic) &  66.50                    & 2728.60                   & Yes                      \\\\\n",
       "\t6998 & 2523-EWWZL                & Female                    & 0                         & Yes                       & No                        & 27                        & Yes                       & No                        & Fiber optic               & No                        & ...                       & No                        & No                        & No                        & No                        & Month-to-month            & Yes                       & Electronic check          &  76.10                    & 2093.40                   & No                       \\\\\n",
       "\t6999 & 0928-XUTSN                & Female                    & 0                         & No                        & No                        & 13                        & Yes                       & No                        & Fiber optic               & No                        & ...                       & No                        & No                        & No                        & Yes                       & Month-to-month            & Yes                       & Electronic check          &  80.50                    & 1011.80                   & No                       \\\\\n",
       "\t7000 & 2108-XWMPY                & Male                      & 0                         & No                        & No                        &  3                        & No                        & No phone service          & DSL                       & Yes                       & ...                       & No                        & No                        & No                        & No                        & Month-to-month            & Yes                       & Mailed check              &  35.45                    &  106.85                   & Yes                      \\\\\n",
       "\t7001 & 0052-YNYOT                & Female                    & 0                         & No                        & No                        & 67                        & Yes                       & No                        & No                        & No internet service       & ...                       & No internet service       & No internet service       & No internet service       & No internet service       & One year                  & No                        & Electronic check          &  20.55                    & 1343.40                   & No                       \\\\\n",
       "\t7002 & 6304-IJFSQ                & Male                      & 0                         & No                        & No                        &  3                        & Yes                       & No                        & DSL                       & No                        & ...                       & No                        & No                        & No                        & No                        & Month-to-month            & Yes                       & Mailed check              &  49.90                    &  130.10                   & Yes                      \\\\\n",
       "\t7003 & 9586-JGQKH                & Female                    & 0                         & Yes                       & No                        & 64                        & Yes                       & Yes                       & Fiber optic               & No                        & ...                       & No                        & Yes                       & Yes                       & Yes                       & Two year                  & Yes                       & Bank transfer (automatic) & 105.40                    & 6794.75                   & No                       \\\\\n",
       "\t7004 & 4501-VCPFK                & Male                      & 0                         & No                        & No                        & 26                        & No                        & No phone service          & DSL                       & No                        & ...                       & Yes                       & Yes                       & No                        & No                        & Month-to-month            & No                        & Electronic check          &  35.75                    & 1022.50                   & No                       \\\\\n",
       "\t7005 & 6075-SLNIL                & Male                      & 0                         & No                        & No                        & 38                        & Yes                       & Yes                       & Fiber optic               & No                        & ...                       & Yes                       & No                        & No                        & Yes                       & Month-to-month            & Yes                       & Credit card (automatic)   &  95.10                    & 3691.20                   & No                       \\\\\n",
       "\t7006 & 9347-AERRL                & Male                      & 0                         & Yes                       & No                        & 23                        & Yes                       & No                        & No                        & No internet service       & ...                       & No internet service       & No internet service       & No internet service       & No internet service       & One year                  & No                        & Credit card (automatic)   &  19.30                    &  486.20                   & No                       \\\\\n",
       "\t7007 & 0093-XWZFY                & Male                      & 0                         & No                        & No                        & 40                        & Yes                       & Yes                       & Fiber optic               & No                        & ...                       & Yes                       & No                        & Yes                       & Yes                       & Month-to-month            & Yes                       & Credit card (automatic)   & 104.50                    & 4036.85                   & Yes                      \\\\\n",
       "\t7008 & 2274-XUATA                & Male                      & 1                         & Yes                       & No                        & 72                        & No                        & No phone service          & DSL                       & Yes                       & ...                       & Yes                       & Yes                       & Yes                       & Yes                       & Two year                  & Yes                       & Bank transfer (automatic) &  63.10                    & 4685.55                   & No                       \\\\\n",
       "\t7009 & 1980-KXVPM                & Female                    & 1                         & No                        & No                        &  3                        & Yes                       & Yes                       & Fiber optic               & No                        & ...                       & No                        & No                        & No                        & No                        & Month-to-month            & Yes                       & Credit card (automatic)   &  75.05                    &  256.25                   & Yes                      \\\\\n",
       "\t7010 & 7703-ZEKEF                & Male                      & 0                         & No                        & No                        & 23                        & Yes                       & Yes                       & Fiber optic               & No                        & ...                       & Yes                       & No                        & No                        & No                        & Month-to-month            & Yes                       & Electronic check          &  81.00                    & 1917.10                   & Yes                      \\\\\n",
       "\t7011 & 0723-DRCLG                & Female                    & 1                         & Yes                       & No                        &  1                        & Yes                       & Yes                       & Fiber optic               & No                        & ...                       & No                        & No                        & No                        & No                        & Month-to-month            & Yes                       & Electronic check          &  74.45                    &   74.45                   & Yes                      \\\\\n",
       "\t7012 & 5482-NUPNA                & Female                    & 0                         & No                        & No                        &  4                        & Yes                       & No                        & DSL                       & Yes                       & ...                       & No                        & Yes                       & No                        & No                        & Month-to-month            & Yes                       & Mailed check              &  60.40                    &  272.15                   & Yes                      \\\\\n",
       "\t7013 & 6691-CCIHA                & Female                    & 0                         & Yes                       & No                        & 62                        & Yes                       & Yes                       & DSL                       & Yes                       & ...                       & No                        & Yes                       & Yes                       & Yes                       & Two year                  & Yes                       & Electronic check          &  84.95                    & 5150.55                   & No                       \\\\\n",
       "\t7014 & 1685-BQULA                & Female                    & 0                         & No                        & No                        & 40                        & Yes                       & Yes                       & Fiber optic               & No                        & ...                       & Yes                       & No                        & Yes                       & No                        & Month-to-month            & Yes                       & Bank transfer (automatic) &  93.40                    & 3756.40                   & No                       \\\\\n",
       "\t7015 & 9053-EJUNL                & Male                      & 0                         & No                        & No                        & 41                        & Yes                       & Yes                       & Fiber optic               & No                        & ...                       & No                        & No                        & Yes                       & No                        & Month-to-month            & Yes                       & Electronic check          &  89.20                    & 3645.75                   & No                       \\\\\n",
       "\t7016 & 0666-UXTJO                & Male                      & 1                         & Yes                       & No                        & 34                        & Yes                       & No                        & Fiber optic               & No                        & ...                       & Yes                       & No                        & Yes                       & No                        & Month-to-month            & Yes                       & Credit card (automatic)   &  85.20                    & 2874.45                   & No                       \\\\\n",
       "\t7017 & 1471-GIQKQ                & Female                    & 0                         & No                        & No                        &  1                        & Yes                       & No                        & DSL                       & No                        & ...                       & No                        & No                        & No                        & No                        & Month-to-month            & No                        & Electronic check          &  49.95                    &   49.95                   & No                       \\\\\n",
       "\t7018 & 4807-IZYOZ                & Female                    & 0                         & No                        & No                        & 51                        & Yes                       & No                        & No                        & No internet service       & ...                       & No internet service       & No internet service       & No internet service       & No internet service       & Two year                  & No                        & Bank transfer (automatic) &  20.65                    & 1020.75                   & No                       \\\\\n",
       "\t7019 & 1122-JWTJW                & Male                      & 0                         & Yes                       & Yes                       &  1                        & Yes                       & No                        & Fiber optic               & No                        & ...                       & No                        & No                        & No                        & No                        & Month-to-month            & Yes                       & Mailed check              &  70.65                    &   70.65                   & Yes                      \\\\\n",
       "\t7020 & 9710-NJERN                & Female                    & 0                         & No                        & No                        & 39                        & Yes                       & No                        & No                        & No internet service       & ...                       & No internet service       & No internet service       & No internet service       & No internet service       & Two year                  & No                        & Mailed check              &  20.15                    &  826.00                   & No                       \\\\\n",
       "\t7021 & 9837-FWLCH                & Male                      & 0                         & Yes                       & Yes                       & 12                        & Yes                       & No                        & No                        & No internet service       & ...                       & No internet service       & No internet service       & No internet service       & No internet service       & Month-to-month            & Yes                       & Electronic check          &  19.20                    &  239.00                   & No                       \\\\\n",
       "\t7022 & 1699-HPSBG                & Male                      & 0                         & No                        & No                        & 12                        & Yes                       & No                        & DSL                       & No                        & ...                       & No                        & Yes                       & Yes                       & No                        & One year                  & Yes                       & Electronic check          &  59.80                    &  727.80                   & Yes                      \\\\\n",
       "\t7023 & 7203-OYKCT                & Male                      & 0                         & No                        & No                        & 72                        & Yes                       & Yes                       & Fiber optic               & No                        & ...                       & Yes                       & No                        & Yes                       & Yes                       & One year                  & Yes                       & Electronic check          & 104.95                    & 7544.30                   & No                       \\\\\n",
       "\t7024 & 1035-IPQPU                & Female                    & 1                         & Yes                       & No                        & 63                        & Yes                       & Yes                       & Fiber optic               & No                        & ...                       & Yes                       & No                        & Yes                       & Yes                       & Month-to-month            & Yes                       & Electronic check          & 103.50                    & 6479.40                   & No                       \\\\\n",
       "\t7025 & 7398-LXGYX                & Male                      & 0                         & Yes                       & No                        & 44                        & Yes                       & Yes                       & Fiber optic               & Yes                       & ...                       & Yes                       & No                        & No                        & No                        & Month-to-month            & Yes                       & Credit card (automatic)   &  84.80                    & 3626.35                   & No                       \\\\\n",
       "\t7026 & 2823-LKABH                & Female                    & 0                         & No                        & No                        & 18                        & Yes                       & Yes                       & Fiber optic               & No                        & ...                       & Yes                       & Yes                       & No                        & Yes                       & Month-to-month            & Yes                       & Bank transfer (automatic) &  95.05                    & 1679.40                   & No                       \\\\\n",
       "\t7027 & 8775-CEBBJ                & Female                    & 0                         & No                        & No                        &  9                        & Yes                       & No                        & DSL                       & No                        & ...                       & No                        & No                        & No                        & No                        & Month-to-month            & Yes                       & Bank transfer (automatic) &  44.20                    &  403.35                   & Yes                      \\\\\n",
       "\t7028 & 0550-DCXLH                & Male                      & 0                         & No                        & No                        & 13                        & Yes                       & No                        & DSL                       & No                        & ...                       & No                        & Yes                       & Yes                       & Yes                       & Month-to-month            & No                        & Mailed check              &  73.35                    &  931.55                   & No                       \\\\\n",
       "\t7029 & 9281-CEDRU                & Female                    & 0                         & Yes                       & No                        & 68                        & Yes                       & No                        & DSL                       & No                        & ...                       & No                        & Yes                       & Yes                       & No                        & Two year                  & No                        & Bank transfer (automatic) &  64.10                    & 4326.25                   & No                       \\\\\n",
       "\t7030 & 2235-DWLJU                & Female                    & 1                         & No                        & No                        &  6                        & No                        & No phone service          & DSL                       & No                        & ...                       & No                        & No                        & Yes                       & Yes                       & Month-to-month            & Yes                       & Electronic check          &  44.40                    &  263.05                   & No                       \\\\\n",
       "\t7031 & 0871-OPBXW                & Female                    & 0                         & No                        & No                        &  2                        & Yes                       & No                        & No                        & No internet service       & ...                       & No internet service       & No internet service       & No internet service       & No internet service       & Month-to-month            & Yes                       & Mailed check              &  20.05                    &   39.25                   & No                       \\\\\n",
       "\t7032 & 3605-JISKB                & Male                      & 1                         & Yes                       & No                        & 55                        & Yes                       & Yes                       & DSL                       & Yes                       & ...                       & No                        & No                        & No                        & No                        & One year                  & No                        & Credit card (automatic)   &  60.00                    & 3316.10                   & No                       \\\\\n",
       "\t7033 & 6894-LFHLY                & Male                      & 1                         & No                        & No                        &  1                        & Yes                       & Yes                       & Fiber optic               & No                        & ...                       & No                        & No                        & No                        & No                        & Month-to-month            & Yes                       & Electronic check          &  75.75                    &   75.75                   & Yes                      \\\\\n",
       "\t7034 & 9767-FFLEM                & Male                      & 0                         & No                        & No                        & 38                        & Yes                       & No                        & Fiber optic               & No                        & ...                       & No                        & No                        & No                        & No                        & Month-to-month            & Yes                       & Credit card (automatic)   &  69.50                    & 2625.25                   & No                       \\\\\n",
       "\t7035 & 0639-TSIQW                & Female                    & 0                         & No                        & No                        & 67                        & Yes                       & Yes                       & Fiber optic               & Yes                       & ...                       & Yes                       & No                        & Yes                       & No                        & Month-to-month            & Yes                       & Credit card (automatic)   & 102.95                    & 6886.25                   & Yes                      \\\\\n",
       "\t7036 & 8456-QDAVC                & Male                      & 0                         & No                        & No                        & 19                        & Yes                       & No                        & Fiber optic               & No                        & ...                       & No                        & No                        & Yes                       & No                        & Month-to-month            & Yes                       & Bank transfer (automatic) &  78.70                    & 1495.10                   & No                       \\\\\n",
       "\t7037 & 7750-EYXWZ                & Female                    & 0                         & No                        & No                        & 12                        & No                        & No phone service          & DSL                       & No                        & ...                       & Yes                       & Yes                       & Yes                       & Yes                       & One year                  & No                        & Electronic check          &  60.65                    &  743.30                   & No                       \\\\\n",
       "\t7038 & 2569-WGERO                & Female                    & 0                         & No                        & No                        & 72                        & Yes                       & No                        & No                        & No internet service       & ...                       & No internet service       & No internet service       & No internet service       & No internet service       & Two year                  & Yes                       & Bank transfer (automatic) &  21.15                    & 1419.40                   & No                       \\\\\n",
       "\t7039 & 6840-RESVB                & Male                      & 0                         & Yes                       & Yes                       & 24                        & Yes                       & Yes                       & DSL                       & Yes                       & ...                       & Yes                       & Yes                       & Yes                       & Yes                       & One year                  & Yes                       & Mailed check              &  84.80                    & 1990.50                   & No                       \\\\\n",
       "\t7040 & 2234-XADUH                & Female                    & 0                         & Yes                       & Yes                       & 72                        & Yes                       & Yes                       & Fiber optic               & No                        & ...                       & Yes                       & No                        & Yes                       & Yes                       & One year                  & Yes                       & Credit card (automatic)   & 103.20                    & 7362.90                   & No                       \\\\\n",
       "\t7041 & 4801-JZAZL                & Female                    & 0                         & Yes                       & Yes                       & 11                        & No                        & No phone service          & DSL                       & Yes                       & ...                       & No                        & No                        & No                        & No                        & Month-to-month            & Yes                       & Electronic check          &  29.60                    &  346.45                   & No                       \\\\\n",
       "\t7042 & 8361-LTMKD                & Male                      & 1                         & Yes                       & No                        &  4                        & Yes                       & Yes                       & Fiber optic               & No                        & ...                       & No                        & No                        & No                        & No                        & Month-to-month            & Yes                       & Mailed check              &  74.40                    &  306.60                   & Yes                      \\\\\n",
       "\t7043 & 3186-AJIEK                & Male                      & 0                         & No                        & No                        & 66                        & Yes                       & No                        & Fiber optic               & Yes                       & ...                       & Yes                       & Yes                       & Yes                       & Yes                       & Two year                  & Yes                       & Bank transfer (automatic) & 105.65                    & 6844.50                   & No                       \\\\\n",
       "\\end{tabular}\n"
      ],
      "text/markdown": [
       "\n",
       "| <!--/--> | ï..customerID | gender | SeniorCitizen | Partner | Dependents | tenure | PhoneService | MultipleLines | InternetService | OnlineSecurity | ... | DeviceProtection | TechSupport | StreamingTV | StreamingMovies | Contract | PaperlessBilling | PaymentMethod | MonthlyCharges | TotalCharges | Churn | \n",
       "|---|---|---|---|---|---|---|---|---|---|---|---|---|---|---|---|---|---|---|---|---|---|---|---|---|---|---|---|---|---|---|---|---|---|---|---|---|---|---|---|---|---|---|---|---|---|---|---|---|---|\n",
       "| 6994 | 6583-QGCSI                | Female                    | 1                         | Yes                       | No                        | 50                        | Yes                       | Yes                       | Fiber optic               | No                        | ...                       | No                        | No                        | Yes                       | No                        | Month-to-month            | Yes                       | Electronic check          |  88.05                    | 4367.35                   | Yes                       | \n",
       "| 6995 | 0804-YGEQV                | Female                    | 0                         | Yes                       | Yes                       | 43                        | Yes                       | Yes                       | No                        | No internet service       | ...                       | No internet service       | No internet service       | No internet service       | No internet service       | One year                  | Yes                       | Bank transfer (automatic) |  24.45                    |  993.15                   | No                        | \n",
       "| 6996 | 7164-BPTUT                | Male                      | 0                         | No                        | Yes                       | 57                        | Yes                       | Yes                       | DSL                       | Yes                       | ...                       | Yes                       | Yes                       | Yes                       | Yes                       | Two year                  | No                        | Mailed check              |  89.55                    | 5012.35                   | No                        | \n",
       "| 6997 | 4174-LPGTI                | Female                    | 0                         | Yes                       | Yes                       | 41                        | Yes                       | No                        | DSL                       | No                        | ...                       | No                        | Yes                       | No                        | Yes                       | One year                  | Yes                       | Bank transfer (automatic) |  66.50                    | 2728.60                   | Yes                       | \n",
       "| 6998 | 2523-EWWZL                | Female                    | 0                         | Yes                       | No                        | 27                        | Yes                       | No                        | Fiber optic               | No                        | ...                       | No                        | No                        | No                        | No                        | Month-to-month            | Yes                       | Electronic check          |  76.10                    | 2093.40                   | No                        | \n",
       "| 6999 | 0928-XUTSN                | Female                    | 0                         | No                        | No                        | 13                        | Yes                       | No                        | Fiber optic               | No                        | ...                       | No                        | No                        | No                        | Yes                       | Month-to-month            | Yes                       | Electronic check          |  80.50                    | 1011.80                   | No                        | \n",
       "| 7000 | 2108-XWMPY                | Male                      | 0                         | No                        | No                        |  3                        | No                        | No phone service          | DSL                       | Yes                       | ...                       | No                        | No                        | No                        | No                        | Month-to-month            | Yes                       | Mailed check              |  35.45                    |  106.85                   | Yes                       | \n",
       "| 7001 | 0052-YNYOT                | Female                    | 0                         | No                        | No                        | 67                        | Yes                       | No                        | No                        | No internet service       | ...                       | No internet service       | No internet service       | No internet service       | No internet service       | One year                  | No                        | Electronic check          |  20.55                    | 1343.40                   | No                        | \n",
       "| 7002 | 6304-IJFSQ                | Male                      | 0                         | No                        | No                        |  3                        | Yes                       | No                        | DSL                       | No                        | ...                       | No                        | No                        | No                        | No                        | Month-to-month            | Yes                       | Mailed check              |  49.90                    |  130.10                   | Yes                       | \n",
       "| 7003 | 9586-JGQKH                | Female                    | 0                         | Yes                       | No                        | 64                        | Yes                       | Yes                       | Fiber optic               | No                        | ...                       | No                        | Yes                       | Yes                       | Yes                       | Two year                  | Yes                       | Bank transfer (automatic) | 105.40                    | 6794.75                   | No                        | \n",
       "| 7004 | 4501-VCPFK                | Male                      | 0                         | No                        | No                        | 26                        | No                        | No phone service          | DSL                       | No                        | ...                       | Yes                       | Yes                       | No                        | No                        | Month-to-month            | No                        | Electronic check          |  35.75                    | 1022.50                   | No                        | \n",
       "| 7005 | 6075-SLNIL                | Male                      | 0                         | No                        | No                        | 38                        | Yes                       | Yes                       | Fiber optic               | No                        | ...                       | Yes                       | No                        | No                        | Yes                       | Month-to-month            | Yes                       | Credit card (automatic)   |  95.10                    | 3691.20                   | No                        | \n",
       "| 7006 | 9347-AERRL                | Male                      | 0                         | Yes                       | No                        | 23                        | Yes                       | No                        | No                        | No internet service       | ...                       | No internet service       | No internet service       | No internet service       | No internet service       | One year                  | No                        | Credit card (automatic)   |  19.30                    |  486.20                   | No                        | \n",
       "| 7007 | 0093-XWZFY                | Male                      | 0                         | No                        | No                        | 40                        | Yes                       | Yes                       | Fiber optic               | No                        | ...                       | Yes                       | No                        | Yes                       | Yes                       | Month-to-month            | Yes                       | Credit card (automatic)   | 104.50                    | 4036.85                   | Yes                       | \n",
       "| 7008 | 2274-XUATA                | Male                      | 1                         | Yes                       | No                        | 72                        | No                        | No phone service          | DSL                       | Yes                       | ...                       | Yes                       | Yes                       | Yes                       | Yes                       | Two year                  | Yes                       | Bank transfer (automatic) |  63.10                    | 4685.55                   | No                        | \n",
       "| 7009 | 1980-KXVPM                | Female                    | 1                         | No                        | No                        |  3                        | Yes                       | Yes                       | Fiber optic               | No                        | ...                       | No                        | No                        | No                        | No                        | Month-to-month            | Yes                       | Credit card (automatic)   |  75.05                    |  256.25                   | Yes                       | \n",
       "| 7010 | 7703-ZEKEF                | Male                      | 0                         | No                        | No                        | 23                        | Yes                       | Yes                       | Fiber optic               | No                        | ...                       | Yes                       | No                        | No                        | No                        | Month-to-month            | Yes                       | Electronic check          |  81.00                    | 1917.10                   | Yes                       | \n",
       "| 7011 | 0723-DRCLG                | Female                    | 1                         | Yes                       | No                        |  1                        | Yes                       | Yes                       | Fiber optic               | No                        | ...                       | No                        | No                        | No                        | No                        | Month-to-month            | Yes                       | Electronic check          |  74.45                    |   74.45                   | Yes                       | \n",
       "| 7012 | 5482-NUPNA                | Female                    | 0                         | No                        | No                        |  4                        | Yes                       | No                        | DSL                       | Yes                       | ...                       | No                        | Yes                       | No                        | No                        | Month-to-month            | Yes                       | Mailed check              |  60.40                    |  272.15                   | Yes                       | \n",
       "| 7013 | 6691-CCIHA                | Female                    | 0                         | Yes                       | No                        | 62                        | Yes                       | Yes                       | DSL                       | Yes                       | ...                       | No                        | Yes                       | Yes                       | Yes                       | Two year                  | Yes                       | Electronic check          |  84.95                    | 5150.55                   | No                        | \n",
       "| 7014 | 1685-BQULA                | Female                    | 0                         | No                        | No                        | 40                        | Yes                       | Yes                       | Fiber optic               | No                        | ...                       | Yes                       | No                        | Yes                       | No                        | Month-to-month            | Yes                       | Bank transfer (automatic) |  93.40                    | 3756.40                   | No                        | \n",
       "| 7015 | 9053-EJUNL                | Male                      | 0                         | No                        | No                        | 41                        | Yes                       | Yes                       | Fiber optic               | No                        | ...                       | No                        | No                        | Yes                       | No                        | Month-to-month            | Yes                       | Electronic check          |  89.20                    | 3645.75                   | No                        | \n",
       "| 7016 | 0666-UXTJO                | Male                      | 1                         | Yes                       | No                        | 34                        | Yes                       | No                        | Fiber optic               | No                        | ...                       | Yes                       | No                        | Yes                       | No                        | Month-to-month            | Yes                       | Credit card (automatic)   |  85.20                    | 2874.45                   | No                        | \n",
       "| 7017 | 1471-GIQKQ                | Female                    | 0                         | No                        | No                        |  1                        | Yes                       | No                        | DSL                       | No                        | ...                       | No                        | No                        | No                        | No                        | Month-to-month            | No                        | Electronic check          |  49.95                    |   49.95                   | No                        | \n",
       "| 7018 | 4807-IZYOZ                | Female                    | 0                         | No                        | No                        | 51                        | Yes                       | No                        | No                        | No internet service       | ...                       | No internet service       | No internet service       | No internet service       | No internet service       | Two year                  | No                        | Bank transfer (automatic) |  20.65                    | 1020.75                   | No                        | \n",
       "| 7019 | 1122-JWTJW                | Male                      | 0                         | Yes                       | Yes                       |  1                        | Yes                       | No                        | Fiber optic               | No                        | ...                       | No                        | No                        | No                        | No                        | Month-to-month            | Yes                       | Mailed check              |  70.65                    |   70.65                   | Yes                       | \n",
       "| 7020 | 9710-NJERN                | Female                    | 0                         | No                        | No                        | 39                        | Yes                       | No                        | No                        | No internet service       | ...                       | No internet service       | No internet service       | No internet service       | No internet service       | Two year                  | No                        | Mailed check              |  20.15                    |  826.00                   | No                        | \n",
       "| 7021 | 9837-FWLCH                | Male                      | 0                         | Yes                       | Yes                       | 12                        | Yes                       | No                        | No                        | No internet service       | ...                       | No internet service       | No internet service       | No internet service       | No internet service       | Month-to-month            | Yes                       | Electronic check          |  19.20                    |  239.00                   | No                        | \n",
       "| 7022 | 1699-HPSBG                | Male                      | 0                         | No                        | No                        | 12                        | Yes                       | No                        | DSL                       | No                        | ...                       | No                        | Yes                       | Yes                       | No                        | One year                  | Yes                       | Electronic check          |  59.80                    |  727.80                   | Yes                       | \n",
       "| 7023 | 7203-OYKCT                | Male                      | 0                         | No                        | No                        | 72                        | Yes                       | Yes                       | Fiber optic               | No                        | ...                       | Yes                       | No                        | Yes                       | Yes                       | One year                  | Yes                       | Electronic check          | 104.95                    | 7544.30                   | No                        | \n",
       "| 7024 | 1035-IPQPU                | Female                    | 1                         | Yes                       | No                        | 63                        | Yes                       | Yes                       | Fiber optic               | No                        | ...                       | Yes                       | No                        | Yes                       | Yes                       | Month-to-month            | Yes                       | Electronic check          | 103.50                    | 6479.40                   | No                        | \n",
       "| 7025 | 7398-LXGYX                | Male                      | 0                         | Yes                       | No                        | 44                        | Yes                       | Yes                       | Fiber optic               | Yes                       | ...                       | Yes                       | No                        | No                        | No                        | Month-to-month            | Yes                       | Credit card (automatic)   |  84.80                    | 3626.35                   | No                        | \n",
       "| 7026 | 2823-LKABH                | Female                    | 0                         | No                        | No                        | 18                        | Yes                       | Yes                       | Fiber optic               | No                        | ...                       | Yes                       | Yes                       | No                        | Yes                       | Month-to-month            | Yes                       | Bank transfer (automatic) |  95.05                    | 1679.40                   | No                        | \n",
       "| 7027 | 8775-CEBBJ                | Female                    | 0                         | No                        | No                        |  9                        | Yes                       | No                        | DSL                       | No                        | ...                       | No                        | No                        | No                        | No                        | Month-to-month            | Yes                       | Bank transfer (automatic) |  44.20                    |  403.35                   | Yes                       | \n",
       "| 7028 | 0550-DCXLH                | Male                      | 0                         | No                        | No                        | 13                        | Yes                       | No                        | DSL                       | No                        | ...                       | No                        | Yes                       | Yes                       | Yes                       | Month-to-month            | No                        | Mailed check              |  73.35                    |  931.55                   | No                        | \n",
       "| 7029 | 9281-CEDRU                | Female                    | 0                         | Yes                       | No                        | 68                        | Yes                       | No                        | DSL                       | No                        | ...                       | No                        | Yes                       | Yes                       | No                        | Two year                  | No                        | Bank transfer (automatic) |  64.10                    | 4326.25                   | No                        | \n",
       "| 7030 | 2235-DWLJU                | Female                    | 1                         | No                        | No                        |  6                        | No                        | No phone service          | DSL                       | No                        | ...                       | No                        | No                        | Yes                       | Yes                       | Month-to-month            | Yes                       | Electronic check          |  44.40                    |  263.05                   | No                        | \n",
       "| 7031 | 0871-OPBXW                | Female                    | 0                         | No                        | No                        |  2                        | Yes                       | No                        | No                        | No internet service       | ...                       | No internet service       | No internet service       | No internet service       | No internet service       | Month-to-month            | Yes                       | Mailed check              |  20.05                    |   39.25                   | No                        | \n",
       "| 7032 | 3605-JISKB                | Male                      | 1                         | Yes                       | No                        | 55                        | Yes                       | Yes                       | DSL                       | Yes                       | ...                       | No                        | No                        | No                        | No                        | One year                  | No                        | Credit card (automatic)   |  60.00                    | 3316.10                   | No                        | \n",
       "| 7033 | 6894-LFHLY                | Male                      | 1                         | No                        | No                        |  1                        | Yes                       | Yes                       | Fiber optic               | No                        | ...                       | No                        | No                        | No                        | No                        | Month-to-month            | Yes                       | Electronic check          |  75.75                    |   75.75                   | Yes                       | \n",
       "| 7034 | 9767-FFLEM                | Male                      | 0                         | No                        | No                        | 38                        | Yes                       | No                        | Fiber optic               | No                        | ...                       | No                        | No                        | No                        | No                        | Month-to-month            | Yes                       | Credit card (automatic)   |  69.50                    | 2625.25                   | No                        | \n",
       "| 7035 | 0639-TSIQW                | Female                    | 0                         | No                        | No                        | 67                        | Yes                       | Yes                       | Fiber optic               | Yes                       | ...                       | Yes                       | No                        | Yes                       | No                        | Month-to-month            | Yes                       | Credit card (automatic)   | 102.95                    | 6886.25                   | Yes                       | \n",
       "| 7036 | 8456-QDAVC                | Male                      | 0                         | No                        | No                        | 19                        | Yes                       | No                        | Fiber optic               | No                        | ...                       | No                        | No                        | Yes                       | No                        | Month-to-month            | Yes                       | Bank transfer (automatic) |  78.70                    | 1495.10                   | No                        | \n",
       "| 7037 | 7750-EYXWZ                | Female                    | 0                         | No                        | No                        | 12                        | No                        | No phone service          | DSL                       | No                        | ...                       | Yes                       | Yes                       | Yes                       | Yes                       | One year                  | No                        | Electronic check          |  60.65                    |  743.30                   | No                        | \n",
       "| 7038 | 2569-WGERO                | Female                    | 0                         | No                        | No                        | 72                        | Yes                       | No                        | No                        | No internet service       | ...                       | No internet service       | No internet service       | No internet service       | No internet service       | Two year                  | Yes                       | Bank transfer (automatic) |  21.15                    | 1419.40                   | No                        | \n",
       "| 7039 | 6840-RESVB                | Male                      | 0                         | Yes                       | Yes                       | 24                        | Yes                       | Yes                       | DSL                       | Yes                       | ...                       | Yes                       | Yes                       | Yes                       | Yes                       | One year                  | Yes                       | Mailed check              |  84.80                    | 1990.50                   | No                        | \n",
       "| 7040 | 2234-XADUH                | Female                    | 0                         | Yes                       | Yes                       | 72                        | Yes                       | Yes                       | Fiber optic               | No                        | ...                       | Yes                       | No                        | Yes                       | Yes                       | One year                  | Yes                       | Credit card (automatic)   | 103.20                    | 7362.90                   | No                        | \n",
       "| 7041 | 4801-JZAZL                | Female                    | 0                         | Yes                       | Yes                       | 11                        | No                        | No phone service          | DSL                       | Yes                       | ...                       | No                        | No                        | No                        | No                        | Month-to-month            | Yes                       | Electronic check          |  29.60                    |  346.45                   | No                        | \n",
       "| 7042 | 8361-LTMKD                | Male                      | 1                         | Yes                       | No                        |  4                        | Yes                       | Yes                       | Fiber optic               | No                        | ...                       | No                        | No                        | No                        | No                        | Month-to-month            | Yes                       | Mailed check              |  74.40                    |  306.60                   | Yes                       | \n",
       "| 7043 | 3186-AJIEK                | Male                      | 0                         | No                        | No                        | 66                        | Yes                       | No                        | Fiber optic               | Yes                       | ...                       | Yes                       | Yes                       | Yes                       | Yes                       | Two year                  | Yes                       | Bank transfer (automatic) | 105.65                    | 6844.50                   | No                        | \n",
       "\n",
       "\n"
      ],
      "text/plain": [
       "     ï..customerID gender SeniorCitizen Partner Dependents tenure PhoneService\n",
       "6994 6583-QGCSI    Female 1             Yes     No         50     Yes         \n",
       "6995 0804-YGEQV    Female 0             Yes     Yes        43     Yes         \n",
       "6996 7164-BPTUT    Male   0             No      Yes        57     Yes         \n",
       "6997 4174-LPGTI    Female 0             Yes     Yes        41     Yes         \n",
       "6998 2523-EWWZL    Female 0             Yes     No         27     Yes         \n",
       "6999 0928-XUTSN    Female 0             No      No         13     Yes         \n",
       "7000 2108-XWMPY    Male   0             No      No          3     No          \n",
       "7001 0052-YNYOT    Female 0             No      No         67     Yes         \n",
       "7002 6304-IJFSQ    Male   0             No      No          3     Yes         \n",
       "7003 9586-JGQKH    Female 0             Yes     No         64     Yes         \n",
       "7004 4501-VCPFK    Male   0             No      No         26     No          \n",
       "7005 6075-SLNIL    Male   0             No      No         38     Yes         \n",
       "7006 9347-AERRL    Male   0             Yes     No         23     Yes         \n",
       "7007 0093-XWZFY    Male   0             No      No         40     Yes         \n",
       "7008 2274-XUATA    Male   1             Yes     No         72     No          \n",
       "7009 1980-KXVPM    Female 1             No      No          3     Yes         \n",
       "7010 7703-ZEKEF    Male   0             No      No         23     Yes         \n",
       "7011 0723-DRCLG    Female 1             Yes     No          1     Yes         \n",
       "7012 5482-NUPNA    Female 0             No      No          4     Yes         \n",
       "7013 6691-CCIHA    Female 0             Yes     No         62     Yes         \n",
       "7014 1685-BQULA    Female 0             No      No         40     Yes         \n",
       "7015 9053-EJUNL    Male   0             No      No         41     Yes         \n",
       "7016 0666-UXTJO    Male   1             Yes     No         34     Yes         \n",
       "7017 1471-GIQKQ    Female 0             No      No          1     Yes         \n",
       "7018 4807-IZYOZ    Female 0             No      No         51     Yes         \n",
       "7019 1122-JWTJW    Male   0             Yes     Yes         1     Yes         \n",
       "7020 9710-NJERN    Female 0             No      No         39     Yes         \n",
       "7021 9837-FWLCH    Male   0             Yes     Yes        12     Yes         \n",
       "7022 1699-HPSBG    Male   0             No      No         12     Yes         \n",
       "7023 7203-OYKCT    Male   0             No      No         72     Yes         \n",
       "7024 1035-IPQPU    Female 1             Yes     No         63     Yes         \n",
       "7025 7398-LXGYX    Male   0             Yes     No         44     Yes         \n",
       "7026 2823-LKABH    Female 0             No      No         18     Yes         \n",
       "7027 8775-CEBBJ    Female 0             No      No          9     Yes         \n",
       "7028 0550-DCXLH    Male   0             No      No         13     Yes         \n",
       "7029 9281-CEDRU    Female 0             Yes     No         68     Yes         \n",
       "7030 2235-DWLJU    Female 1             No      No          6     No          \n",
       "7031 0871-OPBXW    Female 0             No      No          2     Yes         \n",
       "7032 3605-JISKB    Male   1             Yes     No         55     Yes         \n",
       "7033 6894-LFHLY    Male   1             No      No          1     Yes         \n",
       "7034 9767-FFLEM    Male   0             No      No         38     Yes         \n",
       "7035 0639-TSIQW    Female 0             No      No         67     Yes         \n",
       "7036 8456-QDAVC    Male   0             No      No         19     Yes         \n",
       "7037 7750-EYXWZ    Female 0             No      No         12     No          \n",
       "7038 2569-WGERO    Female 0             No      No         72     Yes         \n",
       "7039 6840-RESVB    Male   0             Yes     Yes        24     Yes         \n",
       "7040 2234-XADUH    Female 0             Yes     Yes        72     Yes         \n",
       "7041 4801-JZAZL    Female 0             Yes     Yes        11     No          \n",
       "7042 8361-LTMKD    Male   1             Yes     No          4     Yes         \n",
       "7043 3186-AJIEK    Male   0             No      No         66     Yes         \n",
       "     MultipleLines    InternetService OnlineSecurity      ...\n",
       "6994 Yes              Fiber optic     No                  ...\n",
       "6995 Yes              No              No internet service ...\n",
       "6996 Yes              DSL             Yes                 ...\n",
       "6997 No               DSL             No                  ...\n",
       "6998 No               Fiber optic     No                  ...\n",
       "6999 No               Fiber optic     No                  ...\n",
       "7000 No phone service DSL             Yes                 ...\n",
       "7001 No               No              No internet service ...\n",
       "7002 No               DSL             No                  ...\n",
       "7003 Yes              Fiber optic     No                  ...\n",
       "7004 No phone service DSL             No                  ...\n",
       "7005 Yes              Fiber optic     No                  ...\n",
       "7006 No               No              No internet service ...\n",
       "7007 Yes              Fiber optic     No                  ...\n",
       "7008 No phone service DSL             Yes                 ...\n",
       "7009 Yes              Fiber optic     No                  ...\n",
       "7010 Yes              Fiber optic     No                  ...\n",
       "7011 Yes              Fiber optic     No                  ...\n",
       "7012 No               DSL             Yes                 ...\n",
       "7013 Yes              DSL             Yes                 ...\n",
       "7014 Yes              Fiber optic     No                  ...\n",
       "7015 Yes              Fiber optic     No                  ...\n",
       "7016 No               Fiber optic     No                  ...\n",
       "7017 No               DSL             No                  ...\n",
       "7018 No               No              No internet service ...\n",
       "7019 No               Fiber optic     No                  ...\n",
       "7020 No               No              No internet service ...\n",
       "7021 No               No              No internet service ...\n",
       "7022 No               DSL             No                  ...\n",
       "7023 Yes              Fiber optic     No                  ...\n",
       "7024 Yes              Fiber optic     No                  ...\n",
       "7025 Yes              Fiber optic     Yes                 ...\n",
       "7026 Yes              Fiber optic     No                  ...\n",
       "7027 No               DSL             No                  ...\n",
       "7028 No               DSL             No                  ...\n",
       "7029 No               DSL             No                  ...\n",
       "7030 No phone service DSL             No                  ...\n",
       "7031 No               No              No internet service ...\n",
       "7032 Yes              DSL             Yes                 ...\n",
       "7033 Yes              Fiber optic     No                  ...\n",
       "7034 No               Fiber optic     No                  ...\n",
       "7035 Yes              Fiber optic     Yes                 ...\n",
       "7036 No               Fiber optic     No                  ...\n",
       "7037 No phone service DSL             No                  ...\n",
       "7038 No               No              No internet service ...\n",
       "7039 Yes              DSL             Yes                 ...\n",
       "7040 Yes              Fiber optic     No                  ...\n",
       "7041 No phone service DSL             Yes                 ...\n",
       "7042 Yes              Fiber optic     No                  ...\n",
       "7043 No               Fiber optic     Yes                 ...\n",
       "     DeviceProtection    TechSupport         StreamingTV        \n",
       "6994 No                  No                  Yes                \n",
       "6995 No internet service No internet service No internet service\n",
       "6996 Yes                 Yes                 Yes                \n",
       "6997 No                  Yes                 No                 \n",
       "6998 No                  No                  No                 \n",
       "6999 No                  No                  No                 \n",
       "7000 No                  No                  No                 \n",
       "7001 No internet service No internet service No internet service\n",
       "7002 No                  No                  No                 \n",
       "7003 No                  Yes                 Yes                \n",
       "7004 Yes                 Yes                 No                 \n",
       "7005 Yes                 No                  No                 \n",
       "7006 No internet service No internet service No internet service\n",
       "7007 Yes                 No                  Yes                \n",
       "7008 Yes                 Yes                 Yes                \n",
       "7009 No                  No                  No                 \n",
       "7010 Yes                 No                  No                 \n",
       "7011 No                  No                  No                 \n",
       "7012 No                  Yes                 No                 \n",
       "7013 No                  Yes                 Yes                \n",
       "7014 Yes                 No                  Yes                \n",
       "7015 No                  No                  Yes                \n",
       "7016 Yes                 No                  Yes                \n",
       "7017 No                  No                  No                 \n",
       "7018 No internet service No internet service No internet service\n",
       "7019 No                  No                  No                 \n",
       "7020 No internet service No internet service No internet service\n",
       "7021 No internet service No internet service No internet service\n",
       "7022 No                  Yes                 Yes                \n",
       "7023 Yes                 No                  Yes                \n",
       "7024 Yes                 No                  Yes                \n",
       "7025 Yes                 No                  No                 \n",
       "7026 Yes                 Yes                 No                 \n",
       "7027 No                  No                  No                 \n",
       "7028 No                  Yes                 Yes                \n",
       "7029 No                  Yes                 Yes                \n",
       "7030 No                  No                  Yes                \n",
       "7031 No internet service No internet service No internet service\n",
       "7032 No                  No                  No                 \n",
       "7033 No                  No                  No                 \n",
       "7034 No                  No                  No                 \n",
       "7035 Yes                 No                  Yes                \n",
       "7036 No                  No                  Yes                \n",
       "7037 Yes                 Yes                 Yes                \n",
       "7038 No internet service No internet service No internet service\n",
       "7039 Yes                 Yes                 Yes                \n",
       "7040 Yes                 No                  Yes                \n",
       "7041 No                  No                  No                 \n",
       "7042 No                  No                  No                 \n",
       "7043 Yes                 Yes                 Yes                \n",
       "     StreamingMovies     Contract       PaperlessBilling\n",
       "6994 No                  Month-to-month Yes             \n",
       "6995 No internet service One year       Yes             \n",
       "6996 Yes                 Two year       No              \n",
       "6997 Yes                 One year       Yes             \n",
       "6998 No                  Month-to-month Yes             \n",
       "6999 Yes                 Month-to-month Yes             \n",
       "7000 No                  Month-to-month Yes             \n",
       "7001 No internet service One year       No              \n",
       "7002 No                  Month-to-month Yes             \n",
       "7003 Yes                 Two year       Yes             \n",
       "7004 No                  Month-to-month No              \n",
       "7005 Yes                 Month-to-month Yes             \n",
       "7006 No internet service One year       No              \n",
       "7007 Yes                 Month-to-month Yes             \n",
       "7008 Yes                 Two year       Yes             \n",
       "7009 No                  Month-to-month Yes             \n",
       "7010 No                  Month-to-month Yes             \n",
       "7011 No                  Month-to-month Yes             \n",
       "7012 No                  Month-to-month Yes             \n",
       "7013 Yes                 Two year       Yes             \n",
       "7014 No                  Month-to-month Yes             \n",
       "7015 No                  Month-to-month Yes             \n",
       "7016 No                  Month-to-month Yes             \n",
       "7017 No                  Month-to-month No              \n",
       "7018 No internet service Two year       No              \n",
       "7019 No                  Month-to-month Yes             \n",
       "7020 No internet service Two year       No              \n",
       "7021 No internet service Month-to-month Yes             \n",
       "7022 No                  One year       Yes             \n",
       "7023 Yes                 One year       Yes             \n",
       "7024 Yes                 Month-to-month Yes             \n",
       "7025 No                  Month-to-month Yes             \n",
       "7026 Yes                 Month-to-month Yes             \n",
       "7027 No                  Month-to-month Yes             \n",
       "7028 Yes                 Month-to-month No              \n",
       "7029 No                  Two year       No              \n",
       "7030 Yes                 Month-to-month Yes             \n",
       "7031 No internet service Month-to-month Yes             \n",
       "7032 No                  One year       No              \n",
       "7033 No                  Month-to-month Yes             \n",
       "7034 No                  Month-to-month Yes             \n",
       "7035 No                  Month-to-month Yes             \n",
       "7036 No                  Month-to-month Yes             \n",
       "7037 Yes                 One year       No              \n",
       "7038 No internet service Two year       Yes             \n",
       "7039 Yes                 One year       Yes             \n",
       "7040 Yes                 One year       Yes             \n",
       "7041 No                  Month-to-month Yes             \n",
       "7042 No                  Month-to-month Yes             \n",
       "7043 Yes                 Two year       Yes             \n",
       "     PaymentMethod             MonthlyCharges TotalCharges Churn\n",
       "6994 Electronic check           88.05         4367.35      Yes  \n",
       "6995 Bank transfer (automatic)  24.45          993.15      No   \n",
       "6996 Mailed check               89.55         5012.35      No   \n",
       "6997 Bank transfer (automatic)  66.50         2728.60      Yes  \n",
       "6998 Electronic check           76.10         2093.40      No   \n",
       "6999 Electronic check           80.50         1011.80      No   \n",
       "7000 Mailed check               35.45          106.85      Yes  \n",
       "7001 Electronic check           20.55         1343.40      No   \n",
       "7002 Mailed check               49.90          130.10      Yes  \n",
       "7003 Bank transfer (automatic) 105.40         6794.75      No   \n",
       "7004 Electronic check           35.75         1022.50      No   \n",
       "7005 Credit card (automatic)    95.10         3691.20      No   \n",
       "7006 Credit card (automatic)    19.30          486.20      No   \n",
       "7007 Credit card (automatic)   104.50         4036.85      Yes  \n",
       "7008 Bank transfer (automatic)  63.10         4685.55      No   \n",
       "7009 Credit card (automatic)    75.05          256.25      Yes  \n",
       "7010 Electronic check           81.00         1917.10      Yes  \n",
       "7011 Electronic check           74.45           74.45      Yes  \n",
       "7012 Mailed check               60.40          272.15      Yes  \n",
       "7013 Electronic check           84.95         5150.55      No   \n",
       "7014 Bank transfer (automatic)  93.40         3756.40      No   \n",
       "7015 Electronic check           89.20         3645.75      No   \n",
       "7016 Credit card (automatic)    85.20         2874.45      No   \n",
       "7017 Electronic check           49.95           49.95      No   \n",
       "7018 Bank transfer (automatic)  20.65         1020.75      No   \n",
       "7019 Mailed check               70.65           70.65      Yes  \n",
       "7020 Mailed check               20.15          826.00      No   \n",
       "7021 Electronic check           19.20          239.00      No   \n",
       "7022 Electronic check           59.80          727.80      Yes  \n",
       "7023 Electronic check          104.95         7544.30      No   \n",
       "7024 Electronic check          103.50         6479.40      No   \n",
       "7025 Credit card (automatic)    84.80         3626.35      No   \n",
       "7026 Bank transfer (automatic)  95.05         1679.40      No   \n",
       "7027 Bank transfer (automatic)  44.20          403.35      Yes  \n",
       "7028 Mailed check               73.35          931.55      No   \n",
       "7029 Bank transfer (automatic)  64.10         4326.25      No   \n",
       "7030 Electronic check           44.40          263.05      No   \n",
       "7031 Mailed check               20.05           39.25      No   \n",
       "7032 Credit card (automatic)    60.00         3316.10      No   \n",
       "7033 Electronic check           75.75           75.75      Yes  \n",
       "7034 Credit card (automatic)    69.50         2625.25      No   \n",
       "7035 Credit card (automatic)   102.95         6886.25      Yes  \n",
       "7036 Bank transfer (automatic)  78.70         1495.10      No   \n",
       "7037 Electronic check           60.65          743.30      No   \n",
       "7038 Bank transfer (automatic)  21.15         1419.40      No   \n",
       "7039 Mailed check               84.80         1990.50      No   \n",
       "7040 Credit card (automatic)   103.20         7362.90      No   \n",
       "7041 Electronic check           29.60          346.45      No   \n",
       "7042 Mailed check               74.40          306.60      Yes  \n",
       "7043 Bank transfer (automatic) 105.65         6844.50      No   "
      ]
     },
     "metadata": {},
     "output_type": "display_data"
    }
   ],
   "source": [
    "tail(churn, 50)"
   ]
  },
  {
   "cell_type": "markdown",
   "metadata": {},
   "source": [
    "Some data columns need recoding. <br/>For instance, changing values from “No phone service” and “No internet service” to “No”, for consistency. <br/>The following code statements are to recode those observations and more."
   ]
  },
  {
   "cell_type": "markdown",
   "metadata": {},
   "source": [
    "Values in the SeniorCitizen column were entered as 0 and 1. \n",
    "<br/>Let’s recode this variable as “No” and “Yes”, respectively, for consistency."
   ]
  },
  {
   "cell_type": "code",
   "execution_count": 14,
   "metadata": {
    "collapsed": true
   },
   "outputs": [],
   "source": [
    "churn$SeniorCitizen <- as.factor(mapvalues(churn$SeniorCitizen,\n",
    "                                      from=c(\"0\",\"1\"),\n",
    "                                      to=c(\"No\", \"Yes\")))"
   ]
  },
  {
   "cell_type": "code",
   "execution_count": 10,
   "metadata": {},
   "outputs": [
    {
     "data": {
      "text/html": [
       "<table>\n",
       "<thead><tr><th scope=col>ï..customerID</th><th scope=col>gender</th><th scope=col>SeniorCitizen</th><th scope=col>Partner</th><th scope=col>Dependents</th><th scope=col>tenure</th><th scope=col>PhoneService</th><th scope=col>MultipleLines</th><th scope=col>InternetService</th><th scope=col>OnlineSecurity</th><th scope=col>...</th><th scope=col>DeviceProtection</th><th scope=col>TechSupport</th><th scope=col>StreamingTV</th><th scope=col>StreamingMovies</th><th scope=col>Contract</th><th scope=col>PaperlessBilling</th><th scope=col>PaymentMethod</th><th scope=col>MonthlyCharges</th><th scope=col>TotalCharges</th><th scope=col>Churn</th></tr></thead>\n",
       "<tbody>\n",
       "\t<tr><td>7590-VHVEG               </td><td>Female                   </td><td>No                       </td><td>Yes                      </td><td>No                       </td><td> 1                       </td><td>No                       </td><td>No phone service         </td><td>DSL                      </td><td>No                       </td><td>...                      </td><td>No                       </td><td>No                       </td><td>No                       </td><td>No                       </td><td>Month-to-month           </td><td>Yes                      </td><td>Electronic check         </td><td> 29.85                   </td><td>  29.85                  </td><td>No                       </td></tr>\n",
       "\t<tr><td>5575-GNVDE               </td><td>Male                     </td><td>No                       </td><td>No                       </td><td>No                       </td><td>34                       </td><td>Yes                      </td><td>No                       </td><td>DSL                      </td><td>Yes                      </td><td>...                      </td><td>Yes                      </td><td>No                       </td><td>No                       </td><td>No                       </td><td>One year                 </td><td>No                       </td><td>Mailed check             </td><td> 56.95                   </td><td>1889.50                  </td><td>No                       </td></tr>\n",
       "\t<tr><td>3668-QPYBK               </td><td>Male                     </td><td>No                       </td><td>No                       </td><td>No                       </td><td> 2                       </td><td>Yes                      </td><td>No                       </td><td>DSL                      </td><td>Yes                      </td><td>...                      </td><td>No                       </td><td>No                       </td><td>No                       </td><td>No                       </td><td>Month-to-month           </td><td>Yes                      </td><td>Mailed check             </td><td> 53.85                   </td><td> 108.15                  </td><td>Yes                      </td></tr>\n",
       "\t<tr><td>7795-CFOCW               </td><td>Male                     </td><td>No                       </td><td>No                       </td><td>No                       </td><td>45                       </td><td>No                       </td><td>No phone service         </td><td>DSL                      </td><td>Yes                      </td><td>...                      </td><td>Yes                      </td><td>Yes                      </td><td>No                       </td><td>No                       </td><td>One year                 </td><td>No                       </td><td>Bank transfer (automatic)</td><td> 42.30                   </td><td>1840.75                  </td><td>No                       </td></tr>\n",
       "\t<tr><td>9237-HQITU               </td><td>Female                   </td><td>No                       </td><td>No                       </td><td>No                       </td><td> 2                       </td><td>Yes                      </td><td>No                       </td><td>Fiber optic              </td><td>No                       </td><td>...                      </td><td>No                       </td><td>No                       </td><td>No                       </td><td>No                       </td><td>Month-to-month           </td><td>Yes                      </td><td>Electronic check         </td><td> 70.70                   </td><td> 151.65                  </td><td>Yes                      </td></tr>\n",
       "\t<tr><td>9305-CDSKC               </td><td>Female                   </td><td>No                       </td><td>No                       </td><td>No                       </td><td> 8                       </td><td>Yes                      </td><td>Yes                      </td><td>Fiber optic              </td><td>No                       </td><td>...                      </td><td>Yes                      </td><td>No                       </td><td>Yes                      </td><td>Yes                      </td><td>Month-to-month           </td><td>Yes                      </td><td>Electronic check         </td><td> 99.65                   </td><td> 820.50                  </td><td>Yes                      </td></tr>\n",
       "\t<tr><td>1452-KIOVK               </td><td>Male                     </td><td>No                       </td><td>No                       </td><td>Yes                      </td><td>22                       </td><td>Yes                      </td><td>Yes                      </td><td>Fiber optic              </td><td>No                       </td><td>...                      </td><td>No                       </td><td>No                       </td><td>Yes                      </td><td>No                       </td><td>Month-to-month           </td><td>Yes                      </td><td>Credit card (automatic)  </td><td> 89.10                   </td><td>1949.40                  </td><td>No                       </td></tr>\n",
       "\t<tr><td>6713-OKOMC               </td><td>Female                   </td><td>No                       </td><td>No                       </td><td>No                       </td><td>10                       </td><td>No                       </td><td>No phone service         </td><td>DSL                      </td><td>Yes                      </td><td>...                      </td><td>No                       </td><td>No                       </td><td>No                       </td><td>No                       </td><td>Month-to-month           </td><td>No                       </td><td>Mailed check             </td><td> 29.75                   </td><td> 301.90                  </td><td>No                       </td></tr>\n",
       "\t<tr><td>7892-POOKP               </td><td>Female                   </td><td>No                       </td><td>Yes                      </td><td>No                       </td><td>28                       </td><td>Yes                      </td><td>Yes                      </td><td>Fiber optic              </td><td>No                       </td><td>...                      </td><td>Yes                      </td><td>Yes                      </td><td>Yes                      </td><td>Yes                      </td><td>Month-to-month           </td><td>Yes                      </td><td>Electronic check         </td><td>104.80                   </td><td>3046.05                  </td><td>Yes                      </td></tr>\n",
       "\t<tr><td>6388-TABGU               </td><td>Male                     </td><td>No                       </td><td>No                       </td><td>Yes                      </td><td>62                       </td><td>Yes                      </td><td>No                       </td><td>DSL                      </td><td>Yes                      </td><td>...                      </td><td>No                       </td><td>No                       </td><td>No                       </td><td>No                       </td><td>One year                 </td><td>No                       </td><td>Bank transfer (automatic)</td><td> 56.15                   </td><td>3487.95                  </td><td>No                       </td></tr>\n",
       "\t<tr><td>9763-GRSKD               </td><td>Male                     </td><td>No                       </td><td>Yes                      </td><td>Yes                      </td><td>13                       </td><td>Yes                      </td><td>No                       </td><td>DSL                      </td><td>Yes                      </td><td>...                      </td><td>No                       </td><td>No                       </td><td>No                       </td><td>No                       </td><td>Month-to-month           </td><td>Yes                      </td><td>Mailed check             </td><td> 49.95                   </td><td> 587.45                  </td><td>No                       </td></tr>\n",
       "\t<tr><td>7469-LKBCI               </td><td>Male                     </td><td>No                       </td><td>No                       </td><td>No                       </td><td>16                       </td><td>Yes                      </td><td>No                       </td><td>No                       </td><td>No internet service      </td><td>...                      </td><td>No internet service      </td><td>No internet service      </td><td>No internet service      </td><td>No internet service      </td><td>Two year                 </td><td>No                       </td><td>Credit card (automatic)  </td><td> 18.95                   </td><td> 326.80                  </td><td>No                       </td></tr>\n",
       "\t<tr><td>8091-TTVAX               </td><td>Male                     </td><td>No                       </td><td>Yes                      </td><td>No                       </td><td>58                       </td><td>Yes                      </td><td>Yes                      </td><td>Fiber optic              </td><td>No                       </td><td>...                      </td><td>Yes                      </td><td>No                       </td><td>Yes                      </td><td>Yes                      </td><td>One year                 </td><td>No                       </td><td>Credit card (automatic)  </td><td>100.35                   </td><td>5681.10                  </td><td>No                       </td></tr>\n",
       "\t<tr><td>0280-XJGEX               </td><td>Male                     </td><td>No                       </td><td>No                       </td><td>No                       </td><td>49                       </td><td>Yes                      </td><td>Yes                      </td><td>Fiber optic              </td><td>No                       </td><td>...                      </td><td>Yes                      </td><td>No                       </td><td>Yes                      </td><td>Yes                      </td><td>Month-to-month           </td><td>Yes                      </td><td>Bank transfer (automatic)</td><td>103.70                   </td><td>5036.30                  </td><td>Yes                      </td></tr>\n",
       "\t<tr><td>5129-JLPIS               </td><td>Male                     </td><td>No                       </td><td>No                       </td><td>No                       </td><td>25                       </td><td>Yes                      </td><td>No                       </td><td>Fiber optic              </td><td>Yes                      </td><td>...                      </td><td>Yes                      </td><td>Yes                      </td><td>Yes                      </td><td>Yes                      </td><td>Month-to-month           </td><td>Yes                      </td><td>Electronic check         </td><td>105.50                   </td><td>2686.05                  </td><td>No                       </td></tr>\n",
       "\t<tr><td>3655-SNQYZ               </td><td>Female                   </td><td>No                       </td><td>Yes                      </td><td>Yes                      </td><td>69                       </td><td>Yes                      </td><td>Yes                      </td><td>Fiber optic              </td><td>Yes                      </td><td>...                      </td><td>Yes                      </td><td>Yes                      </td><td>Yes                      </td><td>Yes                      </td><td>Two year                 </td><td>No                       </td><td>Credit card (automatic)  </td><td>113.25                   </td><td>7895.15                  </td><td>No                       </td></tr>\n",
       "\t<tr><td>8191-XWSZG               </td><td>Female                   </td><td>No                       </td><td>No                       </td><td>No                       </td><td>52                       </td><td>Yes                      </td><td>No                       </td><td>No                       </td><td>No internet service      </td><td>...                      </td><td>No internet service      </td><td>No internet service      </td><td>No internet service      </td><td>No internet service      </td><td>One year                 </td><td>No                       </td><td>Mailed check             </td><td> 20.65                   </td><td>1022.95                  </td><td>No                       </td></tr>\n",
       "\t<tr><td>9959-WOFKT               </td><td>Male                     </td><td>No                       </td><td>No                       </td><td>Yes                      </td><td>71                       </td><td>Yes                      </td><td>Yes                      </td><td>Fiber optic              </td><td>Yes                      </td><td>...                      </td><td>Yes                      </td><td>No                       </td><td>Yes                      </td><td>Yes                      </td><td>Two year                 </td><td>No                       </td><td>Bank transfer (automatic)</td><td>106.70                   </td><td>7382.25                  </td><td>No                       </td></tr>\n",
       "\t<tr><td>4190-MFLUW               </td><td>Female                   </td><td>No                       </td><td>Yes                      </td><td>Yes                      </td><td>10                       </td><td>Yes                      </td><td>No                       </td><td>DSL                      </td><td>No                       </td><td>...                      </td><td>Yes                      </td><td>Yes                      </td><td>No                       </td><td>No                       </td><td>Month-to-month           </td><td>No                       </td><td>Credit card (automatic)  </td><td> 55.20                   </td><td> 528.35                  </td><td>Yes                      </td></tr>\n",
       "\t<tr><td>4183-MYFRB               </td><td>Female                   </td><td>No                       </td><td>No                       </td><td>No                       </td><td>21                       </td><td>Yes                      </td><td>No                       </td><td>Fiber optic              </td><td>No                       </td><td>...                      </td><td>Yes                      </td><td>No                       </td><td>No                       </td><td>Yes                      </td><td>Month-to-month           </td><td>Yes                      </td><td>Electronic check         </td><td> 90.05                   </td><td>1862.90                  </td><td>No                       </td></tr>\n",
       "</tbody>\n",
       "</table>\n"
      ],
      "text/latex": [
       "\\begin{tabular}{r|lllllllllllllllllllll}\n",
       " ï..customerID & gender & SeniorCitizen & Partner & Dependents & tenure & PhoneService & MultipleLines & InternetService & OnlineSecurity & ... & DeviceProtection & TechSupport & StreamingTV & StreamingMovies & Contract & PaperlessBilling & PaymentMethod & MonthlyCharges & TotalCharges & Churn\\\\\n",
       "\\hline\n",
       "\t 7590-VHVEG                & Female                    & No                        & Yes                       & No                        &  1                        & No                        & No phone service          & DSL                       & No                        & ...                       & No                        & No                        & No                        & No                        & Month-to-month            & Yes                       & Electronic check          &  29.85                    &   29.85                   & No                       \\\\\n",
       "\t 5575-GNVDE                & Male                      & No                        & No                        & No                        & 34                        & Yes                       & No                        & DSL                       & Yes                       & ...                       & Yes                       & No                        & No                        & No                        & One year                  & No                        & Mailed check              &  56.95                    & 1889.50                   & No                       \\\\\n",
       "\t 3668-QPYBK                & Male                      & No                        & No                        & No                        &  2                        & Yes                       & No                        & DSL                       & Yes                       & ...                       & No                        & No                        & No                        & No                        & Month-to-month            & Yes                       & Mailed check              &  53.85                    &  108.15                   & Yes                      \\\\\n",
       "\t 7795-CFOCW                & Male                      & No                        & No                        & No                        & 45                        & No                        & No phone service          & DSL                       & Yes                       & ...                       & Yes                       & Yes                       & No                        & No                        & One year                  & No                        & Bank transfer (automatic) &  42.30                    & 1840.75                   & No                       \\\\\n",
       "\t 9237-HQITU                & Female                    & No                        & No                        & No                        &  2                        & Yes                       & No                        & Fiber optic               & No                        & ...                       & No                        & No                        & No                        & No                        & Month-to-month            & Yes                       & Electronic check          &  70.70                    &  151.65                   & Yes                      \\\\\n",
       "\t 9305-CDSKC                & Female                    & No                        & No                        & No                        &  8                        & Yes                       & Yes                       & Fiber optic               & No                        & ...                       & Yes                       & No                        & Yes                       & Yes                       & Month-to-month            & Yes                       & Electronic check          &  99.65                    &  820.50                   & Yes                      \\\\\n",
       "\t 1452-KIOVK                & Male                      & No                        & No                        & Yes                       & 22                        & Yes                       & Yes                       & Fiber optic               & No                        & ...                       & No                        & No                        & Yes                       & No                        & Month-to-month            & Yes                       & Credit card (automatic)   &  89.10                    & 1949.40                   & No                       \\\\\n",
       "\t 6713-OKOMC                & Female                    & No                        & No                        & No                        & 10                        & No                        & No phone service          & DSL                       & Yes                       & ...                       & No                        & No                        & No                        & No                        & Month-to-month            & No                        & Mailed check              &  29.75                    &  301.90                   & No                       \\\\\n",
       "\t 7892-POOKP                & Female                    & No                        & Yes                       & No                        & 28                        & Yes                       & Yes                       & Fiber optic               & No                        & ...                       & Yes                       & Yes                       & Yes                       & Yes                       & Month-to-month            & Yes                       & Electronic check          & 104.80                    & 3046.05                   & Yes                      \\\\\n",
       "\t 6388-TABGU                & Male                      & No                        & No                        & Yes                       & 62                        & Yes                       & No                        & DSL                       & Yes                       & ...                       & No                        & No                        & No                        & No                        & One year                  & No                        & Bank transfer (automatic) &  56.15                    & 3487.95                   & No                       \\\\\n",
       "\t 9763-GRSKD                & Male                      & No                        & Yes                       & Yes                       & 13                        & Yes                       & No                        & DSL                       & Yes                       & ...                       & No                        & No                        & No                        & No                        & Month-to-month            & Yes                       & Mailed check              &  49.95                    &  587.45                   & No                       \\\\\n",
       "\t 7469-LKBCI                & Male                      & No                        & No                        & No                        & 16                        & Yes                       & No                        & No                        & No internet service       & ...                       & No internet service       & No internet service       & No internet service       & No internet service       & Two year                  & No                        & Credit card (automatic)   &  18.95                    &  326.80                   & No                       \\\\\n",
       "\t 8091-TTVAX                & Male                      & No                        & Yes                       & No                        & 58                        & Yes                       & Yes                       & Fiber optic               & No                        & ...                       & Yes                       & No                        & Yes                       & Yes                       & One year                  & No                        & Credit card (automatic)   & 100.35                    & 5681.10                   & No                       \\\\\n",
       "\t 0280-XJGEX                & Male                      & No                        & No                        & No                        & 49                        & Yes                       & Yes                       & Fiber optic               & No                        & ...                       & Yes                       & No                        & Yes                       & Yes                       & Month-to-month            & Yes                       & Bank transfer (automatic) & 103.70                    & 5036.30                   & Yes                      \\\\\n",
       "\t 5129-JLPIS                & Male                      & No                        & No                        & No                        & 25                        & Yes                       & No                        & Fiber optic               & Yes                       & ...                       & Yes                       & Yes                       & Yes                       & Yes                       & Month-to-month            & Yes                       & Electronic check          & 105.50                    & 2686.05                   & No                       \\\\\n",
       "\t 3655-SNQYZ                & Female                    & No                        & Yes                       & Yes                       & 69                        & Yes                       & Yes                       & Fiber optic               & Yes                       & ...                       & Yes                       & Yes                       & Yes                       & Yes                       & Two year                  & No                        & Credit card (automatic)   & 113.25                    & 7895.15                   & No                       \\\\\n",
       "\t 8191-XWSZG                & Female                    & No                        & No                        & No                        & 52                        & Yes                       & No                        & No                        & No internet service       & ...                       & No internet service       & No internet service       & No internet service       & No internet service       & One year                  & No                        & Mailed check              &  20.65                    & 1022.95                   & No                       \\\\\n",
       "\t 9959-WOFKT                & Male                      & No                        & No                        & Yes                       & 71                        & Yes                       & Yes                       & Fiber optic               & Yes                       & ...                       & Yes                       & No                        & Yes                       & Yes                       & Two year                  & No                        & Bank transfer (automatic) & 106.70                    & 7382.25                   & No                       \\\\\n",
       "\t 4190-MFLUW                & Female                    & No                        & Yes                       & Yes                       & 10                        & Yes                       & No                        & DSL                       & No                        & ...                       & Yes                       & Yes                       & No                        & No                        & Month-to-month            & No                        & Credit card (automatic)   &  55.20                    &  528.35                   & Yes                      \\\\\n",
       "\t 4183-MYFRB                & Female                    & No                        & No                        & No                        & 21                        & Yes                       & No                        & Fiber optic               & No                        & ...                       & Yes                       & No                        & No                        & Yes                       & Month-to-month            & Yes                       & Electronic check          &  90.05                    & 1862.90                   & No                       \\\\\n",
       "\\end{tabular}\n"
      ],
      "text/markdown": [
       "\n",
       "ï..customerID | gender | SeniorCitizen | Partner | Dependents | tenure | PhoneService | MultipleLines | InternetService | OnlineSecurity | ... | DeviceProtection | TechSupport | StreamingTV | StreamingMovies | Contract | PaperlessBilling | PaymentMethod | MonthlyCharges | TotalCharges | Churn | \n",
       "|---|---|---|---|---|---|---|---|---|---|---|---|---|---|---|---|---|---|---|---|\n",
       "| 7590-VHVEG                | Female                    | No                        | Yes                       | No                        |  1                        | No                        | No phone service          | DSL                       | No                        | ...                       | No                        | No                        | No                        | No                        | Month-to-month            | Yes                       | Electronic check          |  29.85                    |   29.85                   | No                        | \n",
       "| 5575-GNVDE                | Male                      | No                        | No                        | No                        | 34                        | Yes                       | No                        | DSL                       | Yes                       | ...                       | Yes                       | No                        | No                        | No                        | One year                  | No                        | Mailed check              |  56.95                    | 1889.50                   | No                        | \n",
       "| 3668-QPYBK                | Male                      | No                        | No                        | No                        |  2                        | Yes                       | No                        | DSL                       | Yes                       | ...                       | No                        | No                        | No                        | No                        | Month-to-month            | Yes                       | Mailed check              |  53.85                    |  108.15                   | Yes                       | \n",
       "| 7795-CFOCW                | Male                      | No                        | No                        | No                        | 45                        | No                        | No phone service          | DSL                       | Yes                       | ...                       | Yes                       | Yes                       | No                        | No                        | One year                  | No                        | Bank transfer (automatic) |  42.30                    | 1840.75                   | No                        | \n",
       "| 9237-HQITU                | Female                    | No                        | No                        | No                        |  2                        | Yes                       | No                        | Fiber optic               | No                        | ...                       | No                        | No                        | No                        | No                        | Month-to-month            | Yes                       | Electronic check          |  70.70                    |  151.65                   | Yes                       | \n",
       "| 9305-CDSKC                | Female                    | No                        | No                        | No                        |  8                        | Yes                       | Yes                       | Fiber optic               | No                        | ...                       | Yes                       | No                        | Yes                       | Yes                       | Month-to-month            | Yes                       | Electronic check          |  99.65                    |  820.50                   | Yes                       | \n",
       "| 1452-KIOVK                | Male                      | No                        | No                        | Yes                       | 22                        | Yes                       | Yes                       | Fiber optic               | No                        | ...                       | No                        | No                        | Yes                       | No                        | Month-to-month            | Yes                       | Credit card (automatic)   |  89.10                    | 1949.40                   | No                        | \n",
       "| 6713-OKOMC                | Female                    | No                        | No                        | No                        | 10                        | No                        | No phone service          | DSL                       | Yes                       | ...                       | No                        | No                        | No                        | No                        | Month-to-month            | No                        | Mailed check              |  29.75                    |  301.90                   | No                        | \n",
       "| 7892-POOKP                | Female                    | No                        | Yes                       | No                        | 28                        | Yes                       | Yes                       | Fiber optic               | No                        | ...                       | Yes                       | Yes                       | Yes                       | Yes                       | Month-to-month            | Yes                       | Electronic check          | 104.80                    | 3046.05                   | Yes                       | \n",
       "| 6388-TABGU                | Male                      | No                        | No                        | Yes                       | 62                        | Yes                       | No                        | DSL                       | Yes                       | ...                       | No                        | No                        | No                        | No                        | One year                  | No                        | Bank transfer (automatic) |  56.15                    | 3487.95                   | No                        | \n",
       "| 9763-GRSKD                | Male                      | No                        | Yes                       | Yes                       | 13                        | Yes                       | No                        | DSL                       | Yes                       | ...                       | No                        | No                        | No                        | No                        | Month-to-month            | Yes                       | Mailed check              |  49.95                    |  587.45                   | No                        | \n",
       "| 7469-LKBCI                | Male                      | No                        | No                        | No                        | 16                        | Yes                       | No                        | No                        | No internet service       | ...                       | No internet service       | No internet service       | No internet service       | No internet service       | Two year                  | No                        | Credit card (automatic)   |  18.95                    |  326.80                   | No                        | \n",
       "| 8091-TTVAX                | Male                      | No                        | Yes                       | No                        | 58                        | Yes                       | Yes                       | Fiber optic               | No                        | ...                       | Yes                       | No                        | Yes                       | Yes                       | One year                  | No                        | Credit card (automatic)   | 100.35                    | 5681.10                   | No                        | \n",
       "| 0280-XJGEX                | Male                      | No                        | No                        | No                        | 49                        | Yes                       | Yes                       | Fiber optic               | No                        | ...                       | Yes                       | No                        | Yes                       | Yes                       | Month-to-month            | Yes                       | Bank transfer (automatic) | 103.70                    | 5036.30                   | Yes                       | \n",
       "| 5129-JLPIS                | Male                      | No                        | No                        | No                        | 25                        | Yes                       | No                        | Fiber optic               | Yes                       | ...                       | Yes                       | Yes                       | Yes                       | Yes                       | Month-to-month            | Yes                       | Electronic check          | 105.50                    | 2686.05                   | No                        | \n",
       "| 3655-SNQYZ                | Female                    | No                        | Yes                       | Yes                       | 69                        | Yes                       | Yes                       | Fiber optic               | Yes                       | ...                       | Yes                       | Yes                       | Yes                       | Yes                       | Two year                  | No                        | Credit card (automatic)   | 113.25                    | 7895.15                   | No                        | \n",
       "| 8191-XWSZG                | Female                    | No                        | No                        | No                        | 52                        | Yes                       | No                        | No                        | No internet service       | ...                       | No internet service       | No internet service       | No internet service       | No internet service       | One year                  | No                        | Mailed check              |  20.65                    | 1022.95                   | No                        | \n",
       "| 9959-WOFKT                | Male                      | No                        | No                        | Yes                       | 71                        | Yes                       | Yes                       | Fiber optic               | Yes                       | ...                       | Yes                       | No                        | Yes                       | Yes                       | Two year                  | No                        | Bank transfer (automatic) | 106.70                    | 7382.25                   | No                        | \n",
       "| 4190-MFLUW                | Female                    | No                        | Yes                       | Yes                       | 10                        | Yes                       | No                        | DSL                       | No                        | ...                       | Yes                       | Yes                       | No                        | No                        | Month-to-month            | No                        | Credit card (automatic)   |  55.20                    |  528.35                   | Yes                       | \n",
       "| 4183-MYFRB                | Female                    | No                        | No                        | No                        | 21                        | Yes                       | No                        | Fiber optic               | No                        | ...                       | Yes                       | No                        | No                        | Yes                       | Month-to-month            | Yes                       | Electronic check          |  90.05                    | 1862.90                   | No                        | \n",
       "\n",
       "\n"
      ],
      "text/plain": [
       "   ï..customerID gender SeniorCitizen Partner Dependents tenure PhoneService\n",
       "1  7590-VHVEG    Female No            Yes     No          1     No          \n",
       "2  5575-GNVDE    Male   No            No      No         34     Yes         \n",
       "3  3668-QPYBK    Male   No            No      No          2     Yes         \n",
       "4  7795-CFOCW    Male   No            No      No         45     No          \n",
       "5  9237-HQITU    Female No            No      No          2     Yes         \n",
       "6  9305-CDSKC    Female No            No      No          8     Yes         \n",
       "7  1452-KIOVK    Male   No            No      Yes        22     Yes         \n",
       "8  6713-OKOMC    Female No            No      No         10     No          \n",
       "9  7892-POOKP    Female No            Yes     No         28     Yes         \n",
       "10 6388-TABGU    Male   No            No      Yes        62     Yes         \n",
       "11 9763-GRSKD    Male   No            Yes     Yes        13     Yes         \n",
       "12 7469-LKBCI    Male   No            No      No         16     Yes         \n",
       "13 8091-TTVAX    Male   No            Yes     No         58     Yes         \n",
       "14 0280-XJGEX    Male   No            No      No         49     Yes         \n",
       "15 5129-JLPIS    Male   No            No      No         25     Yes         \n",
       "16 3655-SNQYZ    Female No            Yes     Yes        69     Yes         \n",
       "17 8191-XWSZG    Female No            No      No         52     Yes         \n",
       "18 9959-WOFKT    Male   No            No      Yes        71     Yes         \n",
       "19 4190-MFLUW    Female No            Yes     Yes        10     Yes         \n",
       "20 4183-MYFRB    Female No            No      No         21     Yes         \n",
       "   MultipleLines    InternetService OnlineSecurity      ... DeviceProtection   \n",
       "1  No phone service DSL             No                  ... No                 \n",
       "2  No               DSL             Yes                 ... Yes                \n",
       "3  No               DSL             Yes                 ... No                 \n",
       "4  No phone service DSL             Yes                 ... Yes                \n",
       "5  No               Fiber optic     No                  ... No                 \n",
       "6  Yes              Fiber optic     No                  ... Yes                \n",
       "7  Yes              Fiber optic     No                  ... No                 \n",
       "8  No phone service DSL             Yes                 ... No                 \n",
       "9  Yes              Fiber optic     No                  ... Yes                \n",
       "10 No               DSL             Yes                 ... No                 \n",
       "11 No               DSL             Yes                 ... No                 \n",
       "12 No               No              No internet service ... No internet service\n",
       "13 Yes              Fiber optic     No                  ... Yes                \n",
       "14 Yes              Fiber optic     No                  ... Yes                \n",
       "15 No               Fiber optic     Yes                 ... Yes                \n",
       "16 Yes              Fiber optic     Yes                 ... Yes                \n",
       "17 No               No              No internet service ... No internet service\n",
       "18 Yes              Fiber optic     Yes                 ... Yes                \n",
       "19 No               DSL             No                  ... Yes                \n",
       "20 No               Fiber optic     No                  ... Yes                \n",
       "   TechSupport         StreamingTV         StreamingMovies     Contract      \n",
       "1  No                  No                  No                  Month-to-month\n",
       "2  No                  No                  No                  One year      \n",
       "3  No                  No                  No                  Month-to-month\n",
       "4  Yes                 No                  No                  One year      \n",
       "5  No                  No                  No                  Month-to-month\n",
       "6  No                  Yes                 Yes                 Month-to-month\n",
       "7  No                  Yes                 No                  Month-to-month\n",
       "8  No                  No                  No                  Month-to-month\n",
       "9  Yes                 Yes                 Yes                 Month-to-month\n",
       "10 No                  No                  No                  One year      \n",
       "11 No                  No                  No                  Month-to-month\n",
       "12 No internet service No internet service No internet service Two year      \n",
       "13 No                  Yes                 Yes                 One year      \n",
       "14 No                  Yes                 Yes                 Month-to-month\n",
       "15 Yes                 Yes                 Yes                 Month-to-month\n",
       "16 Yes                 Yes                 Yes                 Two year      \n",
       "17 No internet service No internet service No internet service One year      \n",
       "18 No                  Yes                 Yes                 Two year      \n",
       "19 Yes                 No                  No                  Month-to-month\n",
       "20 No                  No                  Yes                 Month-to-month\n",
       "   PaperlessBilling PaymentMethod             MonthlyCharges TotalCharges Churn\n",
       "1  Yes              Electronic check           29.85           29.85      No   \n",
       "2  No               Mailed check               56.95         1889.50      No   \n",
       "3  Yes              Mailed check               53.85          108.15      Yes  \n",
       "4  No               Bank transfer (automatic)  42.30         1840.75      No   \n",
       "5  Yes              Electronic check           70.70          151.65      Yes  \n",
       "6  Yes              Electronic check           99.65          820.50      Yes  \n",
       "7  Yes              Credit card (automatic)    89.10         1949.40      No   \n",
       "8  No               Mailed check               29.75          301.90      No   \n",
       "9  Yes              Electronic check          104.80         3046.05      Yes  \n",
       "10 No               Bank transfer (automatic)  56.15         3487.95      No   \n",
       "11 Yes              Mailed check               49.95          587.45      No   \n",
       "12 No               Credit card (automatic)    18.95          326.80      No   \n",
       "13 No               Credit card (automatic)   100.35         5681.10      No   \n",
       "14 Yes              Bank transfer (automatic) 103.70         5036.30      Yes  \n",
       "15 Yes              Electronic check          105.50         2686.05      No   \n",
       "16 No               Credit card (automatic)   113.25         7895.15      No   \n",
       "17 No               Mailed check               20.65         1022.95      No   \n",
       "18 No               Bank transfer (automatic) 106.70         7382.25      No   \n",
       "19 No               Credit card (automatic)    55.20          528.35      Yes  \n",
       "20 Yes              Electronic check           90.05         1862.90      No   "
      ]
     },
     "metadata": {},
     "output_type": "display_data"
    }
   ],
   "source": [
    "head(churn, 20)"
   ]
  },
  {
   "cell_type": "markdown",
   "metadata": {},
   "source": [
    "Exclude the consumer id and total charges columns from data analysis."
   ]
  },
  {
   "cell_type": "code",
   "execution_count": 6,
   "metadata": {
    "collapsed": true
   },
   "outputs": [],
   "source": [
    "cols_drop <- c(1, 20)\n"
   ]
  },
  {
   "cell_type": "code",
   "execution_count": 7,
   "metadata": {
    "collapsed": true
   },
   "outputs": [],
   "source": [
    "churn <- churn[,-cols_drop]"
   ]
  },
  {
   "cell_type": "code",
   "execution_count": 8,
   "metadata": {},
   "outputs": [
    {
     "data": {
      "text/html": [
       "<table>\n",
       "<thead><tr><th scope=col>gender</th><th scope=col>SeniorCitizen</th><th scope=col>Partner</th><th scope=col>Dependents</th><th scope=col>tenure</th><th scope=col>PhoneService</th><th scope=col>MultipleLines</th><th scope=col>InternetService</th><th scope=col>OnlineSecurity</th><th scope=col>OnlineBackup</th><th scope=col>DeviceProtection</th><th scope=col>TechSupport</th><th scope=col>StreamingTV</th><th scope=col>StreamingMovies</th><th scope=col>Contract</th><th scope=col>PaperlessBilling</th><th scope=col>PaymentMethod</th><th scope=col>MonthlyCharges</th><th scope=col>Churn</th></tr></thead>\n",
       "<tbody>\n",
       "\t<tr><td>Female                   </td><td>No                       </td><td>Yes                      </td><td>No                       </td><td> 1                       </td><td>No                       </td><td>No phone service         </td><td>DSL                      </td><td>No                       </td><td>Yes                      </td><td>No                       </td><td>No                       </td><td>No                       </td><td>No                       </td><td>Month-to-month           </td><td>Yes                      </td><td>Electronic check         </td><td>29.85                    </td><td>No                       </td></tr>\n",
       "\t<tr><td>Male                     </td><td>No                       </td><td>No                       </td><td>No                       </td><td>34                       </td><td>Yes                      </td><td>No                       </td><td>DSL                      </td><td>Yes                      </td><td>No                       </td><td>Yes                      </td><td>No                       </td><td>No                       </td><td>No                       </td><td>One year                 </td><td>No                       </td><td>Mailed check             </td><td>56.95                    </td><td>No                       </td></tr>\n",
       "\t<tr><td>Male                     </td><td>No                       </td><td>No                       </td><td>No                       </td><td> 2                       </td><td>Yes                      </td><td>No                       </td><td>DSL                      </td><td>Yes                      </td><td>Yes                      </td><td>No                       </td><td>No                       </td><td>No                       </td><td>No                       </td><td>Month-to-month           </td><td>Yes                      </td><td>Mailed check             </td><td>53.85                    </td><td>Yes                      </td></tr>\n",
       "\t<tr><td>Male                     </td><td>No                       </td><td>No                       </td><td>No                       </td><td>45                       </td><td>No                       </td><td>No phone service         </td><td>DSL                      </td><td>Yes                      </td><td>No                       </td><td>Yes                      </td><td>Yes                      </td><td>No                       </td><td>No                       </td><td>One year                 </td><td>No                       </td><td>Bank transfer (automatic)</td><td>42.30                    </td><td>No                       </td></tr>\n",
       "\t<tr><td>Female                   </td><td>No                       </td><td>No                       </td><td>No                       </td><td> 2                       </td><td>Yes                      </td><td>No                       </td><td>Fiber optic              </td><td>No                       </td><td>No                       </td><td>No                       </td><td>No                       </td><td>No                       </td><td>No                       </td><td>Month-to-month           </td><td>Yes                      </td><td>Electronic check         </td><td>70.70                    </td><td>Yes                      </td></tr>\n",
       "\t<tr><td>Female                   </td><td>No                       </td><td>No                       </td><td>No                       </td><td> 8                       </td><td>Yes                      </td><td>Yes                      </td><td>Fiber optic              </td><td>No                       </td><td>No                       </td><td>Yes                      </td><td>No                       </td><td>Yes                      </td><td>Yes                      </td><td>Month-to-month           </td><td>Yes                      </td><td>Electronic check         </td><td>99.65                    </td><td>Yes                      </td></tr>\n",
       "</tbody>\n",
       "</table>\n"
      ],
      "text/latex": [
       "\\begin{tabular}{r|lllllllllllllllllll}\n",
       " gender & SeniorCitizen & Partner & Dependents & tenure & PhoneService & MultipleLines & InternetService & OnlineSecurity & OnlineBackup & DeviceProtection & TechSupport & StreamingTV & StreamingMovies & Contract & PaperlessBilling & PaymentMethod & MonthlyCharges & Churn\\\\\n",
       "\\hline\n",
       "\t Female                    & No                        & Yes                       & No                        &  1                        & No                        & No phone service          & DSL                       & No                        & Yes                       & No                        & No                        & No                        & No                        & Month-to-month            & Yes                       & Electronic check          & 29.85                     & No                       \\\\\n",
       "\t Male                      & No                        & No                        & No                        & 34                        & Yes                       & No                        & DSL                       & Yes                       & No                        & Yes                       & No                        & No                        & No                        & One year                  & No                        & Mailed check              & 56.95                     & No                       \\\\\n",
       "\t Male                      & No                        & No                        & No                        &  2                        & Yes                       & No                        & DSL                       & Yes                       & Yes                       & No                        & No                        & No                        & No                        & Month-to-month            & Yes                       & Mailed check              & 53.85                     & Yes                      \\\\\n",
       "\t Male                      & No                        & No                        & No                        & 45                        & No                        & No phone service          & DSL                       & Yes                       & No                        & Yes                       & Yes                       & No                        & No                        & One year                  & No                        & Bank transfer (automatic) & 42.30                     & No                       \\\\\n",
       "\t Female                    & No                        & No                        & No                        &  2                        & Yes                       & No                        & Fiber optic               & No                        & No                        & No                        & No                        & No                        & No                        & Month-to-month            & Yes                       & Electronic check          & 70.70                     & Yes                      \\\\\n",
       "\t Female                    & No                        & No                        & No                        &  8                        & Yes                       & Yes                       & Fiber optic               & No                        & No                        & Yes                       & No                        & Yes                       & Yes                       & Month-to-month            & Yes                       & Electronic check          & 99.65                     & Yes                      \\\\\n",
       "\\end{tabular}\n"
      ],
      "text/markdown": [
       "\n",
       "gender | SeniorCitizen | Partner | Dependents | tenure | PhoneService | MultipleLines | InternetService | OnlineSecurity | OnlineBackup | DeviceProtection | TechSupport | StreamingTV | StreamingMovies | Contract | PaperlessBilling | PaymentMethod | MonthlyCharges | Churn | \n",
       "|---|---|---|---|---|---|\n",
       "| Female                    | No                        | Yes                       | No                        |  1                        | No                        | No phone service          | DSL                       | No                        | Yes                       | No                        | No                        | No                        | No                        | Month-to-month            | Yes                       | Electronic check          | 29.85                     | No                        | \n",
       "| Male                      | No                        | No                        | No                        | 34                        | Yes                       | No                        | DSL                       | Yes                       | No                        | Yes                       | No                        | No                        | No                        | One year                  | No                        | Mailed check              | 56.95                     | No                        | \n",
       "| Male                      | No                        | No                        | No                        |  2                        | Yes                       | No                        | DSL                       | Yes                       | Yes                       | No                        | No                        | No                        | No                        | Month-to-month            | Yes                       | Mailed check              | 53.85                     | Yes                       | \n",
       "| Male                      | No                        | No                        | No                        | 45                        | No                        | No phone service          | DSL                       | Yes                       | No                        | Yes                       | Yes                       | No                        | No                        | One year                  | No                        | Bank transfer (automatic) | 42.30                     | No                        | \n",
       "| Female                    | No                        | No                        | No                        |  2                        | Yes                       | No                        | Fiber optic               | No                        | No                        | No                        | No                        | No                        | No                        | Month-to-month            | Yes                       | Electronic check          | 70.70                     | Yes                       | \n",
       "| Female                    | No                        | No                        | No                        |  8                        | Yes                       | Yes                       | Fiber optic               | No                        | No                        | Yes                       | No                        | Yes                       | Yes                       | Month-to-month            | Yes                       | Electronic check          | 99.65                     | Yes                       | \n",
       "\n",
       "\n"
      ],
      "text/plain": [
       "  gender SeniorCitizen Partner Dependents tenure PhoneService MultipleLines   \n",
       "1 Female No            Yes     No          1     No           No phone service\n",
       "2 Male   No            No      No         34     Yes          No              \n",
       "3 Male   No            No      No          2     Yes          No              \n",
       "4 Male   No            No      No         45     No           No phone service\n",
       "5 Female No            No      No          2     Yes          No              \n",
       "6 Female No            No      No          8     Yes          Yes             \n",
       "  InternetService OnlineSecurity OnlineBackup DeviceProtection TechSupport\n",
       "1 DSL             No             Yes          No               No         \n",
       "2 DSL             Yes            No           Yes              No         \n",
       "3 DSL             Yes            Yes          No               No         \n",
       "4 DSL             Yes            No           Yes              Yes        \n",
       "5 Fiber optic     No             No           No               No         \n",
       "6 Fiber optic     No             No           Yes              No         \n",
       "  StreamingTV StreamingMovies Contract       PaperlessBilling\n",
       "1 No          No              Month-to-month Yes             \n",
       "2 No          No              One year       No              \n",
       "3 No          No              Month-to-month Yes             \n",
       "4 No          No              One year       No              \n",
       "5 No          No              Month-to-month Yes             \n",
       "6 Yes         Yes             Month-to-month Yes             \n",
       "  PaymentMethod             MonthlyCharges Churn\n",
       "1 Electronic check          29.85          No   \n",
       "2 Mailed check              56.95          No   \n",
       "3 Mailed check              53.85          Yes  \n",
       "4 Bank transfer (automatic) 42.30          No   \n",
       "5 Electronic check          70.70          Yes  \n",
       "6 Electronic check          99.65          Yes  "
      ]
     },
     "metadata": {},
     "output_type": "display_data"
    }
   ],
   "source": [
    "head(churn)"
   ]
  },
  {
   "cell_type": "markdown",
   "metadata": {},
   "source": [
    "Let’s do summary statistics of the two numerical variables to see distribution of the data"
   ]
  },
  {
   "cell_type": "code",
   "execution_count": 9,
   "metadata": {},
   "outputs": [
    {
     "data": {
      "text/plain": [
       "   Min. 1st Qu.  Median    Mean 3rd Qu.    Max. \n",
       "  18.25   35.50   70.35   64.76   89.85  118.80 "
      ]
     },
     "metadata": {},
     "output_type": "display_data"
    }
   ],
   "source": [
    "summary(churn$MonthlyCharges)"
   ]
  },
  {
   "cell_type": "code",
   "execution_count": 10,
   "metadata": {},
   "outputs": [
    {
     "data": {
      "text/plain": [
       "   Min. 1st Qu.  Median    Mean 3rd Qu.    Max. \n",
       "   0.00    9.00   29.00   32.37   55.00   72.00 "
      ]
     },
     "metadata": {},
     "output_type": "display_data"
    }
   ],
   "source": [
    "summary(churn$tenure)"
   ]
  },
  {
   "cell_type": "code",
   "execution_count": 11,
   "metadata": {
    "collapsed": true
   },
   "outputs": [],
   "source": [
    "churn$tenure <- as.factor(car::recode(churn$tenure, \"1:9 = 'ShortTenure'; \n",
    "                               9:29 = 'MediumTenure'; else = 'LongTenure'\"))"
   ]
  },
  {
   "cell_type": "code",
   "execution_count": 12,
   "metadata": {
    "collapsed": true
   },
   "outputs": [],
   "source": [
    "churn$MonthlyCharges <- as.factor(car::recode(churn$MonthlyCharges, \"1:36 = 'LowCharge';36:70 = 'MediumCharge'; else = 'HighCharge'\"))"
   ]
  },
  {
   "cell_type": "code",
   "execution_count": 13,
   "metadata": {},
   "outputs": [
    {
     "data": {
      "text/html": [
       "<table>\n",
       "<thead><tr><th scope=col>gender</th><th scope=col>SeniorCitizen</th><th scope=col>Partner</th><th scope=col>Dependents</th><th scope=col>tenure</th><th scope=col>PhoneService</th><th scope=col>MultipleLines</th><th scope=col>InternetService</th><th scope=col>OnlineSecurity</th><th scope=col>OnlineBackup</th><th scope=col>DeviceProtection</th><th scope=col>TechSupport</th><th scope=col>StreamingTV</th><th scope=col>StreamingMovies</th><th scope=col>Contract</th><th scope=col>PaperlessBilling</th><th scope=col>PaymentMethod</th><th scope=col>MonthlyCharges</th><th scope=col>Churn</th></tr></thead>\n",
       "<tbody>\n",
       "\t<tr><td>Female                   </td><td>No                       </td><td>Yes                      </td><td>No                       </td><td>ShortTenure              </td><td>No                       </td><td>No phone service         </td><td>DSL                      </td><td>No                       </td><td>Yes                      </td><td>No                       </td><td>No                       </td><td>No                       </td><td>No                       </td><td>Month-to-month           </td><td>Yes                      </td><td>Electronic check         </td><td>LowCharge                </td><td>No                       </td></tr>\n",
       "\t<tr><td>Male                     </td><td>No                       </td><td>No                       </td><td>No                       </td><td>LongTenure               </td><td>Yes                      </td><td>No                       </td><td>DSL                      </td><td>Yes                      </td><td>No                       </td><td>Yes                      </td><td>No                       </td><td>No                       </td><td>No                       </td><td>One year                 </td><td>No                       </td><td>Mailed check             </td><td>MediumCharge             </td><td>No                       </td></tr>\n",
       "\t<tr><td>Male                     </td><td>No                       </td><td>No                       </td><td>No                       </td><td>ShortTenure              </td><td>Yes                      </td><td>No                       </td><td>DSL                      </td><td>Yes                      </td><td>Yes                      </td><td>No                       </td><td>No                       </td><td>No                       </td><td>No                       </td><td>Month-to-month           </td><td>Yes                      </td><td>Mailed check             </td><td>MediumCharge             </td><td>Yes                      </td></tr>\n",
       "\t<tr><td>Male                     </td><td>No                       </td><td>No                       </td><td>No                       </td><td>LongTenure               </td><td>No                       </td><td>No phone service         </td><td>DSL                      </td><td>Yes                      </td><td>No                       </td><td>Yes                      </td><td>Yes                      </td><td>No                       </td><td>No                       </td><td>One year                 </td><td>No                       </td><td>Bank transfer (automatic)</td><td>MediumCharge             </td><td>No                       </td></tr>\n",
       "\t<tr><td>Female                   </td><td>No                       </td><td>No                       </td><td>No                       </td><td>ShortTenure              </td><td>Yes                      </td><td>No                       </td><td>Fiber optic              </td><td>No                       </td><td>No                       </td><td>No                       </td><td>No                       </td><td>No                       </td><td>No                       </td><td>Month-to-month           </td><td>Yes                      </td><td>Electronic check         </td><td>HighCharge               </td><td>Yes                      </td></tr>\n",
       "\t<tr><td>Female                   </td><td>No                       </td><td>No                       </td><td>No                       </td><td>ShortTenure              </td><td>Yes                      </td><td>Yes                      </td><td>Fiber optic              </td><td>No                       </td><td>No                       </td><td>Yes                      </td><td>No                       </td><td>Yes                      </td><td>Yes                      </td><td>Month-to-month           </td><td>Yes                      </td><td>Electronic check         </td><td>HighCharge               </td><td>Yes                      </td></tr>\n",
       "</tbody>\n",
       "</table>\n"
      ],
      "text/latex": [
       "\\begin{tabular}{r|lllllllllllllllllll}\n",
       " gender & SeniorCitizen & Partner & Dependents & tenure & PhoneService & MultipleLines & InternetService & OnlineSecurity & OnlineBackup & DeviceProtection & TechSupport & StreamingTV & StreamingMovies & Contract & PaperlessBilling & PaymentMethod & MonthlyCharges & Churn\\\\\n",
       "\\hline\n",
       "\t Female                    & No                        & Yes                       & No                        & ShortTenure               & No                        & No phone service          & DSL                       & No                        & Yes                       & No                        & No                        & No                        & No                        & Month-to-month            & Yes                       & Electronic check          & LowCharge                 & No                       \\\\\n",
       "\t Male                      & No                        & No                        & No                        & LongTenure                & Yes                       & No                        & DSL                       & Yes                       & No                        & Yes                       & No                        & No                        & No                        & One year                  & No                        & Mailed check              & MediumCharge              & No                       \\\\\n",
       "\t Male                      & No                        & No                        & No                        & ShortTenure               & Yes                       & No                        & DSL                       & Yes                       & Yes                       & No                        & No                        & No                        & No                        & Month-to-month            & Yes                       & Mailed check              & MediumCharge              & Yes                      \\\\\n",
       "\t Male                      & No                        & No                        & No                        & LongTenure                & No                        & No phone service          & DSL                       & Yes                       & No                        & Yes                       & Yes                       & No                        & No                        & One year                  & No                        & Bank transfer (automatic) & MediumCharge              & No                       \\\\\n",
       "\t Female                    & No                        & No                        & No                        & ShortTenure               & Yes                       & No                        & Fiber optic               & No                        & No                        & No                        & No                        & No                        & No                        & Month-to-month            & Yes                       & Electronic check          & HighCharge                & Yes                      \\\\\n",
       "\t Female                    & No                        & No                        & No                        & ShortTenure               & Yes                       & Yes                       & Fiber optic               & No                        & No                        & Yes                       & No                        & Yes                       & Yes                       & Month-to-month            & Yes                       & Electronic check          & HighCharge                & Yes                      \\\\\n",
       "\\end{tabular}\n"
      ],
      "text/markdown": [
       "\n",
       "gender | SeniorCitizen | Partner | Dependents | tenure | PhoneService | MultipleLines | InternetService | OnlineSecurity | OnlineBackup | DeviceProtection | TechSupport | StreamingTV | StreamingMovies | Contract | PaperlessBilling | PaymentMethod | MonthlyCharges | Churn | \n",
       "|---|---|---|---|---|---|\n",
       "| Female                    | No                        | Yes                       | No                        | ShortTenure               | No                        | No phone service          | DSL                       | No                        | Yes                       | No                        | No                        | No                        | No                        | Month-to-month            | Yes                       | Electronic check          | LowCharge                 | No                        | \n",
       "| Male                      | No                        | No                        | No                        | LongTenure                | Yes                       | No                        | DSL                       | Yes                       | No                        | Yes                       | No                        | No                        | No                        | One year                  | No                        | Mailed check              | MediumCharge              | No                        | \n",
       "| Male                      | No                        | No                        | No                        | ShortTenure               | Yes                       | No                        | DSL                       | Yes                       | Yes                       | No                        | No                        | No                        | No                        | Month-to-month            | Yes                       | Mailed check              | MediumCharge              | Yes                       | \n",
       "| Male                      | No                        | No                        | No                        | LongTenure                | No                        | No phone service          | DSL                       | Yes                       | No                        | Yes                       | Yes                       | No                        | No                        | One year                  | No                        | Bank transfer (automatic) | MediumCharge              | No                        | \n",
       "| Female                    | No                        | No                        | No                        | ShortTenure               | Yes                       | No                        | Fiber optic               | No                        | No                        | No                        | No                        | No                        | No                        | Month-to-month            | Yes                       | Electronic check          | HighCharge                | Yes                       | \n",
       "| Female                    | No                        | No                        | No                        | ShortTenure               | Yes                       | Yes                       | Fiber optic               | No                        | No                        | Yes                       | No                        | Yes                       | Yes                       | Month-to-month            | Yes                       | Electronic check          | HighCharge                | Yes                       | \n",
       "\n",
       "\n"
      ],
      "text/plain": [
       "  gender SeniorCitizen Partner Dependents tenure      PhoneService\n",
       "1 Female No            Yes     No         ShortTenure No          \n",
       "2 Male   No            No      No         LongTenure  Yes         \n",
       "3 Male   No            No      No         ShortTenure Yes         \n",
       "4 Male   No            No      No         LongTenure  No          \n",
       "5 Female No            No      No         ShortTenure Yes         \n",
       "6 Female No            No      No         ShortTenure Yes         \n",
       "  MultipleLines    InternetService OnlineSecurity OnlineBackup DeviceProtection\n",
       "1 No phone service DSL             No             Yes          No              \n",
       "2 No               DSL             Yes            No           Yes             \n",
       "3 No               DSL             Yes            Yes          No              \n",
       "4 No phone service DSL             Yes            No           Yes             \n",
       "5 No               Fiber optic     No             No           No              \n",
       "6 Yes              Fiber optic     No             No           Yes             \n",
       "  TechSupport StreamingTV StreamingMovies Contract       PaperlessBilling\n",
       "1 No          No          No              Month-to-month Yes             \n",
       "2 No          No          No              One year       No              \n",
       "3 No          No          No              Month-to-month Yes             \n",
       "4 Yes         No          No              One year       No              \n",
       "5 No          No          No              Month-to-month Yes             \n",
       "6 No          Yes         Yes             Month-to-month Yes             \n",
       "  PaymentMethod             MonthlyCharges Churn\n",
       "1 Electronic check          LowCharge      No   \n",
       "2 Mailed check              MediumCharge   No   \n",
       "3 Mailed check              MediumCharge   Yes  \n",
       "4 Bank transfer (automatic) MediumCharge   No   \n",
       "5 Electronic check          HighCharge     Yes  \n",
       "6 Electronic check          HighCharge     Yes  "
      ]
     },
     "metadata": {},
     "output_type": "display_data"
    }
   ],
   "source": [
    "head(churn)"
   ]
  },
  {
   "cell_type": "markdown",
   "metadata": {},
   "source": [
    " check for missing values in the pre-processed data set."
   ]
  },
  {
   "cell_type": "code",
   "execution_count": 14,
   "metadata": {},
   "outputs": [
    {
     "data": {
      "text/html": [
       "0"
      ],
      "text/latex": [
       "0"
      ],
      "text/markdown": [
       "0"
      ],
      "text/plain": [
       "[1] 0"
      ]
     },
     "metadata": {},
     "output_type": "display_data"
    }
   ],
   "source": [
    "mean(is.na(churn)) "
   ]
  },
  {
   "cell_type": "markdown",
   "metadata": {},
   "source": [
    "# Partitioning the raw data into 70% training and 30% testing data sets"
   ]
  },
  {
   "cell_type": "code",
   "execution_count": 15,
   "metadata": {
    "collapsed": true
   },
   "outputs": [],
   "source": [
    "inTrain <- createDataPartition(churn$Churn, p=0.7, list=FALSE)\n",
    "## set random seed to make reproducible results\n",
    "set.seed(324)\n",
    "training <- churn[inTrain,]\n",
    "testing <- churn[-inTrain,]"
   ]
  },
  {
   "cell_type": "code",
   "execution_count": 16,
   "metadata": {},
   "outputs": [
    {
     "data": {
      "text/html": [
       "<ol class=list-inline>\n",
       "\t<li>4931</li>\n",
       "\t<li>19</li>\n",
       "</ol>\n"
      ],
      "text/latex": [
       "\\begin{enumerate*}\n",
       "\\item 4931\n",
       "\\item 19\n",
       "\\end{enumerate*}\n"
      ],
      "text/markdown": [
       "1. 4931\n",
       "2. 19\n",
       "\n",
       "\n"
      ],
      "text/plain": [
       "[1] 4931   19"
      ]
     },
     "metadata": {},
     "output_type": "display_data"
    },
    {
     "data": {
      "text/html": [
       "<ol class=list-inline>\n",
       "\t<li>2112</li>\n",
       "\t<li>19</li>\n",
       "</ol>\n"
      ],
      "text/latex": [
       "\\begin{enumerate*}\n",
       "\\item 2112\n",
       "\\item 19\n",
       "\\end{enumerate*}\n"
      ],
      "text/markdown": [
       "1. 2112\n",
       "2. 19\n",
       "\n",
       "\n"
      ],
      "text/plain": [
       "[1] 2112   19"
      ]
     },
     "metadata": {},
     "output_type": "display_data"
    }
   ],
   "source": [
    "dim(training) ; dim(testing)"
   ]
  },
  {
   "cell_type": "markdown",
   "metadata": {},
   "source": [
    " The training data set contains 4931 observations and 19 columns, <br/> whereas the testing data set contains 2112 observations and 19 columns."
   ]
  },
  {
   "cell_type": "code",
   "execution_count": 22,
   "metadata": {},
   "outputs": [
    {
     "ename": "ERROR",
     "evalue": "Error in eval(expr, envir, enclos): could not find function \"install.package\"\n",
     "output_type": "error",
     "traceback": [
      "Error in eval(expr, envir, enclos): could not find function \"install.package\"\nTraceback:\n"
     ]
    }
   ],
   "source": [
    "install.package(FactoMineR)"
   ]
  },
  {
   "cell_type": "code",
   "execution_count": 24,
   "metadata": {},
   "outputs": [
    {
     "name": "stderr",
     "output_type": "stream",
     "text": [
      "Installing package into 'C:/Users/mryap/Documents/R/win-library/3.3'\n",
      "(as 'lib' is unspecified)\n",
      "also installing the dependencies 'ellipse', 'flashClust', 'leaps', 'scatterplot3d'\n",
      "\n"
     ]
    },
    {
     "name": "stdout",
     "output_type": "stream",
     "text": [
      "package 'ellipse' successfully unpacked and MD5 sums checked\n",
      "package 'flashClust' successfully unpacked and MD5 sums checked\n",
      "package 'leaps' successfully unpacked and MD5 sums checked\n",
      "package 'scatterplot3d' successfully unpacked and MD5 sums checked\n",
      "package 'FactoMineR' successfully unpacked and MD5 sums checked\n",
      "\n",
      "The downloaded binary packages are in\n",
      "\tC:\\Users\\mryap\\AppData\\Local\\Temp\\RtmpeEB9Qx\\downloaded_packages\n"
     ]
    }
   ],
   "source": [
    "install.packages('FactoMineR', repos='http://cran.us.r-project.org')"
   ]
  },
  {
   "cell_type": "code",
   "execution_count": 25,
   "metadata": {},
   "outputs": [
    {
     "name": "stderr",
     "output_type": "stream",
     "text": [
      "Installing package into 'C:/Users/mryap/Documents/R/win-library/3.3'\n",
      "(as 'lib' is unspecified)\n",
      "also installing the dependencies 'modeltools', 'DEoptimR', 'mclust', 'flexmix', 'prabclus', 'diptest', 'mvtnorm', 'robustbase', 'kernlab', 'trimcluster', 'viridisLite', 'fpc', 'viridis', 'ggsci', 'abind', 'dendextend', 'ggpubr', 'ggrepel'\n",
      "\n"
     ]
    },
    {
     "name": "stdout",
     "output_type": "stream",
     "text": [
      "package 'modeltools' successfully unpacked and MD5 sums checked\n",
      "package 'DEoptimR' successfully unpacked and MD5 sums checked\n",
      "package 'mclust' successfully unpacked and MD5 sums checked\n",
      "package 'flexmix' successfully unpacked and MD5 sums checked\n",
      "package 'prabclus' successfully unpacked and MD5 sums checked\n",
      "package 'diptest' successfully unpacked and MD5 sums checked\n",
      "package 'mvtnorm' successfully unpacked and MD5 sums checked\n",
      "package 'robustbase' successfully unpacked and MD5 sums checked\n",
      "package 'kernlab' successfully unpacked and MD5 sums checked\n",
      "package 'trimcluster' successfully unpacked and MD5 sums checked\n",
      "package 'viridisLite' successfully unpacked and MD5 sums checked\n",
      "package 'fpc' successfully unpacked and MD5 sums checked\n",
      "package 'viridis' successfully unpacked and MD5 sums checked\n",
      "package 'ggsci' successfully unpacked and MD5 sums checked\n",
      "package 'abind' successfully unpacked and MD5 sums checked\n",
      "package 'dendextend' successfully unpacked and MD5 sums checked\n",
      "package 'ggpubr' successfully unpacked and MD5 sums checked\n",
      "package 'ggrepel' successfully unpacked and MD5 sums checked\n",
      "package 'factoextra' successfully unpacked and MD5 sums checked\n",
      "\n",
      "The downloaded binary packages are in\n",
      "\tC:\\Users\\mryap\\AppData\\Local\\Temp\\RtmpeEB9Qx\\downloaded_packages\n"
     ]
    }
   ],
   "source": [
    "install.packages('factoextra', repos='http://cran.us.r-project.org')"
   ]
  },
  {
   "cell_type": "code",
   "execution_count": 17,
   "metadata": {},
   "outputs": [
    {
     "name": "stderr",
     "output_type": "stream",
     "text": [
      "Loading required package: FactoMineR\n",
      "Warning message:\n",
      "\"package 'FactoMineR' was built under R version 3.3.3\"Loading required package: factoextra\n",
      "Warning message:\n",
      "\"package 'factoextra' was built under R version 3.3.3\""
     ]
    },
    {
     "data": {},
     "metadata": {},
     "output_type": "display_data"
    },
    {
     "data": {
      "image/png": "[encoded data removed]",
      "text/plain": [
       "plot without title"
      ]
     },
     "metadata": {},
     "output_type": "display_data"
    }
   ],
   "source": [
    "require(FactoMineR)\n",
    "require(factoextra)\n",
    "res.mca <- MCA(training, quali.sup=c(17,19), graph=FALSE)\n",
    "fviz_mca_var(res.mca, repel=TRUE)"
   ]
  },
  {
   "cell_type": "markdown",
   "metadata": {},
   "source": [
    "To observe and make a note as to how close input variables are to the target variable and to each other."
   ]
  },
  {
   "cell_type": "code",
   "execution_count": 30,
   "metadata": {},
   "outputs": [
    {
     "name": "stderr",
     "output_type": "stream",
     "text": [
      "Installing package into 'C:/Users/mryap/Documents/R/win-library/3.3'\n",
      "(as 'lib' is unspecified)\n"
     ]
    },
    {
     "name": "stdout",
     "output_type": "stream",
     "text": [
      "package 'ClustOfVar' successfully unpacked and MD5 sums checked\n",
      "\n",
      "The downloaded binary packages are in\n",
      "\tC:\\Users\\mryap\\AppData\\Local\\Temp\\RtmpeEB9Qx\\downloaded_packages\n"
     ]
    }
   ],
   "source": [
    "install.packages('ClustOfVar', repos='http://cran.us.r-project.org')"
   ]
  },
  {
   "cell_type": "code",
   "execution_count": 18,
   "metadata": {},
   "outputs": [
    {
     "name": "stderr",
     "output_type": "stream",
     "text": [
      "Loading required package: ClustOfVar\n"
     ]
    },
    {
     "data": {
      "image/png": "[encoded data removed]",
      "text/plain": [
       "Plot with title \"Cluster Dendrogram\""
      ]
     },
     "metadata": {},
     "output_type": "display_data"
    }
   ],
   "source": [
    "require(ClustOfVar)\n",
    "# run variable clustering excluding the target variable (churn) \n",
    "variable_tree <- hclustvar(X.quali = training[,1:18])\n",
    "#plot the dendrogram of variable groups\n",
    "plot(variable_tree)"
   ]
  },
  {
   "cell_type": "code",
   "execution_count": 19,
   "metadata": {},
   "outputs": [
    {
     "data": {
      "text/plain": [
       "\n",
       "Call:\n",
       "stability(tree = variable_tree, B = 25)\n",
       "\n",
       "\n",
       " name     description                            \n",
       " \"$matCR\" \"matrix of corrected Rand indices\"     \n",
       " \"$meanR\" \"vector of mean corrected Rand indices\""
      ]
     },
     "metadata": {},
     "output_type": "display_data"
    },
    {
     "data": {
      "image/png": "[encoded data removed]",
      "text/plain": [
       "Plot with title \"Stability of the partitions\""
      ]
     },
     "metadata": {},
     "output_type": "display_data"
    }
   ],
   "source": [
    "# requesting for 25 bootstrap samplings and a plot\n",
    "stability(variable_tree, B=25) "
   ]
  },
  {
   "cell_type": "markdown",
   "metadata": {
    "collapsed": true
   },
   "source": [
    "### 27 April 2016"
   ]
  },
  {
   "cell_type": "code",
   "execution_count": 20,
   "metadata": {},
   "outputs": [
    {
     "name": "stdout",
     "output_type": "stream",
     "text": [
      "$cluster1\n",
      "       squared loading\n",
      "gender               1\n",
      "\n",
      "$cluster2\n",
      "              squared loading\n",
      "SeniorCitizen               1\n",
      "\n",
      "$cluster3\n",
      "           squared loading\n",
      "Partner          0.7225408\n",
      "Dependents       0.7225408\n",
      "\n",
      "$cluster4\n",
      "              squared loading\n",
      "tenure              0.7022497\n",
      "Contract            0.7138511\n",
      "PaymentMethod       0.4537040\n",
      "\n",
      "$cluster5\n",
      "              squared loading\n",
      "PhoneService                1\n",
      "MultipleLines               1\n",
      "\n",
      "$cluster6\n",
      "                 squared loading\n",
      "InternetService        0.9974190\n",
      "OnlineSecurity         0.9971881\n",
      "OnlineBackup           0.9972075\n",
      "DeviceProtection       0.9972508\n",
      "TechSupport            0.9971901\n",
      "StreamingTV            0.9973549\n",
      "StreamingMovies        0.9973506\n",
      "MonthlyCharges         0.8482546\n",
      "\n",
      "$cluster7\n",
      "                 squared loading\n",
      "PaperlessBilling               1\n",
      "\n"
     ]
    }
   ],
   "source": [
    "## cut the variable tree into 7(?) groups of variables \n",
    "clus <- cutreevar(variable_tree,7)\n",
    "## print the list of variables in each cluster groups\n",
    "print(clus$var)"
   ]
  },
  {
   "cell_type": "markdown",
   "metadata": {},
   "source": [
    "The 7-clusters and the variable names in each cluster are listed above. \n",
    "<br/>The practical guide to minimizing redundancy is to select a cluster representative. \n",
    "<br/>However, subject-matter considerations should have a say in the consideration and selection of other candidate representatives of each variable cluster group."
   ]
  },
  {
   "cell_type": "markdown",
   "metadata": {},
   "source": [
    "# Descriptive statistics of customer churn\n",
    "what was the overall customer churn rate in the training data set?"
   ]
  },
  {
   "cell_type": "code",
   "execution_count": 21,
   "metadata": {},
   "outputs": [
    {
     "data": {
      "text/plain": [
       "\n",
       "  No  Yes \n",
       "73.5 26.5 "
      ]
     },
     "metadata": {},
     "output_type": "display_data"
    }
   ],
   "source": [
    "# overall customer churn rate\n",
    "round(prop.table(table(training$Churn))*100,1)"
   ]
  },
  {
   "cell_type": "markdown",
   "metadata": {},
   "source": [
    "The overall customer attrition rate was approximately 26.5%."
   ]
  },
  {
   "cell_type": "code",
   "execution_count": 22,
   "metadata": {},
   "outputs": [
    {
     "ename": "ERROR",
     "evalue": "Error in data.frame(..., check.names = FALSE): arguments imply differing number of rows: 52, 66\n",
     "output_type": "error",
     "traceback": [
      "Error in data.frame(..., check.names = FALSE): arguments imply differing number of rows: 52, 66\nTraceback:\n",
      "1. as.data.frame(cbind(variable, demog_counts))",
      "2. cbind(variable, demog_counts)",
      "3. cbind(deparse.level, ...)",
      "4. data.frame(..., check.names = FALSE)",
      "5. stop(gettextf(\"arguments imply differing number of rows: %s\", \n .     paste(unique(nrows), collapse = \", \")), domain = NA)"
     ]
    }
   ],
   "source": [
    "cols_aggr_demog <- c(1:4,6:7,9:14,16)\n",
    "variable <- rep(names(training[,cols_aggr_demog]),each=4)\n",
    "demog_counts=c()\n",
    "for(i in 1:ncol(training[,cols_aggr_demog])) {\n",
    "    demog_count <- ddply(training, .(training[,cols_aggr_demog][,i],training$Churn), \"nrow\")\n",
    "     names(demog_count) <- c(\"class\",\"Churn\",\"count\")\n",
    "    demog_counts <- as.data.frame(rbind(demog_counts, demog_count))\n",
    " }\n",
    "\n",
    "demog_churn_rate <- as.data.frame(cbind(variable, demog_counts))\n",
    "demog_churn_rate1 <- dcast(demog_churn_rate, variable + class ~ Churn, value.var=\"count\")\n",
    "demog_churn_rate2 <- mutate(demog_churn_rate1, churn_rate=round((Yes/(No+Yes)*100)-26.5,1))\n",
    "demog <- as.data.frame(paste(demog_churn_rate2$variable,demog_churn_rate2$class))\n",
    "names(demog) <- c(\"Category\")\n",
    "demog2 <- as.data.frame(cbind(demog,demog_churn_rate2))\n",
    "cols_aggr_nlev3 <- c(5,8,15,18)\n",
    "variable <- rep(names(training[,cols_aggr_nlev3]),each=6)\n",
    "nlev3_counts=c()\n",
    "for(i in 1:ncol(training[,cols_aggr_nlev3])) {\n",
    "    nlev3_count <- ddply(training, .(training[,cols_aggr_nlev3][,i],training$Churn), \"nrow\")\n",
    "     names(nlev3_count) <- c(\"class\",\"Churn\",\"count\")\n",
    "    nlev3_counts <- as.data.frame(rbind(nlev3_counts, nlev3_count))\n",
    " }\n",
    "\n",
    "nlev3_churn_rate <- as.data.frame(cbind(variable, nlev3_counts))\n",
    "nlev3_churn_rate1 <- dcast(nlev3_churn_rate, variable + class ~ Churn, value.var=\"count\")\n",
    "nlev3_churn_rate2 <- mutate(nlev3_churn_rate1, churn_rate=round((Yes/(No+Yes)*100)-26.5,1))\n",
    "nlev3 <- as.data.frame(paste(nlev3_churn_rate2$variable,nlev3_churn_rate2$class))\n",
    "names(nlev3) <- c(\"Category\")\n",
    "nlev3 <- as.data.frame(cbind(nlev3,nlev3_churn_rate2))\n",
    "variable <- rep(\"PaymentMethod\",8)\n",
    "nlev4_count <- ddply(training, .(training[,17],training$Churn), \"nrow\")\n",
    "names(nlev4_count) <- c(\"class\",\"Churn\",\"count\")\n",
    "nlev4_churn_rate <- as.data.frame(cbind(variable, nlev4_count))\n",
    "nlev4_churn_rate1 <- dcast(nlev4_churn_rate, variable + class ~ Churn, value.var=\"count\")\n",
    "nlev4_churn_rate2 <- mutate(nlev4_churn_rate1, churn_rate=round((Yes/(No+Yes)*100)-26.5,1))\n",
    "nlev4 <- as.data.frame(paste(nlev4_churn_rate$variable4,nlev4_churn_rate2$class))\n",
    "names(nlev4) <- c(\"Category\")\n",
    "nlev4 <- as.data.frame(cbind(nlev4,nlev4_churn_rate2))\n",
    "final_agg <- as.data.frame(rbind(demog2, nlev3, nlev4))\n",
    "\n",
    "ggplot(final_agg, aes(Category, churn_rate, color=churn_rate < 0)) +\n",
    "    geom_segment(aes(x=reorder(Category, -churn_rate), xend = Category,\n",
    "                     y = 0, yend = churn_rate), \n",
    "                 size = 1.1, alpha = 0.7) +\n",
    "    geom_point(size = 2.5) +\n",
    "        theme(legend.position=\"none\") +\n",
    "    xlab(\"Variable\") +\n",
    "    ylab(\"Customer Churn (%)\") +\n",
    "    ggtitle(\"Customer Attrition rate \\n Difference from the overall average (%)\") +\n",
    "    theme(axis.text.x=element_text(angle=45, hjust=1)) +\n",
    "    coord_flip()"
   ]
  },
  {
   "cell_type": "code",
   "execution_count": null,
   "metadata": {
    "collapsed": true
   },
   "outputs": [],
   "source": []
  }
 ],
 "metadata": {
  "kernelspec": {
   "display_name": "R",
   "language": "R",
   "name": "ir"
  },
  "language_info": {
   "codemirror_mode": "r",
   "file_extension": ".r",
   "mimetype": "text/x-r-source",
   "name": "R",
   "pygments_lexer": "r",
   "version": "3.4.1"
  }
 },
 "nbformat": 4,
 "nbformat_minor": 2
}

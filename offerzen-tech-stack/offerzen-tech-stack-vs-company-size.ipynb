{
 "cells": [
  {
   "cell_type": "markdown",
   "metadata": {},
   "source": [
    "# Offerzen Tech Stacks vs Company Size\n",
    "\n",
    "> The purpose of this notebook is to be able to show the company size for any tech stack being offered in the offerzen public dataset.\n",
    "\n",
    "## Installing Packages\n",
    "\n",
    "First we need to install `pandas` on our docker instance."
   ]
  },
  {
   "cell_type": "code",
   "execution_count": null,
   "metadata": {
    "scrolled": true
   },
   "outputs": [
    {
     "name": "stdout",
     "output_type": "stream",
     "text": [
      "Requirement already satisfied: pandas in /opt/conda/lib/python3.7/site-packages (0.23.4)\n",
      "Requirement already satisfied: matplotlib in /opt/conda/lib/python3.7/site-packages (3.0.2)\n",
      "Requirement already satisfied: seaborn in /opt/conda/lib/python3.7/site-packages (0.9.0)\n",
      "Requirement already satisfied: python-dateutil>=2.5.0 in /opt/conda/lib/python3.7/site-packages (from pandas) (2.7.5)\n",
      "Requirement already satisfied: pytz>=2011k in /opt/conda/lib/python3.7/site-packages (from pandas) (2018.7)\n",
      "Requirement already satisfied: numpy>=1.9.0 in /opt/conda/lib/python3.7/site-packages (from pandas) (1.15.4)\n",
      "Requirement already satisfied: pyparsing!=2.0.4,!=2.1.2,!=2.1.6,>=2.0.1 in /opt/conda/lib/python3.7/site-packages (from matplotlib) (2.3.0)\n",
      "Requirement already satisfied: kiwisolver>=1.0.1 in /opt/conda/lib/python3.7/site-packages (from matplotlib) (1.0.1)\n",
      "Requirement already satisfied: cycler>=0.10 in /opt/conda/lib/python3.7/site-packages (from matplotlib) (0.10.0)\n",
      "Requirement already satisfied: scipy>=0.14.0 in /opt/conda/lib/python3.7/site-packages (from seaborn) (1.2.0)\n",
      "Requirement already satisfied: six>=1.5 in /opt/conda/lib/python3.7/site-packages (from python-dateutil>=2.5.0->pandas) (1.12.0)\n",
      "Requirement already satisfied: setuptools in /opt/conda/lib/python3.7/site-packages (from kiwisolver>=1.0.1->matplotlib) (40.6.3)\n"
     ]
    }
   ],
   "source": [
    "import sys\n",
    "!{sys.executable} -m pip install pandas matplotlib seaborn"
   ]
  },
  {
   "cell_type": "code",
   "execution_count": 2,
   "metadata": {},
   "outputs": [],
   "source": [
    "import pandas as pd\n",
    "from matplotlib import pyplot as plt\n",
    "import seaborn as sns\n",
    "\n",
    "%matplotlib inline"
   ]
  },
  {
   "cell_type": "code",
   "execution_count": 3,
   "metadata": {},
   "outputs": [
    {
     "data": {
      "text/html": [
       "<div>\n",
       "<style scoped>\n",
       "    .dataframe tbody tr th:only-of-type {\n",
       "        vertical-align: middle;\n",
       "    }\n",
       "\n",
       "    .dataframe tbody tr th {\n",
       "        vertical-align: top;\n",
       "    }\n",
       "\n",
       "    .dataframe thead th {\n",
       "        text-align: right;\n",
       "    }\n",
       "</style>\n",
       "<table border=\"1\" class=\"dataframe\">\n",
       "  <thead>\n",
       "    <tr style=\"text-align: right;\">\n",
       "      <th></th>\n",
       "      <th>company_size</th>\n",
       "      <th>name</th>\n",
       "      <th>tech</th>\n",
       "    </tr>\n",
       "  </thead>\n",
       "  <tbody>\n",
       "    <tr>\n",
       "      <th>0</th>\n",
       "      <td>1-15</td>\n",
       "      <td>&amp;Wider</td>\n",
       "      <td>.Net Core 2.0</td>\n",
       "    </tr>\n",
       "    <tr>\n",
       "      <th>1</th>\n",
       "      <td>1-15</td>\n",
       "      <td>&amp;Wider</td>\n",
       "      <td>ASP.NET</td>\n",
       "    </tr>\n",
       "    <tr>\n",
       "      <th>2</th>\n",
       "      <td>1-15</td>\n",
       "      <td>&amp;Wider</td>\n",
       "      <td>C#</td>\n",
       "    </tr>\n",
       "    <tr>\n",
       "      <th>3</th>\n",
       "      <td>1-15</td>\n",
       "      <td>&amp;Wider</td>\n",
       "      <td>HTML5</td>\n",
       "    </tr>\n",
       "    <tr>\n",
       "      <th>4</th>\n",
       "      <td>1-15</td>\n",
       "      <td>&amp;Wider</td>\n",
       "      <td>MS SQL</td>\n",
       "    </tr>\n",
       "    <tr>\n",
       "      <th>5</th>\n",
       "      <td>1-15</td>\n",
       "      <td>&amp;Wider</td>\n",
       "      <td>Microsoft Azure</td>\n",
       "    </tr>\n",
       "    <tr>\n",
       "      <th>6</th>\n",
       "      <td>1-15</td>\n",
       "      <td>&amp;Wider</td>\n",
       "      <td>jQuery</td>\n",
       "    </tr>\n",
       "    <tr>\n",
       "      <th>7</th>\n",
       "      <td>1-15</td>\n",
       "      <td>0xLabs</td>\n",
       "      <td>.Net Core 2.0</td>\n",
       "    </tr>\n",
       "    <tr>\n",
       "      <th>8</th>\n",
       "      <td>1-15</td>\n",
       "      <td>0xLabs</td>\n",
       "      <td>Bootstrap</td>\n",
       "    </tr>\n",
       "    <tr>\n",
       "      <th>9</th>\n",
       "      <td>1-15</td>\n",
       "      <td>0xLabs</td>\n",
       "      <td>HTML5</td>\n",
       "    </tr>\n",
       "    <tr>\n",
       "      <th>10</th>\n",
       "      <td>1-15</td>\n",
       "      <td>0xLabs</td>\n",
       "      <td>Javascript</td>\n",
       "    </tr>\n",
       "    <tr>\n",
       "      <th>11</th>\n",
       "      <td>1-15</td>\n",
       "      <td>0xLabs</td>\n",
       "      <td>MS SQL</td>\n",
       "    </tr>\n",
       "    <tr>\n",
       "      <th>12</th>\n",
       "      <td>1-15</td>\n",
       "      <td>0xLabs</td>\n",
       "      <td>Microsoft Azure</td>\n",
       "    </tr>\n",
       "    <tr>\n",
       "      <th>13</th>\n",
       "      <td>1-15</td>\n",
       "      <td>0xLabs</td>\n",
       "      <td>Node.js</td>\n",
       "    </tr>\n",
       "    <tr>\n",
       "      <th>14</th>\n",
       "      <td>1-15</td>\n",
       "      <td>0xLabs</td>\n",
       "      <td>React</td>\n",
       "    </tr>\n",
       "    <tr>\n",
       "      <th>15</th>\n",
       "      <td>1-15</td>\n",
       "      <td>0xLabs</td>\n",
       "      <td>Sass</td>\n",
       "    </tr>\n",
       "    <tr>\n",
       "      <th>16</th>\n",
       "      <td>1-15</td>\n",
       "      <td>0xLabs</td>\n",
       "      <td>TypeScript</td>\n",
       "    </tr>\n",
       "    <tr>\n",
       "      <th>17</th>\n",
       "      <td>51-200</td>\n",
       "      <td>1-grid</td>\n",
       "      <td>ASP.NET</td>\n",
       "    </tr>\n",
       "    <tr>\n",
       "      <th>18</th>\n",
       "      <td>51-200</td>\n",
       "      <td>1-grid</td>\n",
       "      <td>PHP</td>\n",
       "    </tr>\n",
       "    <tr>\n",
       "      <th>19</th>\n",
       "      <td>15-50</td>\n",
       "      <td>101 Collective</td>\n",
       "      <td>AngularJS</td>\n",
       "    </tr>\n",
       "    <tr>\n",
       "      <th>20</th>\n",
       "      <td>15-50</td>\n",
       "      <td>101 Collective</td>\n",
       "      <td>Django</td>\n",
       "    </tr>\n",
       "    <tr>\n",
       "      <th>21</th>\n",
       "      <td>15-50</td>\n",
       "      <td>101 Collective</td>\n",
       "      <td>HTML5</td>\n",
       "    </tr>\n",
       "    <tr>\n",
       "      <th>22</th>\n",
       "      <td>15-50</td>\n",
       "      <td>101 Collective</td>\n",
       "      <td>Java</td>\n",
       "    </tr>\n",
       "    <tr>\n",
       "      <th>23</th>\n",
       "      <td>15-50</td>\n",
       "      <td>101 Collective</td>\n",
       "      <td>Javascript</td>\n",
       "    </tr>\n",
       "    <tr>\n",
       "      <th>24</th>\n",
       "      <td>15-50</td>\n",
       "      <td>101 Collective</td>\n",
       "      <td>PostgreSQL</td>\n",
       "    </tr>\n",
       "    <tr>\n",
       "      <th>25</th>\n",
       "      <td>15-50</td>\n",
       "      <td>101 Collective</td>\n",
       "      <td>Python</td>\n",
       "    </tr>\n",
       "    <tr>\n",
       "      <th>26</th>\n",
       "      <td>15-50</td>\n",
       "      <td>101 Collective</td>\n",
       "      <td>React</td>\n",
       "    </tr>\n",
       "    <tr>\n",
       "      <th>27</th>\n",
       "      <td>15-50</td>\n",
       "      <td>101 Collective</td>\n",
       "      <td>Redis</td>\n",
       "    </tr>\n",
       "    <tr>\n",
       "      <th>28</th>\n",
       "      <td>15-50</td>\n",
       "      <td>101 Collective</td>\n",
       "      <td>Sass</td>\n",
       "    </tr>\n",
       "    <tr>\n",
       "      <th>29</th>\n",
       "      <td>15-50</td>\n",
       "      <td>101 Collective</td>\n",
       "      <td>TypeScript</td>\n",
       "    </tr>\n",
       "    <tr>\n",
       "      <th>...</th>\n",
       "      <td>...</td>\n",
       "      <td>...</td>\n",
       "      <td>...</td>\n",
       "    </tr>\n",
       "    <tr>\n",
       "      <th>9867</th>\n",
       "      <td>201-500</td>\n",
       "      <td>weFix</td>\n",
       "      <td>MS SQL</td>\n",
       "    </tr>\n",
       "    <tr>\n",
       "      <th>9868</th>\n",
       "      <td>201-500</td>\n",
       "      <td>weFix</td>\n",
       "      <td>PostgreSQL</td>\n",
       "    </tr>\n",
       "    <tr>\n",
       "      <th>9869</th>\n",
       "      <td>201-500</td>\n",
       "      <td>weFix</td>\n",
       "      <td>Python</td>\n",
       "    </tr>\n",
       "    <tr>\n",
       "      <th>9870</th>\n",
       "      <td>201-500</td>\n",
       "      <td>weFix</td>\n",
       "      <td>React</td>\n",
       "    </tr>\n",
       "    <tr>\n",
       "      <th>9871</th>\n",
       "      <td>201-500</td>\n",
       "      <td>weFix</td>\n",
       "      <td>Redis</td>\n",
       "    </tr>\n",
       "    <tr>\n",
       "      <th>9872</th>\n",
       "      <td>51-200</td>\n",
       "      <td>wiGroup</td>\n",
       "      <td>Amazon EC2</td>\n",
       "    </tr>\n",
       "    <tr>\n",
       "      <th>9873</th>\n",
       "      <td>51-200</td>\n",
       "      <td>wiGroup</td>\n",
       "      <td>Amazon S3</td>\n",
       "    </tr>\n",
       "    <tr>\n",
       "      <th>9874</th>\n",
       "      <td>51-200</td>\n",
       "      <td>wiGroup</td>\n",
       "      <td>Amazon VPC</td>\n",
       "    </tr>\n",
       "    <tr>\n",
       "      <th>9875</th>\n",
       "      <td>51-200</td>\n",
       "      <td>wiGroup</td>\n",
       "      <td>Java</td>\n",
       "    </tr>\n",
       "    <tr>\n",
       "      <th>9876</th>\n",
       "      <td>51-200</td>\n",
       "      <td>wiGroup</td>\n",
       "      <td>Laravel</td>\n",
       "    </tr>\n",
       "    <tr>\n",
       "      <th>9877</th>\n",
       "      <td>51-200</td>\n",
       "      <td>wiGroup</td>\n",
       "      <td>MySQL</td>\n",
       "    </tr>\n",
       "    <tr>\n",
       "      <th>9878</th>\n",
       "      <td>51-200</td>\n",
       "      <td>wiGroup</td>\n",
       "      <td>PHP</td>\n",
       "    </tr>\n",
       "    <tr>\n",
       "      <th>9879</th>\n",
       "      <td>51-200</td>\n",
       "      <td>wiGroup</td>\n",
       "      <td>Redis</td>\n",
       "    </tr>\n",
       "    <tr>\n",
       "      <th>9880</th>\n",
       "      <td>51-200</td>\n",
       "      <td>wiGroup</td>\n",
       "      <td>Spring Framework</td>\n",
       "    </tr>\n",
       "    <tr>\n",
       "      <th>9881</th>\n",
       "      <td>51-200</td>\n",
       "      <td>wiGroup</td>\n",
       "      <td>Swift</td>\n",
       "    </tr>\n",
       "    <tr>\n",
       "      <th>9882</th>\n",
       "      <td>51-200</td>\n",
       "      <td>wiGroup</td>\n",
       "      <td>nginx</td>\n",
       "    </tr>\n",
       "    <tr>\n",
       "      <th>9883</th>\n",
       "      <td>1-15</td>\n",
       "      <td>ydangle apps</td>\n",
       "      <td>Amazon EC2</td>\n",
       "    </tr>\n",
       "    <tr>\n",
       "      <th>9884</th>\n",
       "      <td>1-15</td>\n",
       "      <td>ydangle apps</td>\n",
       "      <td>Amazon S3</td>\n",
       "    </tr>\n",
       "    <tr>\n",
       "      <th>9885</th>\n",
       "      <td>1-15</td>\n",
       "      <td>ydangle apps</td>\n",
       "      <td>C#</td>\n",
       "    </tr>\n",
       "    <tr>\n",
       "      <th>9886</th>\n",
       "      <td>1-15</td>\n",
       "      <td>ydangle apps</td>\n",
       "      <td>Google App Engine</td>\n",
       "    </tr>\n",
       "    <tr>\n",
       "      <th>9887</th>\n",
       "      <td>1-15</td>\n",
       "      <td>ydangle apps</td>\n",
       "      <td>HTML5</td>\n",
       "    </tr>\n",
       "    <tr>\n",
       "      <th>9888</th>\n",
       "      <td>1-15</td>\n",
       "      <td>ydangle apps</td>\n",
       "      <td>Java</td>\n",
       "    </tr>\n",
       "    <tr>\n",
       "      <th>9889</th>\n",
       "      <td>1-15</td>\n",
       "      <td>ydangle apps</td>\n",
       "      <td>Javascript</td>\n",
       "    </tr>\n",
       "    <tr>\n",
       "      <th>9890</th>\n",
       "      <td>1-15</td>\n",
       "      <td>ydangle apps</td>\n",
       "      <td>MySQL</td>\n",
       "    </tr>\n",
       "    <tr>\n",
       "      <th>9891</th>\n",
       "      <td>1-15</td>\n",
       "      <td>ydangle apps</td>\n",
       "      <td>Node.js</td>\n",
       "    </tr>\n",
       "    <tr>\n",
       "      <th>9892</th>\n",
       "      <td>1-15</td>\n",
       "      <td>ydangle apps</td>\n",
       "      <td>Objective-C</td>\n",
       "    </tr>\n",
       "    <tr>\n",
       "      <th>9893</th>\n",
       "      <td>1-15</td>\n",
       "      <td>ydangle apps</td>\n",
       "      <td>PHP</td>\n",
       "    </tr>\n",
       "    <tr>\n",
       "      <th>9894</th>\n",
       "      <td>1-15</td>\n",
       "      <td>ydangle apps</td>\n",
       "      <td>React</td>\n",
       "    </tr>\n",
       "    <tr>\n",
       "      <th>9895</th>\n",
       "      <td>1-15</td>\n",
       "      <td>ydangle apps</td>\n",
       "      <td>Swift</td>\n",
       "    </tr>\n",
       "    <tr>\n",
       "      <th>9896</th>\n",
       "      <td>1-15</td>\n",
       "      <td>ydangle apps</td>\n",
       "      <td>jQuery</td>\n",
       "    </tr>\n",
       "  </tbody>\n",
       "</table>\n",
       "<p>9897 rows × 3 columns</p>\n",
       "</div>"
      ],
      "text/plain": [
       "     company_size            name               tech\n",
       "0            1-15          &Wider      .Net Core 2.0\n",
       "1            1-15          &Wider            ASP.NET\n",
       "2            1-15          &Wider                 C#\n",
       "3            1-15          &Wider              HTML5\n",
       "4            1-15          &Wider             MS SQL\n",
       "5            1-15          &Wider    Microsoft Azure\n",
       "6            1-15          &Wider            jQuery \n",
       "7            1-15          0xLabs      .Net Core 2.0\n",
       "8            1-15          0xLabs         Bootstrap \n",
       "9            1-15          0xLabs              HTML5\n",
       "10           1-15          0xLabs         Javascript\n",
       "11           1-15          0xLabs             MS SQL\n",
       "12           1-15          0xLabs    Microsoft Azure\n",
       "13           1-15          0xLabs            Node.js\n",
       "14           1-15          0xLabs              React\n",
       "15           1-15          0xLabs               Sass\n",
       "16           1-15          0xLabs         TypeScript\n",
       "17         51-200          1-grid            ASP.NET\n",
       "18         51-200          1-grid                PHP\n",
       "19          15-50  101 Collective          AngularJS\n",
       "20          15-50  101 Collective             Django\n",
       "21          15-50  101 Collective              HTML5\n",
       "22          15-50  101 Collective               Java\n",
       "23          15-50  101 Collective         Javascript\n",
       "24          15-50  101 Collective         PostgreSQL\n",
       "25          15-50  101 Collective             Python\n",
       "26          15-50  101 Collective              React\n",
       "27          15-50  101 Collective              Redis\n",
       "28          15-50  101 Collective               Sass\n",
       "29          15-50  101 Collective         TypeScript\n",
       "...           ...             ...                ...\n",
       "9867      201-500           weFix             MS SQL\n",
       "9868      201-500           weFix         PostgreSQL\n",
       "9869      201-500           weFix             Python\n",
       "9870      201-500           weFix              React\n",
       "9871      201-500           weFix              Redis\n",
       "9872       51-200         wiGroup         Amazon EC2\n",
       "9873       51-200         wiGroup          Amazon S3\n",
       "9874       51-200         wiGroup         Amazon VPC\n",
       "9875       51-200         wiGroup               Java\n",
       "9876       51-200         wiGroup            Laravel\n",
       "9877       51-200         wiGroup              MySQL\n",
       "9878       51-200         wiGroup                PHP\n",
       "9879       51-200         wiGroup              Redis\n",
       "9880       51-200         wiGroup   Spring Framework\n",
       "9881       51-200         wiGroup              Swift\n",
       "9882       51-200         wiGroup              nginx\n",
       "9883         1-15    ydangle apps         Amazon EC2\n",
       "9884         1-15    ydangle apps          Amazon S3\n",
       "9885         1-15    ydangle apps                 C#\n",
       "9886         1-15    ydangle apps  Google App Engine\n",
       "9887         1-15    ydangle apps              HTML5\n",
       "9888         1-15    ydangle apps               Java\n",
       "9889         1-15    ydangle apps         Javascript\n",
       "9890         1-15    ydangle apps              MySQL\n",
       "9891         1-15    ydangle apps            Node.js\n",
       "9892         1-15    ydangle apps        Objective-C\n",
       "9893         1-15    ydangle apps                PHP\n",
       "9894         1-15    ydangle apps              React\n",
       "9895         1-15    ydangle apps              Swift\n",
       "9896         1-15    ydangle apps            jQuery \n",
       "\n",
       "[9897 rows x 3 columns]"
      ]
     },
     "execution_count": 3,
     "metadata": {},
     "output_type": "execute_result"
    }
   ],
   "source": [
    "df = pd.read_json('offerzen_company_size.json')\n",
    "df"
   ]
  },
  {
   "cell_type": "markdown",
   "metadata": {},
   "source": [
    "## List of Tech Stacks\n",
    "\n",
    "This is a snippet that can be used to determine which tech stacks are available to use"
   ]
  },
  {
   "cell_type": "code",
   "execution_count": 4,
   "metadata": {},
   "outputs": [
    {
     "data": {
      "text/plain": [
       "array(['.Net Core 2.0', 'ASP.NET', 'C#', 'HTML5', 'MS SQL',\n",
       "       'Microsoft Azure', 'jQuery ', 'Bootstrap ', 'Javascript',\n",
       "       'Node.js', 'React', 'Sass', 'TypeScript', 'PHP', 'AngularJS',\n",
       "       'Django', 'Java', 'PostgreSQL', 'Python', 'Redis', 'nginx',\n",
       "       'Google App Engine', 'Jasmine', 'MEAN Stack', 'MySQL',\n",
       "       'TensorFlow', 'Amazon EC2', 'Amazon S3', 'MongoDB', 'Objective-C',\n",
       "       'Swift', 'C', 'C++', 'Go', 'Ember.js', 'Heroku', 'Rails', 'Ruby',\n",
       "       'Sidekiq', 'Xamarin', 'Laravel', 'Kotlin', 'unity', 'Amazon VPC',\n",
       "       'RabbitMQ ', 'Apache Cordova', 'Backbone.js', 'Spring Framework',\n",
       "       'Perl', 'StructureMap', 'CouchDB', 'Ionic', 'memcached', 'Meteor',\n",
       "       'Groovy', 'Scala', 'Kibana', 'MATLAB', 'Vue.js', 'CasperJS',\n",
       "       'Oracle', 'Cassandra', 'ExtJS', 'Clojure', 'Kafka', 'Play ', 'R',\n",
       "       'Erlang', 'Elixir', 'Phalcon', 'Solidity', 'Aurelia'], dtype=object)"
      ]
     },
     "execution_count": 4,
     "metadata": {},
     "output_type": "execute_result"
    }
   ],
   "source": [
    "df.tech.unique()"
   ]
  },
  {
   "cell_type": "markdown",
   "metadata": {},
   "source": [
    "## Running the Visualization\n",
    "\n",
    "After determining the tech stack that you would like to see, you run the below to visualize the output\n",
    "\n",
    "> Try using different tech_stack values and see what gets generated."
   ]
  },
  {
   "cell_type": "markdown",
   "metadata": {},
   "source": [
    "### Java Stack"
   ]
  },
  {
   "cell_type": "code",
   "execution_count": 5,
   "metadata": {},
   "outputs": [
    {
     "data": {
      "text/html": [
       "<div>\n",
       "<style scoped>\n",
       "    .dataframe tbody tr th:only-of-type {\n",
       "        vertical-align: middle;\n",
       "    }\n",
       "\n",
       "    .dataframe tbody tr th {\n",
       "        vertical-align: top;\n",
       "    }\n",
       "\n",
       "    .dataframe thead th {\n",
       "        text-align: right;\n",
       "    }\n",
       "</style>\n",
       "<table border=\"1\" class=\"dataframe\">\n",
       "  <thead>\n",
       "    <tr style=\"text-align: right;\">\n",
       "      <th></th>\n",
       "      <th>company_size</th>\n",
       "      <th>name</th>\n",
       "    </tr>\n",
       "  </thead>\n",
       "  <tbody>\n",
       "    <tr>\n",
       "      <th>0</th>\n",
       "      <td>1-15</td>\n",
       "      <td>105</td>\n",
       "    </tr>\n",
       "    <tr>\n",
       "      <th>1</th>\n",
       "      <td>1000+</td>\n",
       "      <td>24</td>\n",
       "    </tr>\n",
       "    <tr>\n",
       "      <th>2</th>\n",
       "      <td>15-50</td>\n",
       "      <td>106</td>\n",
       "    </tr>\n",
       "    <tr>\n",
       "      <th>3</th>\n",
       "      <td>201-500</td>\n",
       "      <td>16</td>\n",
       "    </tr>\n",
       "    <tr>\n",
       "      <th>4</th>\n",
       "      <td>501-1000</td>\n",
       "      <td>15</td>\n",
       "    </tr>\n",
       "    <tr>\n",
       "      <th>5</th>\n",
       "      <td>51-200</td>\n",
       "      <td>63</td>\n",
       "    </tr>\n",
       "  </tbody>\n",
       "</table>\n",
       "</div>"
      ],
      "text/plain": [
       "  company_size  name\n",
       "0         1-15   105\n",
       "1        1000+    24\n",
       "2        15-50   106\n",
       "3      201-500    16\n",
       "4     501-1000    15\n",
       "5       51-200    63"
      ]
     },
     "execution_count": 5,
     "metadata": {},
     "output_type": "execute_result"
    }
   ],
   "source": [
    "technology = 'Java'\n",
    "\n",
    "df_tech = df[df.tech == technology]\n",
    "result = df_tech[['company_size','name']].groupby('company_size').count().reset_index()\n",
    "\n",
    "result\n"
   ]
  },
  {
   "cell_type": "code",
   "execution_count": 6,
   "metadata": {},
   "outputs": [
    {
     "data": {
      "text/plain": [
       "Text(0, 0.5, 'Number of Companies')"
      ]
     },
     "execution_count": 6,
     "metadata": {},
     "output_type": "execute_result"
    },
    {
     "data": {
      "image/png": "[encoded data removed]",
      "text/plain": [
       "<Figure size 432x288 with 1 Axes>"
      ]
     },
     "metadata": {},
     "output_type": "display_data"
    }
   ],
   "source": [
    "sns.set(style=\"whitegrid\")\n",
    "plot = sns.barplot(data = result, \n",
    "            x = 'company_size', \n",
    "            y = 'name')\n",
    "# use better labels to communicate the result\n",
    "plot.set_title(f\"Number of companies vs company sizes that offer the Tech Stack '{technology}'\")\n",
    "plot.set_xlabel(\"Company Size\")\n",
    "plot.set_ylabel(\"Number of Companies\")"
   ]
  },
  {
   "cell_type": "markdown",
   "metadata": {},
   "source": [
    "### Python"
   ]
  },
  {
   "cell_type": "code",
   "execution_count": 7,
   "metadata": {},
   "outputs": [
    {
     "data": {
      "text/html": [
       "<div>\n",
       "<style scoped>\n",
       "    .dataframe tbody tr th:only-of-type {\n",
       "        vertical-align: middle;\n",
       "    }\n",
       "\n",
       "    .dataframe tbody tr th {\n",
       "        vertical-align: top;\n",
       "    }\n",
       "\n",
       "    .dataframe thead th {\n",
       "        text-align: right;\n",
       "    }\n",
       "</style>\n",
       "<table border=\"1\" class=\"dataframe\">\n",
       "  <thead>\n",
       "    <tr style=\"text-align: right;\">\n",
       "      <th></th>\n",
       "      <th>company_size</th>\n",
       "      <th>name</th>\n",
       "    </tr>\n",
       "  </thead>\n",
       "  <tbody>\n",
       "    <tr>\n",
       "      <th>0</th>\n",
       "      <td>1-15</td>\n",
       "      <td>93</td>\n",
       "    </tr>\n",
       "    <tr>\n",
       "      <th>1</th>\n",
       "      <td>1000+</td>\n",
       "      <td>15</td>\n",
       "    </tr>\n",
       "    <tr>\n",
       "      <th>2</th>\n",
       "      <td>15-50</td>\n",
       "      <td>69</td>\n",
       "    </tr>\n",
       "    <tr>\n",
       "      <th>3</th>\n",
       "      <td>201-500</td>\n",
       "      <td>12</td>\n",
       "    </tr>\n",
       "    <tr>\n",
       "      <th>4</th>\n",
       "      <td>501-1000</td>\n",
       "      <td>7</td>\n",
       "    </tr>\n",
       "    <tr>\n",
       "      <th>5</th>\n",
       "      <td>51-200</td>\n",
       "      <td>52</td>\n",
       "    </tr>\n",
       "  </tbody>\n",
       "</table>\n",
       "</div>"
      ],
      "text/plain": [
       "  company_size  name\n",
       "0         1-15    93\n",
       "1        1000+    15\n",
       "2        15-50    69\n",
       "3      201-500    12\n",
       "4     501-1000     7\n",
       "5       51-200    52"
      ]
     },
     "execution_count": 7,
     "metadata": {},
     "output_type": "execute_result"
    }
   ],
   "source": [
    "technology = 'Python'\n",
    "\n",
    "df_tech = df[df.tech == technology]\n",
    "result = df_tech[['company_size','name']].groupby('company_size').count().reset_index()\n",
    "\n",
    "result\n"
   ]
  },
  {
   "cell_type": "code",
   "execution_count": 8,
   "metadata": {},
   "outputs": [
    {
     "data": {
      "text/plain": [
       "Text(0, 0.5, 'Number of Companies')"
      ]
     },
     "execution_count": 8,
     "metadata": {},
     "output_type": "execute_result"
    },
    {
     "data": {
      "image/png": "[encoded data removed]",
      "text/plain": [
       "<Figure size 432x288 with 1 Axes>"
      ]
     },
     "metadata": {},
     "output_type": "display_data"
    }
   ],
   "source": [
    "sns.set(style=\"whitegrid\")\n",
    "plot = sns.barplot(data = result, \n",
    "            x = 'company_size', \n",
    "            y = 'name')\n",
    "\n",
    "# use better labels to communicate the result\n",
    "plot.set_title(f\"Number of companies vs company sizes that offer '{technology}' Tech Stack \")\n",
    "plot.set_xlabel(\"Company Size\")\n",
    "plot.set_ylabel(\"Number of Companies\")"
   ]
  },
  {
   "cell_type": "markdown",
   "metadata": {},
   "source": [
    "Companies size (i.e.how many employees) under 50 use Python as their Technology stack. "
   ]
  },
  {
   "cell_type": "markdown",
   "metadata": {},
   "source": [
    "### Microsoft Azure"
   ]
  },
  {
   "cell_type": "code",
   "execution_count": 9,
   "metadata": {},
   "outputs": [
    {
     "data": {
      "text/html": [
       "<div>\n",
       "<style scoped>\n",
       "    .dataframe tbody tr th:only-of-type {\n",
       "        vertical-align: middle;\n",
       "    }\n",
       "\n",
       "    .dataframe tbody tr th {\n",
       "        vertical-align: top;\n",
       "    }\n",
       "\n",
       "    .dataframe thead th {\n",
       "        text-align: right;\n",
       "    }\n",
       "</style>\n",
       "<table border=\"1\" class=\"dataframe\">\n",
       "  <thead>\n",
       "    <tr style=\"text-align: right;\">\n",
       "      <th></th>\n",
       "      <th>company_size</th>\n",
       "      <th>name</th>\n",
       "    </tr>\n",
       "  </thead>\n",
       "  <tbody>\n",
       "    <tr>\n",
       "      <th>0</th>\n",
       "      <td>1-15</td>\n",
       "      <td>69</td>\n",
       "    </tr>\n",
       "    <tr>\n",
       "      <th>1</th>\n",
       "      <td>1000+</td>\n",
       "      <td>17</td>\n",
       "    </tr>\n",
       "    <tr>\n",
       "      <th>2</th>\n",
       "      <td>15-50</td>\n",
       "      <td>57</td>\n",
       "    </tr>\n",
       "    <tr>\n",
       "      <th>3</th>\n",
       "      <td>201-500</td>\n",
       "      <td>7</td>\n",
       "    </tr>\n",
       "    <tr>\n",
       "      <th>4</th>\n",
       "      <td>501-1000</td>\n",
       "      <td>11</td>\n",
       "    </tr>\n",
       "    <tr>\n",
       "      <th>5</th>\n",
       "      <td>51-200</td>\n",
       "      <td>55</td>\n",
       "    </tr>\n",
       "  </tbody>\n",
       "</table>\n",
       "</div>"
      ],
      "text/plain": [
       "  company_size  name\n",
       "0         1-15    69\n",
       "1        1000+    17\n",
       "2        15-50    57\n",
       "3      201-500     7\n",
       "4     501-1000    11\n",
       "5       51-200    55"
      ]
     },
     "execution_count": 9,
     "metadata": {},
     "output_type": "execute_result"
    }
   ],
   "source": [
    "technology = 'Microsoft Azure'\n",
    "\n",
    "df_tech = df[df.tech == technology]\n",
    "result = df_tech[['company_size','name']].groupby('company_size').count().reset_index()\n",
    "\n",
    "result"
   ]
  },
  {
   "cell_type": "code",
   "execution_count": 10,
   "metadata": {},
   "outputs": [
    {
     "data": {
      "text/plain": [
       "Text(0, 0.5, 'Number of Companies')"
      ]
     },
     "execution_count": 10,
     "metadata": {},
     "output_type": "execute_result"
    },
    {
     "data": {
      "image/png": "[encoded data removed]",
      "text/plain": [
       "<Figure size 432x288 with 1 Axes>"
      ]
     },
     "metadata": {},
     "output_type": "display_data"
    }
   ],
   "source": [
    "sns.set(style=\"whitegrid\")\n",
    "plot = sns.barplot(data = result, \n",
    "            x = 'company_size', \n",
    "            y = 'name')\n",
    "\n",
    "# use better labels to communicate the result\n",
    "plot.set_title(f\"Number of companies vs company sizes that offer '{technology}' Tech Stack \")\n",
    "plot.set_xlabel(\"Company Size\")\n",
    "plot.set_ylabel(\"Number of Companies\")"
   ]
  },
  {
   "cell_type": "markdown",
   "metadata": {},
   "source": [
    "### R"
   ]
  },
  {
   "cell_type": "code",
   "execution_count": 11,
   "metadata": {},
   "outputs": [
    {
     "data": {
      "text/html": [
       "<div>\n",
       "<style scoped>\n",
       "    .dataframe tbody tr th:only-of-type {\n",
       "        vertical-align: middle;\n",
       "    }\n",
       "\n",
       "    .dataframe tbody tr th {\n",
       "        vertical-align: top;\n",
       "    }\n",
       "\n",
       "    .dataframe thead th {\n",
       "        text-align: right;\n",
       "    }\n",
       "</style>\n",
       "<table border=\"1\" class=\"dataframe\">\n",
       "  <thead>\n",
       "    <tr style=\"text-align: right;\">\n",
       "      <th></th>\n",
       "      <th>company_size</th>\n",
       "      <th>name</th>\n",
       "    </tr>\n",
       "  </thead>\n",
       "  <tbody>\n",
       "    <tr>\n",
       "      <th>0</th>\n",
       "      <td>1-15</td>\n",
       "      <td>7</td>\n",
       "    </tr>\n",
       "    <tr>\n",
       "      <th>1</th>\n",
       "      <td>1000+</td>\n",
       "      <td>4</td>\n",
       "    </tr>\n",
       "    <tr>\n",
       "      <th>2</th>\n",
       "      <td>15-50</td>\n",
       "      <td>2</td>\n",
       "    </tr>\n",
       "    <tr>\n",
       "      <th>3</th>\n",
       "      <td>201-500</td>\n",
       "      <td>2</td>\n",
       "    </tr>\n",
       "    <tr>\n",
       "      <th>4</th>\n",
       "      <td>501-1000</td>\n",
       "      <td>1</td>\n",
       "    </tr>\n",
       "    <tr>\n",
       "      <th>5</th>\n",
       "      <td>51-200</td>\n",
       "      <td>7</td>\n",
       "    </tr>\n",
       "  </tbody>\n",
       "</table>\n",
       "</div>"
      ],
      "text/plain": [
       "  company_size  name\n",
       "0         1-15     7\n",
       "1        1000+     4\n",
       "2        15-50     2\n",
       "3      201-500     2\n",
       "4     501-1000     1\n",
       "5       51-200     7"
      ]
     },
     "execution_count": 11,
     "metadata": {},
     "output_type": "execute_result"
    }
   ],
   "source": [
    "technology = 'R'\n",
    "\n",
    "df_tech = df[df.tech == technology]\n",
    "result = df_tech[['company_size','name']].groupby('company_size').count().reset_index()\n",
    "\n",
    "result"
   ]
  },
  {
   "cell_type": "code",
   "execution_count": 12,
   "metadata": {},
   "outputs": [
    {
     "data": {
      "text/plain": [
       "Text(0, 0.5, 'Number of Companies')"
      ]
     },
     "execution_count": 12,
     "metadata": {},
     "output_type": "execute_result"
    },
    {
     "data": {
      "image/png": "[encoded data removed]",
      "text/plain": [
       "<Figure size 432x288 with 1 Axes>"
      ]
     },
     "metadata": {},
     "output_type": "display_data"
    }
   ],
   "source": [
    "sns.set(style=\"whitegrid\")\n",
    "plot = sns.barplot(data = result, \n",
    "            x = 'company_size', \n",
    "            y = 'name')\n",
    "\n",
    "# use better labels to communicate the result\n",
    "plot.set_title(f\"Number of companies vs company sizes that offer '{technology}' Tech Stack \")\n",
    "plot.set_xlabel(\"Company Size\")\n",
    "plot.set_ylabel(\"Number of Companies\")"
   ]
  },
  {
   "cell_type": "markdown",
   "metadata": {},
   "source": [
    "### Google App Engine"
   ]
  },
  {
   "cell_type": "code",
   "execution_count": 13,
   "metadata": {},
   "outputs": [
    {
     "data": {
      "text/html": [
       "<div>\n",
       "<style scoped>\n",
       "    .dataframe tbody tr th:only-of-type {\n",
       "        vertical-align: middle;\n",
       "    }\n",
       "\n",
       "    .dataframe tbody tr th {\n",
       "        vertical-align: top;\n",
       "    }\n",
       "\n",
       "    .dataframe thead th {\n",
       "        text-align: right;\n",
       "    }\n",
       "</style>\n",
       "<table border=\"1\" class=\"dataframe\">\n",
       "  <thead>\n",
       "    <tr style=\"text-align: right;\">\n",
       "      <th></th>\n",
       "      <th>company_size</th>\n",
       "      <th>name</th>\n",
       "    </tr>\n",
       "  </thead>\n",
       "  <tbody>\n",
       "    <tr>\n",
       "      <th>0</th>\n",
       "      <td>1-15</td>\n",
       "      <td>46</td>\n",
       "    </tr>\n",
       "    <tr>\n",
       "      <th>1</th>\n",
       "      <td>15-50</td>\n",
       "      <td>17</td>\n",
       "    </tr>\n",
       "    <tr>\n",
       "      <th>2</th>\n",
       "      <td>201-500</td>\n",
       "      <td>2</td>\n",
       "    </tr>\n",
       "    <tr>\n",
       "      <th>3</th>\n",
       "      <td>51-200</td>\n",
       "      <td>5</td>\n",
       "    </tr>\n",
       "  </tbody>\n",
       "</table>\n",
       "</div>"
      ],
      "text/plain": [
       "  company_size  name\n",
       "0         1-15    46\n",
       "1        15-50    17\n",
       "2      201-500     2\n",
       "3       51-200     5"
      ]
     },
     "execution_count": 13,
     "metadata": {},
     "output_type": "execute_result"
    }
   ],
   "source": [
    "technology = 'Google App Engine'\n",
    "\n",
    "df_tech = df[df.tech == technology]\n",
    "result = df_tech[['company_size','name']].groupby('company_size').count().reset_index()\n",
    "\n",
    "result"
   ]
  },
  {
   "cell_type": "code",
   "execution_count": 14,
   "metadata": {},
   "outputs": [
    {
     "data": {
      "text/plain": [
       "Text(0, 0.5, 'Number of Companies')"
      ]
     },
     "execution_count": 14,
     "metadata": {},
     "output_type": "execute_result"
    },
    {
     "data": {
      "image/png": "[encoded data removed]",
      "text/plain": [
       "<Figure size 432x288 with 1 Axes>"
      ]
     },
     "metadata": {},
     "output_type": "display_data"
    }
   ],
   "source": [
    "sns.set(style=\"whitegrid\")\n",
    "plot = sns.barplot(data = result, \n",
    "            x = 'company_size', \n",
    "            y = 'name')\n",
    "\n",
    "# use better labels to communicate the result\n",
    "plot.set_title(f\"Number of companies vs company sizes that offer '{technology}' Tech Stack \")\n",
    "plot.set_xlabel(\"Company Size\")\n",
    "plot.set_ylabel(\"Number of Companies\")"
   ]
  },
  {
   "cell_type": "markdown",
   "metadata": {},
   "source": [
    "## Improvements\n",
    "\n",
    "Let's start to make improvements. We will go through them one by one. We will also use one block for each improvement because it is better to view the changes in the visualizes instead of the DataFrame objects\n",
    "\n",
    "### Ordering the X-Axis\n",
    "Here we reorder the data so that it makes sense on the X-Axis."
   ]
  },
  {
   "cell_type": "code",
   "execution_count": null,
   "metadata": {
    "scrolled": true
   },
   "outputs": [],
   "source": [
    "import re\n",
    "\n",
    "technology = 'Java'\n",
    "\n",
    "df_tech = df[df.tech == technology]\n",
    "result = df_tech[['company_size','name']].groupby('company_size').count().reset_index()\n",
    "\n",
    "# This \n",
    "result['sorted'] = result['company_size'].str.extract('(\\d{0,})', expand = True).astype(int)\n",
    "result = result.sort_values('sorted')\n",
    "result\n",
    "\n",
    "sns.set(style=\"whitegrid\")\n",
    "plot = sns.barplot(data = result, \n",
    "            x = 'company_size', \n",
    "            y = 'name')"
   ]
  },
  {
   "cell_type": "markdown",
   "metadata": {},
   "source": [
    "### Changing the Color Scheme\n",
    "\n",
    "Here we change the color scheme because we want to show that high and low values are not really important to us."
   ]
  },
  {
   "cell_type": "code",
   "execution_count": null,
   "metadata": {},
   "outputs": [],
   "source": [
    "import re\n",
    "\n",
    "technology = 'Java'\n",
    "\n",
    "df_tech = df[df.tech == technology]\n",
    "result = df_tech[['company_size','name']].groupby('company_size').count().reset_index()\n",
    "\n",
    "# This \n",
    "result['sorted'] = result['company_size'].str.extract('(\\d{0,})', expand = True).astype(int)\n",
    "result = result.sort_values('sorted')\n",
    "result\n",
    "\n",
    "sns.set(style=\"whitegrid\")\n",
    "plot = sns.barplot(data = result, \n",
    "            x = 'company_size', \n",
    "            y = 'name',\n",
    "            palette = sns.crayon_palette([\"Navy Blue\"]))"
   ]
  },
  {
   "cell_type": "markdown",
   "metadata": {},
   "source": [
    "### Using Better Labels\n",
    "\n",
    "Here we want to use better labels to communicate the intent "
   ]
  },
  {
   "cell_type": "code",
   "execution_count": null,
   "metadata": {
    "scrolled": true
   },
   "outputs": [],
   "source": [
    "sns.set(style=\"whitegrid\")\n",
    "plot = sns.barplot(data = result, \n",
    "            x = 'company_size', \n",
    "            y = 'name',\n",
    "           palette = sns.crayon_palette([\"Navy Blue\"]))\n",
    "\n",
    "plot.set_title(f\"Number of companies vs company sizes that offer the Tech Stack '{technology}'\")\n",
    "plot.set_xlabel(\"Company Size\")\n",
    "plot.set_ylabel(\"Number of Companies\")"
   ]
  }
 ],
 "metadata": {
  "kernelspec": {
   "display_name": "Python 3",
   "language": "python",
   "name": "python3"
  },
  "language_info": {
   "codemirror_mode": {
    "name": "ipython",
    "version": 3
   },
   "file_extension": ".py",
   "mimetype": "text/x-python",
   "name": "python",
   "nbconvert_exporter": "python",
   "pygments_lexer": "ipython3",
   "version": "3.7.1"
  }
 },
 "nbformat": 4,
 "nbformat_minor": 2
}

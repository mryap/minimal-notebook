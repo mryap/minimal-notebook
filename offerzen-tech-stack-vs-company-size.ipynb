{
 "cells": [
  {
   "cell_type": "markdown",
   "metadata": {},
   "source": [
    "# Offerzen Tech Stacks vs Company Size\n",
    "\n",
    "> The purpose of this notebook is to be able to show the company size for any tech stack being offered in the offerzen public dataset.\n",
    "\n",
    "## Installing Packages\n",
    "\n",
    "First we need to install `pandas` on our docker instance."
   ]
  },
  {
   "cell_type": "code",
   "execution_count": null,
   "metadata": {
    "scrolled": true
   },
   "outputs": [],
   "source": [
    "import sys\n",
    "!{sys.executable} -m pip install pandas matplotlib seaborn"
   ]
  },
  {
   "cell_type": "code",
   "execution_count": null,
   "metadata": {},
   "outputs": [],
   "source": [
    "import pandas as pd\n",
    "from matplotlib import pyplot as plt\n",
    "import seaborn as sns\n",
    "\n",
    "%matplotlib inline"
   ]
  },
  {
   "cell_type": "code",
   "execution_count": null,
   "metadata": {},
   "outputs": [],
   "source": [
    "df = pd.read_json('offerzen_company_size.json')\n",
    "df"
   ]
  },
  {
   "cell_type": "markdown",
   "metadata": {},
   "source": [
    "## List of Tech Stacks\n",
    "\n",
    "This is a snippet that can be used to determine which tech stacks are available to use"
   ]
  },
  {
   "cell_type": "code",
   "execution_count": null,
   "metadata": {},
   "outputs": [],
   "source": [
    "df.tech.unique()"
   ]
  },
  {
   "cell_type": "markdown",
   "metadata": {},
   "source": [
    "## Running the Visualization\n",
    "\n",
    "After determining the tech stack that you would like to see, you run the below to visualize the output\n",
    "\n",
    "> Try using different tech_stack values and see what gets generated."
   ]
  },
  {
   "cell_type": "code",
   "execution_count": null,
   "metadata": {},
   "outputs": [],
   "source": [
    "technology = 'Java'\n",
    "\n",
    "df_tech = df[df.tech == technology]\n",
    "result = df_tech[['company_size','name']].groupby('company_size').count().reset_index()\n",
    "\n",
    "result\n"
   ]
  },
  {
   "cell_type": "code",
   "execution_count": null,
   "metadata": {},
   "outputs": [],
   "source": [
    "sns.set(style=\"whitegrid\")\n",
    "plot = sns.barplot(data = result, \n",
    "            x = 'company_size', \n",
    "            y = 'name')\n",
    "# use better labels to communicate the result\n",
    "plot.set_title(f\"Number of companies vs company sizes that offer the Tech Stack '{technology}'\")\n",
    "plot.set_xlabel(\"Company Size\")\n",
    "plot.set_ylabel(\"Number of Companies\")"
   ]
  },
  {
   "cell_type": "markdown",
   "metadata": {},
   "source": [
    "### Python"
   ]
  },
  {
   "cell_type": "code",
   "execution_count": null,
   "metadata": {},
   "outputs": [],
   "source": [
    "technology = 'Python'\n",
    "\n",
    "df_tech = df[df.tech == technology]\n",
    "result = df_tech[['company_size','name']].groupby('company_size').count().reset_index()\n",
    "\n",
    "result\n"
   ]
  },
  {
   "cell_type": "code",
   "execution_count": null,
   "metadata": {},
   "outputs": [],
   "source": [
    "sns.set(style=\"whitegrid\")\n",
    "plot = sns.barplot(data = result, \n",
    "            x = 'company_size', \n",
    "            y = 'name')\n",
    "\n",
    "# use better labels to communicate the result\n",
    "plot.set_title(f\"Number of companies vs company sizes that offer the Tech Stack '{technology}'\")\n",
    "plot.set_xlabel(\"Company Size\")\n",
    "plot.set_ylabel(\"Number of Companies\")"
   ]
  },
  {
   "cell_type": "markdown",
   "metadata": {},
   "source": [
    "Companies size (i.e.how many employees) under 50 use Python as their Technology stack. "
   ]
  },
  {
   "cell_type": "markdown",
   "metadata": {},
   "source": [
    "### Microsoft Azure"
   ]
  },
  {
   "cell_type": "code",
   "execution_count": null,
   "metadata": {},
   "outputs": [],
   "source": [
    "technology = 'Microsoft Azure'\n",
    "\n",
    "df_tech = df[df.tech == technology]\n",
    "result = df_tech[['company_size','name']].groupby('company_size').count().reset_index()\n",
    "\n",
    "result"
   ]
  },
  {
   "cell_type": "code",
   "execution_count": null,
   "metadata": {},
   "outputs": [],
   "source": [
    "sns.set(style=\"whitegrid\")\n",
    "plot = sns.barplot(data = result, \n",
    "            x = 'company_size', \n",
    "            y = 'name')\n",
    "\n",
    "# use better labels to communicate the result\n",
    "plot.set_title(f\"Number of companies vs company sizes that offer the Tech Stack '{technology}'\")\n",
    "plot.set_xlabel(\"Company Size\")\n",
    "plot.set_ylabel(\"Number of Companies\")"
   ]
  },
  {
   "cell_type": "markdown",
   "metadata": {},
   "source": [
    "### R"
   ]
  },
  {
   "cell_type": "code",
   "execution_count": null,
   "metadata": {},
   "outputs": [],
   "source": [
    "technology = 'R'\n",
    "\n",
    "df_tech = df[df.tech == technology]\n",
    "result = df_tech[['company_size','name']].groupby('company_size').count().reset_index()\n",
    "\n",
    "result"
   ]
  },
  {
   "cell_type": "code",
   "execution_count": null,
   "metadata": {},
   "outputs": [],
   "source": [
    "sns.set(style=\"whitegrid\")\n",
    "plot = sns.barplot(data = result, \n",
    "            x = 'company_size', \n",
    "            y = 'name')\n",
    "\n",
    "# use better labels to communicate the result\n",
    "plot.set_title(f\"Number of companies vs company sizes that offer the Tech Stack '{technology}'\")\n",
    "plot.set_xlabel(\"Company Size\")\n",
    "plot.set_ylabel(\"Number of Companies\")"
   ]
  },
  {
   "cell_type": "markdown",
   "metadata": {},
   "source": [
    "### Google App Engine"
   ]
  },
  {
   "cell_type": "code",
   "execution_count": null,
   "metadata": {},
   "outputs": [],
   "source": [
    "technology = 'Google App Engine'\n",
    "\n",
    "df_tech = df[df.tech == technology]\n",
    "result = df_tech[['company_size','name']].groupby('company_size').count().reset_index()\n",
    "\n",
    "result"
   ]
  },
  {
   "cell_type": "code",
   "execution_count": null,
   "metadata": {},
   "outputs": [],
   "source": [
    "sns.set(style=\"whitegrid\")\n",
    "plot = sns.barplot(data = result, \n",
    "            x = 'company_size', \n",
    "            y = 'name')\n",
    "\n",
    "# use better labels to communicate the result\n",
    "plot.set_title(f\"Number of companies vs company sizes that offer the Tech Stack '{technology}'\")\n",
    "plot.set_xlabel(\"Company Size\")\n",
    "plot.set_ylabel(\"Number of Companies\")"
   ]
  },
  {
   "cell_type": "markdown",
   "metadata": {},
   "source": [
    "## Improvements\n",
    "\n",
    "Let's start to make improvements. We will go through them one by one. We will also use one block for each improvement because it is better to view the changes in the visualizes instead of the DataFrame objects\n",
    "\n",
    "### Ordering the X-Axis\n",
    "Here we reorder the data so that it makes sense on the X-Axis."
   ]
  },
  {
   "cell_type": "code",
   "execution_count": null,
   "metadata": {
    "scrolled": true
   },
   "outputs": [],
   "source": [
    "import re\n",
    "\n",
    "technology = 'Java'\n",
    "\n",
    "df_tech = df[df.tech == technology]\n",
    "result = df_tech[['company_size','name']].groupby('company_size').count().reset_index()\n",
    "\n",
    "# This \n",
    "result['sorted'] = result['company_size'].str.extract('(\\d{0,})', expand = True).astype(int)\n",
    "result = result.sort_values('sorted')\n",
    "result\n",
    "\n",
    "sns.set(style=\"whitegrid\")\n",
    "plot = sns.barplot(data = result, \n",
    "            x = 'company_size', \n",
    "            y = 'name')"
   ]
  },
  {
   "cell_type": "markdown",
   "metadata": {},
   "source": [
    "### Changing the Color Scheme\n",
    "\n",
    "Here we change the color scheme because we want to show that high and low values are not really important to us."
   ]
  },
  {
   "cell_type": "code",
   "execution_count": null,
   "metadata": {},
   "outputs": [],
   "source": [
    "import re\n",
    "\n",
    "technology = 'Java'\n",
    "\n",
    "df_tech = df[df.tech == technology]\n",
    "result = df_tech[['company_size','name']].groupby('company_size').count().reset_index()\n",
    "\n",
    "# This \n",
    "result['sorted'] = result['company_size'].str.extract('(\\d{0,})', expand = True).astype(int)\n",
    "result = result.sort_values('sorted')\n",
    "result\n",
    "\n",
    "sns.set(style=\"whitegrid\")\n",
    "plot = sns.barplot(data = result, \n",
    "            x = 'company_size', \n",
    "            y = 'name',\n",
    "            palette = sns.crayon_palette([\"Navy Blue\"]))"
   ]
  },
  {
   "cell_type": "markdown",
   "metadata": {},
   "source": [
    "### Using Better Labels\n",
    "\n",
    "Here we want to use better labels to communicate the intent "
   ]
  },
  {
   "cell_type": "code",
   "execution_count": null,
   "metadata": {
    "scrolled": true
   },
   "outputs": [],
   "source": [
    "sns.set(style=\"whitegrid\")\n",
    "plot = sns.barplot(data = result, \n",
    "            x = 'company_size', \n",
    "            y = 'name',\n",
    "           palette = sns.crayon_palette([\"Navy Blue\"]))\n",
    "\n",
    "plot.set_title(f\"Number of companies vs company sizes that offer the Tech Stack '{technology}'\")\n",
    "plot.set_xlabel(\"Company Size\")\n",
    "plot.set_ylabel(\"Number of Companies\")"
   ]
  }
 ],
 "metadata": {
  "kernelspec": {
   "display_name": "Python 3",
   "language": "python",
   "name": "python3"
  },
  "language_info": {
   "codemirror_mode": {
    "name": "ipython",
    "version": 3
   },
   "file_extension": ".py",
   "mimetype": "text/x-python",
   "name": "python",
   "nbconvert_exporter": "python",
   "pygments_lexer": "ipython3",
   "version": "3.7.1"
  }
 },
 "nbformat": 4,
 "nbformat_minor": 2
}

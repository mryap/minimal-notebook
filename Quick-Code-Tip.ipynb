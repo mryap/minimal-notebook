{
 "cells": [
  {
   "cell_type": "code",
   "execution_count": 3,
   "metadata": {},
   "outputs": [
    {
     "name": "stdout",
     "output_type": "stream",
     "text": [
      "sys.path = [\r\n",
      "    '/home/jovyan',\r\n",
      "    '/opt/conda/lib/python37.zip',\r\n",
      "    '/opt/conda/lib/python3.7',\r\n",
      "    '/opt/conda/lib/python3.7/lib-dynload',\r\n",
      "    '/opt/conda/lib/python3.7/site-packages',\r\n",
      "]\r\n",
      "USER_BASE: '/home/jovyan/.local' (exists)\r\n",
      "USER_SITE: '/home/jovyan/.local/lib/python3.7/site-packages' (doesn't exist)\r\n",
      "ENABLE_USER_SITE: True\r\n"
     ]
    }
   ],
   "source": [
    "!python -m site"
   ]
  },
  {
   "cell_type": "code",
   "execution_count": null,
   "metadata": {},
   "outputs": [],
   "source": []
  }
 ],
 "metadata": {
  "kernelspec": {
   "display_name": "Python 3",
   "language": "python",
   "name": "python3"
  },
  "language_info": {
   "codemirror_mode": {
    "name": "ipython",
    "version": 3
   },
   "file_extension": ".py",
   "mimetype": "text/x-python",
   "name": "python",
   "nbconvert_exporter": "python",
   "pygments_lexer": "ipython3",
   "version": "3.7.1"
  }
 },
 "nbformat": 4,
 "nbformat_minor": 2
}
